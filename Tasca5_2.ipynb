{
 "cells": [
  {
   "cell_type": "markdown",
   "id": "7b73e8c6-f615-4791-b5b9-8239624ba03b",
   "metadata": {},
   "source": [
    "# EXPLORACION DATA ANALISIS (EDA)"
   ]
  },
  {
   "cell_type": "markdown",
   "id": "1d173685-5f63-476f-84f7-d14445812bd0",
   "metadata": {},
   "source": [
    "## 1. Importación de Bibliotecas"
   ]
  },
  {
   "cell_type": "code",
   "execution_count": 3,
   "id": "4ee3aa47-b726-4c29-b6c3-cfe089f2769f",
   "metadata": {},
   "outputs": [
    {
     "name": "stdout",
     "output_type": "stream",
     "text": [
      "Requirement already satisfied: sweetviz in c:\\users\\aprats\\appdata\\local\\anaconda3\\lib\\site-packages (2.3.1)\n",
      "Requirement already satisfied: pandas!=1.0.0,!=1.0.1,!=1.0.2,>=0.25.3 in c:\\users\\aprats\\appdata\\local\\anaconda3\\lib\\site-packages (from sweetviz) (2.2.2)\n",
      "Requirement already satisfied: numpy>=1.16.0 in c:\\users\\aprats\\appdata\\local\\anaconda3\\lib\\site-packages (from sweetviz) (1.26.4)\n",
      "Requirement already satisfied: matplotlib>=3.1.3 in c:\\users\\aprats\\appdata\\local\\anaconda3\\lib\\site-packages (from sweetviz) (3.9.2)\n",
      "Requirement already satisfied: tqdm>=4.43.0 in c:\\users\\aprats\\appdata\\local\\anaconda3\\lib\\site-packages (from sweetviz) (4.66.5)\n",
      "Requirement already satisfied: scipy>=1.3.2 in c:\\users\\aprats\\appdata\\local\\anaconda3\\lib\\site-packages (from sweetviz) (1.13.1)\n",
      "Requirement already satisfied: jinja2>=2.11.1 in c:\\users\\aprats\\appdata\\local\\anaconda3\\lib\\site-packages (from sweetviz) (3.1.4)\n",
      "Requirement already satisfied: importlib-resources>=1.2.0 in c:\\users\\aprats\\appdata\\local\\anaconda3\\lib\\site-packages (from sweetviz) (6.4.5)\n",
      "Requirement already satisfied: MarkupSafe>=2.0 in c:\\users\\aprats\\appdata\\local\\anaconda3\\lib\\site-packages (from jinja2>=2.11.1->sweetviz) (2.1.3)\n",
      "Requirement already satisfied: contourpy>=1.0.1 in c:\\users\\aprats\\appdata\\local\\anaconda3\\lib\\site-packages (from matplotlib>=3.1.3->sweetviz) (1.2.0)\n",
      "Requirement already satisfied: cycler>=0.10 in c:\\users\\aprats\\appdata\\local\\anaconda3\\lib\\site-packages (from matplotlib>=3.1.3->sweetviz) (0.11.0)\n",
      "Requirement already satisfied: fonttools>=4.22.0 in c:\\users\\aprats\\appdata\\local\\anaconda3\\lib\\site-packages (from matplotlib>=3.1.3->sweetviz) (4.51.0)\n",
      "Requirement already satisfied: kiwisolver>=1.3.1 in c:\\users\\aprats\\appdata\\local\\anaconda3\\lib\\site-packages (from matplotlib>=3.1.3->sweetviz) (1.4.4)\n",
      "Requirement already satisfied: packaging>=20.0 in c:\\users\\aprats\\appdata\\roaming\\python\\python312\\site-packages (from matplotlib>=3.1.3->sweetviz) (24.0)\n",
      "Requirement already satisfied: pillow>=8 in c:\\users\\aprats\\appdata\\local\\anaconda3\\lib\\site-packages (from matplotlib>=3.1.3->sweetviz) (10.4.0)\n",
      "Requirement already satisfied: pyparsing>=2.3.1 in c:\\users\\aprats\\appdata\\local\\anaconda3\\lib\\site-packages (from matplotlib>=3.1.3->sweetviz) (3.1.2)\n",
      "Requirement already satisfied: python-dateutil>=2.7 in c:\\users\\aprats\\appdata\\roaming\\python\\python312\\site-packages (from matplotlib>=3.1.3->sweetviz) (2.9.0.post0)\n",
      "Requirement already satisfied: pytz>=2020.1 in c:\\users\\aprats\\appdata\\local\\anaconda3\\lib\\site-packages (from pandas!=1.0.0,!=1.0.1,!=1.0.2,>=0.25.3->sweetviz) (2024.1)\n",
      "Requirement already satisfied: tzdata>=2022.7 in c:\\users\\aprats\\appdata\\local\\anaconda3\\lib\\site-packages (from pandas!=1.0.0,!=1.0.1,!=1.0.2,>=0.25.3->sweetviz) (2023.3)\n",
      "Requirement already satisfied: colorama in c:\\users\\aprats\\appdata\\roaming\\python\\python312\\site-packages (from tqdm>=4.43.0->sweetviz) (0.4.6)\n",
      "Requirement already satisfied: six>=1.5 in c:\\users\\aprats\\appdata\\roaming\\python\\python312\\site-packages (from python-dateutil>=2.7->matplotlib>=3.1.3->sweetviz) (1.16.0)\n"
     ]
    }
   ],
   "source": [
    "import pandas as pd\n",
    "import numpy as np\n",
    "import matplotlib.pyplot as plt\n",
    "import seaborn as sns\n",
    "!pip install sweetviz\n",
    "import sweetviz as sv"
   ]
  },
  {
   "cell_type": "markdown",
   "id": "6dea2a3b-2e8b-40e2-9b32-60ed99a43b89",
   "metadata": {},
   "source": [
    "### Cargando los datos"
   ]
  },
  {
   "cell_type": "code",
   "execution_count": 5,
   "id": "baaebd40-0dbb-4e47-b44c-0c604b4224a0",
   "metadata": {},
   "outputs": [],
   "source": [
    "df = pd.read_csv(\"C:/Users/aprats/OneDrive - Fundacio privada quiropractica/VARIOS/AP Personal/ML/bank_dataset.CSV\")"
   ]
  },
  {
   "cell_type": "markdown",
   "id": "91f9e8ff-049e-4d4f-bc65-018b381b5db8",
   "metadata": {},
   "source": [
    "### Muestra de las primeras filas"
   ]
  },
  {
   "cell_type": "code",
   "execution_count": 7,
   "id": "4c56d894-f109-487e-801f-439e78575cef",
   "metadata": {
    "scrolled": true
   },
   "outputs": [
    {
     "data": {
      "text/html": [
       "<div>\n",
       "<style scoped>\n",
       "    .dataframe tbody tr th:only-of-type {\n",
       "        vertical-align: middle;\n",
       "    }\n",
       "\n",
       "    .dataframe tbody tr th {\n",
       "        vertical-align: top;\n",
       "    }\n",
       "\n",
       "    .dataframe thead th {\n",
       "        text-align: right;\n",
       "    }\n",
       "</style>\n",
       "<table border=\"1\" class=\"dataframe\">\n",
       "  <thead>\n",
       "    <tr style=\"text-align: right;\">\n",
       "      <th></th>\n",
       "      <th>age</th>\n",
       "      <th>job</th>\n",
       "      <th>marital</th>\n",
       "      <th>education</th>\n",
       "      <th>default</th>\n",
       "      <th>balance</th>\n",
       "      <th>housing</th>\n",
       "      <th>loan</th>\n",
       "      <th>contact</th>\n",
       "      <th>day</th>\n",
       "      <th>month</th>\n",
       "      <th>duration</th>\n",
       "      <th>campaign</th>\n",
       "      <th>pdays</th>\n",
       "      <th>previous</th>\n",
       "      <th>poutcome</th>\n",
       "      <th>deposit</th>\n",
       "    </tr>\n",
       "  </thead>\n",
       "  <tbody>\n",
       "    <tr>\n",
       "      <th>0</th>\n",
       "      <td>59.0</td>\n",
       "      <td>admin.</td>\n",
       "      <td>married</td>\n",
       "      <td>secondary</td>\n",
       "      <td>no</td>\n",
       "      <td>2343</td>\n",
       "      <td>yes</td>\n",
       "      <td>no</td>\n",
       "      <td>unknown</td>\n",
       "      <td>5</td>\n",
       "      <td>may</td>\n",
       "      <td>1042</td>\n",
       "      <td>1</td>\n",
       "      <td>-1</td>\n",
       "      <td>0</td>\n",
       "      <td>unknown</td>\n",
       "      <td>yes</td>\n",
       "    </tr>\n",
       "    <tr>\n",
       "      <th>1</th>\n",
       "      <td>56.0</td>\n",
       "      <td>admin.</td>\n",
       "      <td>married</td>\n",
       "      <td>secondary</td>\n",
       "      <td>no</td>\n",
       "      <td>45</td>\n",
       "      <td>no</td>\n",
       "      <td>no</td>\n",
       "      <td>unknown</td>\n",
       "      <td>5</td>\n",
       "      <td>may</td>\n",
       "      <td>1467</td>\n",
       "      <td>1</td>\n",
       "      <td>-1</td>\n",
       "      <td>0</td>\n",
       "      <td>unknown</td>\n",
       "      <td>yes</td>\n",
       "    </tr>\n",
       "    <tr>\n",
       "      <th>2</th>\n",
       "      <td>41.0</td>\n",
       "      <td>technician</td>\n",
       "      <td>married</td>\n",
       "      <td>secondary</td>\n",
       "      <td>no</td>\n",
       "      <td>1270</td>\n",
       "      <td>yes</td>\n",
       "      <td>no</td>\n",
       "      <td>unknown</td>\n",
       "      <td>5</td>\n",
       "      <td>may</td>\n",
       "      <td>1389</td>\n",
       "      <td>1</td>\n",
       "      <td>-1</td>\n",
       "      <td>0</td>\n",
       "      <td>unknown</td>\n",
       "      <td>yes</td>\n",
       "    </tr>\n",
       "    <tr>\n",
       "      <th>3</th>\n",
       "      <td>55.0</td>\n",
       "      <td>services</td>\n",
       "      <td>married</td>\n",
       "      <td>secondary</td>\n",
       "      <td>no</td>\n",
       "      <td>2476</td>\n",
       "      <td>yes</td>\n",
       "      <td>no</td>\n",
       "      <td>unknown</td>\n",
       "      <td>5</td>\n",
       "      <td>may</td>\n",
       "      <td>579</td>\n",
       "      <td>1</td>\n",
       "      <td>-1</td>\n",
       "      <td>0</td>\n",
       "      <td>unknown</td>\n",
       "      <td>yes</td>\n",
       "    </tr>\n",
       "    <tr>\n",
       "      <th>4</th>\n",
       "      <td>54.0</td>\n",
       "      <td>admin.</td>\n",
       "      <td>married</td>\n",
       "      <td>tertiary</td>\n",
       "      <td>no</td>\n",
       "      <td>184</td>\n",
       "      <td>no</td>\n",
       "      <td>no</td>\n",
       "      <td>unknown</td>\n",
       "      <td>5</td>\n",
       "      <td>may</td>\n",
       "      <td>673</td>\n",
       "      <td>2</td>\n",
       "      <td>-1</td>\n",
       "      <td>0</td>\n",
       "      <td>unknown</td>\n",
       "      <td>yes</td>\n",
       "    </tr>\n",
       "  </tbody>\n",
       "</table>\n",
       "</div>"
      ],
      "text/plain": [
       "    age         job  marital  education default  balance housing loan  \\\n",
       "0  59.0      admin.  married  secondary      no     2343     yes   no   \n",
       "1  56.0      admin.  married  secondary      no       45      no   no   \n",
       "2  41.0  technician  married  secondary      no     1270     yes   no   \n",
       "3  55.0    services  married  secondary      no     2476     yes   no   \n",
       "4  54.0      admin.  married   tertiary      no      184      no   no   \n",
       "\n",
       "   contact  day month  duration  campaign  pdays  previous poutcome deposit  \n",
       "0  unknown    5   may      1042         1     -1         0  unknown     yes  \n",
       "1  unknown    5   may      1467         1     -1         0  unknown     yes  \n",
       "2  unknown    5   may      1389         1     -1         0  unknown     yes  \n",
       "3  unknown    5   may       579         1     -1         0  unknown     yes  \n",
       "4  unknown    5   may       673         2     -1         0  unknown     yes  "
      ]
     },
     "execution_count": 7,
     "metadata": {},
     "output_type": "execute_result"
    }
   ],
   "source": [
    "df.head()"
   ]
  },
  {
   "cell_type": "markdown",
   "id": "4860993a-30a0-4f54-bace-5b2f7eacdd6c",
   "metadata": {},
   "source": [
    "### Información general del dataset"
   ]
  },
  {
   "cell_type": "code",
   "execution_count": 9,
   "id": "51db9abc-4a94-471d-8232-4fe5e9ccc254",
   "metadata": {
    "scrolled": true
   },
   "outputs": [
    {
     "name": "stdout",
     "output_type": "stream",
     "text": [
      "<class 'pandas.core.frame.DataFrame'>\n",
      "RangeIndex: 11162 entries, 0 to 11161\n",
      "Data columns (total 17 columns):\n",
      " #   Column     Non-Null Count  Dtype  \n",
      "---  ------     --------------  -----  \n",
      " 0   age        11152 non-null  float64\n",
      " 1   job        11162 non-null  object \n",
      " 2   marital    11157 non-null  object \n",
      " 3   education  11155 non-null  object \n",
      " 4   default    11162 non-null  object \n",
      " 5   balance    11162 non-null  int64  \n",
      " 6   housing    11162 non-null  object \n",
      " 7   loan       11162 non-null  object \n",
      " 8   contact    11162 non-null  object \n",
      " 9   day        11162 non-null  int64  \n",
      " 10  month      11162 non-null  object \n",
      " 11  duration   11162 non-null  int64  \n",
      " 12  campaign   11162 non-null  int64  \n",
      " 13  pdays      11162 non-null  int64  \n",
      " 14  previous   11162 non-null  int64  \n",
      " 15  poutcome   11162 non-null  object \n",
      " 16  deposit    11162 non-null  object \n",
      "dtypes: float64(1), int64(6), object(10)\n",
      "memory usage: 1.4+ MB\n"
     ]
    }
   ],
   "source": [
    "df.info()"
   ]
  },
  {
   "cell_type": "markdown",
   "id": "ee3af354-db4c-48c9-9612-7559dbc5a06b",
   "metadata": {},
   "source": [
    "### Descripción estadística del dataset"
   ]
  },
  {
   "cell_type": "code",
   "execution_count": 11,
   "id": "885925b2-b7a6-4245-8072-659c108906a1",
   "metadata": {},
   "outputs": [
    {
     "data": {
      "text/html": [
       "<div>\n",
       "<style scoped>\n",
       "    .dataframe tbody tr th:only-of-type {\n",
       "        vertical-align: middle;\n",
       "    }\n",
       "\n",
       "    .dataframe tbody tr th {\n",
       "        vertical-align: top;\n",
       "    }\n",
       "\n",
       "    .dataframe thead th {\n",
       "        text-align: right;\n",
       "    }\n",
       "</style>\n",
       "<table border=\"1\" class=\"dataframe\">\n",
       "  <thead>\n",
       "    <tr style=\"text-align: right;\">\n",
       "      <th></th>\n",
       "      <th>age</th>\n",
       "      <th>balance</th>\n",
       "      <th>day</th>\n",
       "      <th>duration</th>\n",
       "      <th>campaign</th>\n",
       "      <th>pdays</th>\n",
       "      <th>previous</th>\n",
       "    </tr>\n",
       "  </thead>\n",
       "  <tbody>\n",
       "    <tr>\n",
       "      <th>count</th>\n",
       "      <td>11152.000000</td>\n",
       "      <td>11162.000000</td>\n",
       "      <td>11162.000000</td>\n",
       "      <td>11162.000000</td>\n",
       "      <td>11162.000000</td>\n",
       "      <td>11162.000000</td>\n",
       "      <td>11162.000000</td>\n",
       "    </tr>\n",
       "    <tr>\n",
       "      <th>mean</th>\n",
       "      <td>41.235384</td>\n",
       "      <td>1528.538524</td>\n",
       "      <td>15.658036</td>\n",
       "      <td>371.993818</td>\n",
       "      <td>2.508421</td>\n",
       "      <td>51.330407</td>\n",
       "      <td>0.832557</td>\n",
       "    </tr>\n",
       "    <tr>\n",
       "      <th>std</th>\n",
       "      <td>11.914934</td>\n",
       "      <td>3225.413326</td>\n",
       "      <td>8.420740</td>\n",
       "      <td>347.128386</td>\n",
       "      <td>2.722077</td>\n",
       "      <td>108.758282</td>\n",
       "      <td>2.292007</td>\n",
       "    </tr>\n",
       "    <tr>\n",
       "      <th>min</th>\n",
       "      <td>18.000000</td>\n",
       "      <td>-6847.000000</td>\n",
       "      <td>1.000000</td>\n",
       "      <td>2.000000</td>\n",
       "      <td>1.000000</td>\n",
       "      <td>-1.000000</td>\n",
       "      <td>0.000000</td>\n",
       "    </tr>\n",
       "    <tr>\n",
       "      <th>25%</th>\n",
       "      <td>32.000000</td>\n",
       "      <td>122.000000</td>\n",
       "      <td>8.000000</td>\n",
       "      <td>138.000000</td>\n",
       "      <td>1.000000</td>\n",
       "      <td>-1.000000</td>\n",
       "      <td>0.000000</td>\n",
       "    </tr>\n",
       "    <tr>\n",
       "      <th>50%</th>\n",
       "      <td>39.000000</td>\n",
       "      <td>550.000000</td>\n",
       "      <td>15.000000</td>\n",
       "      <td>255.000000</td>\n",
       "      <td>2.000000</td>\n",
       "      <td>-1.000000</td>\n",
       "      <td>0.000000</td>\n",
       "    </tr>\n",
       "    <tr>\n",
       "      <th>75%</th>\n",
       "      <td>49.000000</td>\n",
       "      <td>1708.000000</td>\n",
       "      <td>22.000000</td>\n",
       "      <td>496.000000</td>\n",
       "      <td>3.000000</td>\n",
       "      <td>20.750000</td>\n",
       "      <td>1.000000</td>\n",
       "    </tr>\n",
       "    <tr>\n",
       "      <th>max</th>\n",
       "      <td>95.000000</td>\n",
       "      <td>81204.000000</td>\n",
       "      <td>31.000000</td>\n",
       "      <td>3881.000000</td>\n",
       "      <td>63.000000</td>\n",
       "      <td>854.000000</td>\n",
       "      <td>58.000000</td>\n",
       "    </tr>\n",
       "  </tbody>\n",
       "</table>\n",
       "</div>"
      ],
      "text/plain": [
       "                age       balance           day      duration      campaign  \\\n",
       "count  11152.000000  11162.000000  11162.000000  11162.000000  11162.000000   \n",
       "mean      41.235384   1528.538524     15.658036    371.993818      2.508421   \n",
       "std       11.914934   3225.413326      8.420740    347.128386      2.722077   \n",
       "min       18.000000  -6847.000000      1.000000      2.000000      1.000000   \n",
       "25%       32.000000    122.000000      8.000000    138.000000      1.000000   \n",
       "50%       39.000000    550.000000     15.000000    255.000000      2.000000   \n",
       "75%       49.000000   1708.000000     22.000000    496.000000      3.000000   \n",
       "max       95.000000  81204.000000     31.000000   3881.000000     63.000000   \n",
       "\n",
       "              pdays      previous  \n",
       "count  11162.000000  11162.000000  \n",
       "mean      51.330407      0.832557  \n",
       "std      108.758282      2.292007  \n",
       "min       -1.000000      0.000000  \n",
       "25%       -1.000000      0.000000  \n",
       "50%       -1.000000      0.000000  \n",
       "75%       20.750000      1.000000  \n",
       "max      854.000000     58.000000  "
      ]
     },
     "execution_count": 11,
     "metadata": {},
     "output_type": "execute_result"
    }
   ],
   "source": [
    "df.describe()"
   ]
  },
  {
   "cell_type": "markdown",
   "id": "a66abf20-c386-4ab6-9438-7d5d1f4c6b92",
   "metadata": {},
   "source": [
    "### Histograma de cada variable numérica"
   ]
  },
  {
   "cell_type": "raw",
   "id": "fcdf911e-1c16-445c-94e0-0638ceadc1de",
   "metadata": {},
   "source": [
    "df.hist(bins=30, figsize=(15, 10))\n",
    "plt.show()"
   ]
  },
  {
   "cell_type": "markdown",
   "id": "f4e66e02-b833-4b02-b97b-21dcd53b85ac",
   "metadata": {},
   "source": [
    "### 1.\tAnálisis descriptivo básico:\n",
    "Se exploraron las características del conjunto de datos para la obtención de la información general de las variables y su comportamiento, esto se realizó a través de estadísticas descriptivas y visualizaciones de la distribución de las variables numéricas (histogramas y gráﬁcos de distribución).\n"
   ]
  },
  {
   "cell_type": "markdown",
   "id": "d00f2d88-c794-45a0-97a8-57ce175942df",
   "metadata": {},
   "source": [
    "### Contar los valores de cada variable categórica"
   ]
  },
  {
   "cell_type": "code",
   "execution_count": 15,
   "id": "de2d00e9-e60b-431e-afe1-b55073d1e8c4",
   "metadata": {
    "scrolled": true
   },
   "outputs": [
    {
     "name": "stdout",
     "output_type": "stream",
     "text": [
      "job\n",
      "management       2566\n",
      "blue-collar      1944\n",
      "technician       1823\n",
      "admin.           1334\n",
      "services          923\n",
      "retired           778\n",
      "self-employed     405\n",
      "student           360\n",
      "unemployed        357\n",
      "entrepreneur      328\n",
      "housemaid         274\n",
      "unknown            70\n",
      "Name: count, dtype: int64\n",
      "marital\n",
      "married     6349\n",
      "single      3517\n",
      "divorced    1291\n",
      "Name: count, dtype: int64\n",
      "education\n",
      "secondary    5474\n",
      "tertiary     3685\n",
      "primary      1500\n",
      "unknown       496\n",
      "Name: count, dtype: int64\n",
      "default\n",
      "no     10994\n",
      "yes      168\n",
      "Name: count, dtype: int64\n",
      "housing\n",
      "no     5881\n",
      "yes    5281\n",
      "Name: count, dtype: int64\n",
      "loan\n",
      "no     9702\n",
      "yes    1460\n",
      "Name: count, dtype: int64\n",
      "contact\n",
      "cellular     8042\n",
      "unknown      2346\n",
      "telephone     774\n",
      "Name: count, dtype: int64\n",
      "month\n",
      "may    2824\n",
      "aug    1519\n",
      "jul    1514\n",
      "jun    1222\n",
      "nov     943\n",
      "apr     923\n",
      "feb     776\n",
      "oct     392\n",
      "jan     344\n",
      "sep     319\n",
      "mar     276\n",
      "dec     110\n",
      "Name: count, dtype: int64\n",
      "poutcome\n",
      "unknown    8326\n",
      "failure    1228\n",
      "success    1071\n",
      "other       537\n",
      "Name: count, dtype: int64\n",
      "deposit\n",
      "no     5873\n",
      "yes    5289\n",
      "Name: count, dtype: int64\n"
     ]
    }
   ],
   "source": [
    "for column in df.select_dtypes(include=['object']).columns:\n",
    "    print(df[column].value_counts())"
   ]
  },
  {
   "cell_type": "markdown",
   "id": "e555a382-6c50-4d9a-95b0-fedab17c6857",
   "metadata": {},
   "source": [
    "### Visualización de valores nulos"
   ]
  },
  {
   "cell_type": "code",
   "execution_count": 17,
   "id": "e1c9cd1b-535f-47cd-b7f8-232c44c04c21",
   "metadata": {},
   "outputs": [
    {
     "data": {
      "image/png": "[encoded data removed]",
      "text/plain": [
       "<Figure size 1200x800 with 1 Axes>"
      ]
     },
     "metadata": {},
     "output_type": "display_data"
    }
   ],
   "source": [
    "plt.figure(figsize=(12, 8))\n",
    "sns.heatmap(df.isnull(), cbar=False, cmap='viridis')\n",
    "plt.show()"
   ]
  },
  {
   "cell_type": "markdown",
   "id": "be167ca3-016a-45aa-8304-75a46d851c7e",
   "metadata": {},
   "source": [
    "### Contar Valores nulos por columnas"
   ]
  },
  {
   "cell_type": "code",
   "execution_count": 19,
   "id": "d61dd5e3-0316-4ac7-831b-015f8809677c",
   "metadata": {},
   "outputs": [
    {
     "data": {
      "text/plain": [
       "age          10\n",
       "job           0\n",
       "marital       5\n",
       "education     7\n",
       "default       0\n",
       "balance       0\n",
       "housing       0\n",
       "loan          0\n",
       "contact       0\n",
       "day           0\n",
       "month         0\n",
       "duration      0\n",
       "campaign      0\n",
       "pdays         0\n",
       "previous      0\n",
       "poutcome      0\n",
       "deposit       0\n",
       "dtype: int64"
      ]
     },
     "execution_count": 19,
     "metadata": {},
     "output_type": "execute_result"
    }
   ],
   "source": [
    "df.isnull().sum()"
   ]
  },
  {
   "cell_type": "markdown",
   "id": "5f4d0f5b-63da-4946-8449-35aa89f62cb8",
   "metadata": {},
   "source": [
    "### EDA Automatico con Sweetviz"
   ]
  },
  {
   "cell_type": "code",
   "execution_count": 21,
   "id": "faeb8f8e-da3f-4bd5-af09-7ec3a20ad20f",
   "metadata": {},
   "outputs": [
    {
     "data": {
      "application/vnd.jupyter.widget-view+json": {
       "model_id": "9ced2ca2f08d4953b2479b8bb95e49b5",
       "version_major": 2,
       "version_minor": 0
      },
      "text/plain": [
       "                                             |          | [  0%]   00:00 -> (? left)"
      ]
     },
     "metadata": {},
     "output_type": "display_data"
    },
    {
     "name": "stdout",
     "output_type": "stream",
     "text": [
      "Report EDA_report.html was generated! NOTEBOOK/COLAB USERS: the web browser MAY not pop up, regardless, the report IS saved in your notebook/colab files.\n"
     ]
    }
   ],
   "source": [
    "report = sv.analyze(df)\n",
    "report.show_html('EDA_report.html')"
   ]
  },
  {
   "cell_type": "markdown",
   "id": "28a8b60c-9275-4df9-bb0e-6c14d47eaeb4",
   "metadata": {},
   "source": [
    "### 2.Detección y gestión de valores faltantes:\n",
    "Se identiﬁcó que el conjunto de datos hay valores faltantes los cuales son: \n",
    "•\tage: 10 valores faltantes. \n",
    "•\tmarital: 5 valores faltantes. \n",
    "•\teducation: 7 valores faltantes.\n",
    "\n",
    "En el gráﬁco heatmap se visualiza los valores faltantes no son significativos, pero a pesar de ello se decide que estos valores sean gestionados o reemplazados por valores que se conseguirán a través de la mediana en el caso de “age” ya que es la más idónea al tratarse de datos numéricos ya que representa un valor central, lo cual no se verá afectado por outliers, en cambio si considero la media este valor podría estar influenciado por valores extremos y no nos conviene.\n",
    "En cuanto a los valores “marital” y “education”, al no tener un significado matemático no se puede calcular una media o una mediana, por esa principal razón se utiliza la moda, tomando así el valor más frecuente, manteniendo la coherencia y una fácil interpretación.\n",
    "\n"
   ]
  },
  {
   "cell_type": "markdown",
   "id": "af239da6-5a48-48eb-a303-ef714f277770",
   "metadata": {},
   "source": [
    "### Gestión de Valores Faltantes"
   ]
  },
  {
   "cell_type": "code",
   "execution_count": 24,
   "id": "9970b2fa-f6b9-487b-8f5d-a705952b70a6",
   "metadata": {},
   "outputs": [],
   "source": [
    "df['age'] = df['age'].fillna(df['age'].median())\n",
    "df['marital'] = df['marital'].fillna(df['marital'].mode()[0])\n",
    "df['education'] = df['education'].fillna(df['education'].mode()[0])\n",
    "\n"
   ]
  },
  {
   "cell_type": "code",
   "execution_count": 25,
   "id": "66976430-e1d7-4931-bc56-2a3624e67708",
   "metadata": {
    "scrolled": true
   },
   "outputs": [
    {
     "name": "stdout",
     "output_type": "stream",
     "text": [
      "age          0\n",
      "job          0\n",
      "marital      0\n",
      "education    0\n",
      "default      0\n",
      "balance      0\n",
      "housing      0\n",
      "loan         0\n",
      "contact      0\n",
      "day          0\n",
      "month        0\n",
      "duration     0\n",
      "campaign     0\n",
      "pdays        0\n",
      "previous     0\n",
      "poutcome     0\n",
      "deposit      0\n",
      "dtype: int64\n"
     ]
    }
   ],
   "source": [
    "print(df.isnull().sum())"
   ]
  },
  {
   "cell_type": "markdown",
   "id": "b37c39e9-0cbe-4c54-b9a0-35f12a487b2a",
   "metadata": {},
   "source": [
    "### Detección Outliers con Análisis Estadístico con IQR"
   ]
  },
  {
   "cell_type": "code",
   "execution_count": 27,
   "id": "7322ce7e-d6ce-4a33-984b-b53696b53e2a",
   "metadata": {
    "scrolled": true
   },
   "outputs": [
    {
     "name": "stdout",
     "output_type": "stream",
     "text": [
      "Outliers en age: 171\n",
      "Outliers en balance: 1055\n",
      "Outliers en day: 0\n",
      "Outliers en duration: 636\n",
      "Outliers en campaign: 601\n",
      "Outliers en pdays: 2750\n",
      "Outliers en previous: 1258\n"
     ]
    }
   ],
   "source": [
    "for col in df.select_dtypes(include=['float64', 'int64']):\n",
    "    Q1 = df[col].quantile(0.25)\n",
    "    Q3 = df[col].quantile(0.75)\n",
    "    IQR = Q3 - Q1\n",
    "    lower_bound = Q1 - 1.5 * IQR\n",
    "    upper_bound = Q3 + 1.5 * IQR\n",
    "    outliers = df[(df[col] < lower_bound) | (df[col] > upper_bound)]\n",
    "    print(f\"Outliers en {col}: {len(outliers)}\")\n",
    "\n"
   ]
  },
  {
   "cell_type": "markdown",
   "id": "04a45bfd-1af9-407c-b278-533b95da24e4",
   "metadata": {},
   "source": [
    "### Gráficos de caja"
   ]
  },
  {
   "cell_type": "code",
   "execution_count": 29,
   "id": "112b7225-f557-4984-8b0e-76d460f81987",
   "metadata": {},
   "outputs": [
    {
     "data": {
      "image/png": "[encoded data removed]",
      "text/plain": [
       "<Figure size 1500x1000 with 7 Axes>"
      ]
     },
     "metadata": {},
     "output_type": "display_data"
    }
   ],
   "source": [
    "import matplotlib.pyplot as plt\n",
    "import seaborn as sns\n",
    "\n",
    "numeric_columns = df.select_dtypes(include=['float64', 'int64']).columns\n",
    "\n",
    "plt.figure(figsize=(15, 10))\n",
    "for i, col in enumerate(numeric_columns, 1):\n",
    "    plt.subplot(2, len(numeric_columns)//2 + 1, i)\n",
    "    sns.boxplot(x=df[col])\n",
    "    plt.title(f\"Boxplot de {col}\")\n",
    "plt.tight_layout()\n",
    "plt.show()\n"
   ]
  },
  {
   "cell_type": "markdown",
   "id": "5f78be16-2891-4779-9d77-e3ff9f609d98",
   "metadata": {},
   "source": [
    "### Reemplazo de outliers con límites superiores e inferiores"
   ]
  },
  {
   "cell_type": "code",
   "execution_count": 31,
   "id": "80d2d84b-cf8a-46bd-8f90-ae9d883b8ca9",
   "metadata": {},
   "outputs": [],
   "source": [
    "for col in df.select_dtypes(include=['float64', 'int64']):\n",
    "    Q1 = df[col].quantile(0.25)\n",
    "    Q3 = df[col].quantile(0.75)\n",
    "    IQR = Q3 - Q1\n",
    "    lower_bound = Q1 - 1.5 * IQR\n",
    "    upper_bound = Q3 + 1.5 * IQR\n",
    "    df[col] = df[col].clip(lower=lower_bound, upper=upper_bound)\n"
   ]
  },
  {
   "cell_type": "markdown",
   "id": "9babbe24-b117-4e16-9fdf-e2e092c6b558",
   "metadata": {},
   "source": [
    "### 3.\tDetección y gestión de outliers:\n",
    "La decisión de utilizar IQR es por su robustez frente a distribuciones no normales\n",
    "Se utiliza el método IQR por su robustez, fácil aplicación y útil para detectar y gestionar outliers. Si se combina con bloxplots facilita la visualización y compresión de los resultados, ya que muestran los cuartiles, IQR y los outliers como puntos individuales fuera de los límites, permitiendo ver cual es la columna con más outliers, como por ejemplo se ve en el boxplot de la edad que se concentra entre los 30 y 50 años y a partir de los 70 hay algunos datos pero no son significativos, lo que determina que “age” tiene pocos outliers, las columnas como “balance”, “duration”, etc si tienen mayor cantidad de outliers, pero nuestro proyecto de predicción no se basa en estos datos por lo que no lo considero no representativos\n",
    "Teniendo en cuenta esto la gestión de los outliers se realiza por reemplazo con límites superiores e inferiores ya que reduce el impacto de los valores extremos que podrían sesgar mi modelo y además preserva los datos originales ajustándolos dentro de un límite\n"
   ]
  },
  {
   "cell_type": "markdown",
   "id": "808cba1b-fae2-4abf-833c-1d39eba0dd2f",
   "metadata": {},
   "source": [
    "## Interpretación intermedia"
   ]
  },
  {
   "cell_type": "code",
   "execution_count": 47,
   "id": "92ebdd57-3c6e-49e3-8365-dde41b365299",
   "metadata": {
    "scrolled": true
   },
   "outputs": [
    {
     "name": "stdout",
     "output_type": "stream",
     "text": [
      "                age       balance           day      duration      campaign  \\\n",
      "count  11162.000000  11162.000000  11162.000000  11162.000000  11162.000000   \n",
      "mean      41.153781   1117.352804     15.658036    352.948486      2.238577   \n",
      "std       11.655459   1349.670734      8.420740    284.714889      1.521158   \n",
      "min       18.000000  -2257.000000      1.000000      2.000000      1.000000   \n",
      "25%       32.000000    122.000000      8.000000    138.000000      1.000000   \n",
      "50%       39.000000    550.000000     15.000000    255.000000      2.000000   \n",
      "75%       49.000000   1708.000000     22.000000    496.000000      3.000000   \n",
      "max       74.500000   4087.000000     31.000000   1033.000000      6.000000   \n",
      "\n",
      "              pdays      previous  target_encoded  \n",
      "count  11162.000000  11162.000000    11162.000000  \n",
      "mean      12.578413      0.485397        0.473840  \n",
      "std       23.466393      0.892563        0.499338  \n",
      "min       -1.000000      0.000000        0.000000  \n",
      "25%       -1.000000      0.000000        0.000000  \n",
      "50%       -1.000000      0.000000        0.000000  \n",
      "75%       20.750000      1.000000        1.000000  \n",
      "max       53.375000      2.500000        1.000000  \n",
      "La variable 'age' tiene una media de 41.15378068446515 y una mediana de 39.0 , lo cual indica que la distribución puede estar sesgada.\n"
     ]
    }
   ],
   "source": [
    "descriptive_stats = df.describe()\n",
    "print(descriptive_stats)\n",
    "print(\"La variable 'age' tiene una media de\", df['age'].mean(), \n",
    "      \"y una mediana de\", df['age'].median(), \n",
    "      \", lo cual indica que la distribución puede estar sesgada.\")\n"
   ]
  },
  {
   "cell_type": "code",
   "execution_count": 49,
   "id": "6ee116bc-4b5e-4e5f-8e54-d7fa0a8dc841",
   "metadata": {},
   "outputs": [
    {
     "data": {
      "image/png": "[encoded data removed]",
      "text/plain": [
       "<Figure size 640x480 with 1 Axes>"
      ]
     },
     "metadata": {},
     "output_type": "display_data"
    }
   ],
   "source": [
    "import seaborn as sns\n",
    "import matplotlib.pyplot as plt\n",
    "\n",
    "sns.histplot(df['age'], kde=True)\n",
    "plt.title(\"Distribución de la variable 'age'\")\n",
    "plt.show()\n"
   ]
  },
  {
   "cell_type": "markdown",
   "id": "b10baece-ec02-4cb8-81b5-9c6e477b63b5",
   "metadata": {},
   "source": [
    "#### Al realizar una interpretación intermedia a través de una descripción estadístico vemos que nuestra distribución esta sesgada hacia la derecha (asimetría positiva), esto nos da la pista par que consideremos Random Forest para mantener la distribución y no ajustar la variable\n"
   ]
  },
  {
   "cell_type": "markdown",
   "id": "62d31bc3-2025-4620-b4f1-513c12f8e0dc",
   "metadata": {},
   "source": [
    "### Identificación de característica relevante"
   ]
  },
  {
   "cell_type": "code",
   "execution_count": 67,
   "id": "6ba82cb9-cc59-4c38-8760-b16e488bb67c",
   "metadata": {},
   "outputs": [],
   "source": [
    "from scipy.stats import chi2_contingency, ttest_ind"
   ]
  },
  {
   "cell_type": "markdown",
   "id": "d05dbf05-cf97-4480-aa74-9932ca7d9cd8",
   "metadata": {},
   "source": [
    "### Análisis para variables numéricas"
   ]
  },
  {
   "cell_type": "code",
   "execution_count": 70,
   "id": "fb2f9b00-d704-4a5c-96c5-88b8f157c4fc",
   "metadata": {},
   "outputs": [
    {
     "name": "stdout",
     "output_type": "stream",
     "text": [
      "Prueba t para age: p-valor = 0.0009502750438314823\n",
      "Prueba t para balance: p-valor = 1.5432610466975973e-48\n",
      "Prueba t para duration: p-valor = 0.0\n"
     ]
    }
   ],
   "source": [
    "for col in ['age', 'balance', 'duration']:\n",
    "    group1 = df[df['deposit'] == 'yes'][col]\n",
    "    group2 = df[df['deposit'] == 'no'][col]\n",
    "    stat, p = ttest_ind(group1, group2)\n",
    "    print(f\"Prueba t para {col}: p-valor = {p}\")"
   ]
  },
  {
   "cell_type": "markdown",
   "id": "9bbaccb9-56f3-4f29-9cba-0890bdb01d23",
   "metadata": {
    "jp-MarkdownHeadingCollapsed": true
   },
   "source": [
    "#### Para la identificación de valores a utilizar en el modelo, se realizó análisis de variable objetivo numérico, que en este caso se enfoco en los datos de las columnas “age”, “duration”, “balance”lo que nos confirma que “age” es una variable significativa y con mucha fuerza la variable “duration” por lo que se deberán considerar relevantes para el modelo\n"
   ]
  },
  {
   "cell_type": "markdown",
   "id": "fe9e02f4-9e1d-4bf3-b658-035194476e63",
   "metadata": {},
   "source": [
    "### Análisis para variables categóricas"
   ]
  },
  {
   "cell_type": "code",
   "execution_count": 73,
   "id": "578a69d5-e360-4346-913e-18b38932aac2",
   "metadata": {
    "scrolled": true
   },
   "outputs": [
    {
     "name": "stdout",
     "output_type": "stream",
     "text": [
      "Prueba Chi-cuadrado para 'education': p-valor = 1.7574584100233152e-26\n"
     ]
    }
   ],
   "source": [
    "contingency = pd.crosstab(df['education'], df['deposit'])\n",
    "stat, p, _, _ = chi2_contingency(contingency)\n",
    "print(f\"Prueba Chi-cuadrado para 'education': p-valor = {p}\")"
   ]
  },
  {
   "cell_type": "markdown",
   "id": "86fbe085-67dc-4435-937e-1e1359932894",
   "metadata": {},
   "source": [
    "#### En cuanto a la variable Chi-cuadrado la relación estadística entre “education” y “Deposit” es significativa por lo que también deberá considerarse relevante para el modelo"
   ]
  },
  {
   "cell_type": "markdown",
   "id": "c29d5279-f9bf-450f-979b-cfd0a9f6763a",
   "metadata": {
    "jp-MarkdownHeadingCollapsed": true
   },
   "source": [
    "### 5. Balance de Clases"
   ]
  },
  {
   "cell_type": "markdown",
   "id": "8e2757bd-f444-4332-b245-062cb35c6074",
   "metadata": {},
   "source": [
    "### Verificación de distribución de variables"
   ]
  },
  {
   "cell_type": "code",
   "execution_count": 82,
   "id": "c624f00c-27f9-4b55-975d-47b51a6a90db",
   "metadata": {},
   "outputs": [
    {
     "name": "stdout",
     "output_type": "stream",
     "text": [
      "Distribución de la variable 'deposit':\n",
      "deposit\n",
      "no     0.52616\n",
      "yes    0.47384\n",
      "Name: proportion, dtype: float64\n"
     ]
    }
   ],
   "source": [
    "print(\"Distribución de la variable 'deposit':\")\n",
    "print(df['deposit'].value_counts(normalize=True))\n",
    "\n"
   ]
  },
  {
   "cell_type": "markdown",
   "id": "26bb2f15-8446-4b96-be06-233ef9a807e9",
   "metadata": {},
   "source": [
    "### Visualización de la distribución"
   ]
  },
  {
   "cell_type": "code",
   "execution_count": 84,
   "id": "1e373a11-2e56-495f-8452-8ec7ad7af740",
   "metadata": {},
   "outputs": [
    {
     "name": "stderr",
     "output_type": "stream",
     "text": [
      "C:\\Users\\aprats\\AppData\\Local\\Temp\\ipykernel_26576\\3628655874.py:5: FutureWarning: \n",
      "\n",
      "Passing `palette` without assigning `hue` is deprecated and will be removed in v0.14.0. Assign the `x` variable to `hue` and set `legend=False` for the same effect.\n",
      "\n",
      "  sns.countplot(x='deposit', data=df, palette='viridis')\n"
     ]
    },
    {
     "data": {
      "image/png": "[encoded data removed]",
      "text/plain": [
       "<Figure size 800x600 with 1 Axes>"
      ]
     },
     "metadata": {},
     "output_type": "display_data"
    }
   ],
   "source": [
    "import seaborn as sns\n",
    "import matplotlib.pyplot as plt\n",
    "\n",
    "plt.figure(figsize=(8, 6))\n",
    "sns.countplot(x='deposit', data=df, palette='viridis')\n",
    "plt.title(\"Distribución de la variable 'deposit'\")\n",
    "plt.xlabel(\"Resultado del depósito\")\n",
    "plt.ylabel(\"Cantidad de clientes\")\n",
    "plt.show()\n"
   ]
  },
  {
   "cell_type": "markdown",
   "id": "f17cb4ba-5c62-459c-a049-52413a6d6728",
   "metadata": {},
   "source": [
    "### No parece necesario aplicar técnicas de balanceo,la distribución está suficientemente equilibrada para entrenar modelos"
   ]
  },
  {
   "cell_type": "markdown",
   "id": "9990908a-88e7-4b55-9538-15073192a0a3",
   "metadata": {},
   "source": [
    "# Conclusión"
   ]
  },
  {
   "cell_type": "markdown",
   "id": "6b923c4d-bb38-4561-b1be-f0014f28f834",
   "metadata": {},
   "source": [
    "###\n",
    "El Análisis Exploratorio de Datos (EDA) realizado sobre el conjunto de datos bank_dataset.csv ha permitido comprender mejor la estructura, distribución y comportamiento de las variables, así como identificar las relaciones más significativas con la variable “deposit”, la cual es categóricamente binaria “yes” y “no”\n",
    "\n",
    "El conjunto de datos cuenta con 11,162 registros y múltiples variables numéricas y categóricas que describen características de los clientes y las interacciones con la campaña. Entre las Variables Numéricas están: “age”, “balance”, “duration” y dentro de las variables Categóricas “marital”, “education”, “housing”.\n",
    "\n",
    "Los patrones detectados a través de la variable objetivo numérico se concluye que “duration”, “balance” y “age” tienen una relación significativa con la variable “deposit”. En este análisis se pudo también comprobar que la “duration” es una variable muy relevante con un p-valor:0.0. en cuanto a las variables categóricas son “education” y “deposit”, siendo “education” como el valor más relevante.\n",
    "\n",
    "La Distribución de la variable es suficientemente equilibrada por lo que no se requiere aplicar técnicas de balanceo\n",
    "\n",
    "•\tResumen de Diagnósticos y Transformaciones Realizadas\n",
    "Se identificaron valores nulos en las variables age, marital y education, Se decidió imputar los valores faltantes con la mediana para age (al ser robusta frente a outliers) y con la moda para las variables categóricas ya que técnicas preservan la información general del dataset sin introducir sesgos significativos.\n",
    "Los outliers se detectaron mediante el método IQR y se visualizaron con boxplots y los valores extremos se reemplazaron por los límites superior e inferior del IQR para reducir su impacto en los resultados y asegurar una distribución más estable.\n",
    "\n",
    "•\tIdentificación de variables relevantes:\n",
    "A través de análisis  numéricas y Chi-cuadrado se identifican los valores relevantes para el modelo (duration, age y education) \n",
    "\n"
   ]
  },
  {
   "cell_type": "code",
   "execution_count": null,
   "id": "c2cd320b-d335-48ca-a5b4-27795d5dc5aa",
   "metadata": {},
   "outputs": [],
   "source": []
  }
 ],
 "metadata": {
  "kernelspec": {
   "display_name": "Python 3 (ipykernel)",
   "language": "python",
   "name": "python3"
  },
  "language_info": {
   "codemirror_mode": {
    "name": "ipython",
    "version": 3
   },
   "file_extension": ".py",
   "mimetype": "text/x-python",
   "name": "python",
   "nbconvert_exporter": "python",
   "pygments_lexer": "ipython3",
   "version": "3.12.7"
  }
 },
 "nbformat": 4,
 "nbformat_minor": 5
}
