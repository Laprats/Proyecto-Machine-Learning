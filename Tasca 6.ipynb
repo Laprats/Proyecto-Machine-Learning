{
 "cells": [
  {
   "cell_type": "markdown",
   "id": "7b73e8c6-f615-4791-b5b9-8239624ba03b",
   "metadata": {},
   "source": [
    "# PREPARACION DE DATOS / PREPROCESAMIENTO"
   ]
  },
  {
   "cell_type": "markdown",
   "id": "1d173685-5f63-476f-84f7-d14445812bd0",
   "metadata": {},
   "source": [
    "## 1. Importación de Bibliotecas"
   ]
  },
  {
   "cell_type": "code",
   "execution_count": 3,
   "id": "4ee3aa47-b726-4c29-b6c3-cfe089f2769f",
   "metadata": {},
   "outputs": [
    {
     "name": "stdout",
     "output_type": "stream",
     "text": [
      "Requirement already satisfied: sweetviz in c:\\users\\aprats\\appdata\\local\\anaconda3\\lib\\site-packages (2.3.1)\n",
      "Requirement already satisfied: pandas!=1.0.0,!=1.0.1,!=1.0.2,>=0.25.3 in c:\\users\\aprats\\appdata\\local\\anaconda3\\lib\\site-packages (from sweetviz) (2.2.2)\n",
      "Requirement already satisfied: numpy>=1.16.0 in c:\\users\\aprats\\appdata\\local\\anaconda3\\lib\\site-packages (from sweetviz) (1.26.4)\n",
      "Requirement already satisfied: matplotlib>=3.1.3 in c:\\users\\aprats\\appdata\\local\\anaconda3\\lib\\site-packages (from sweetviz) (3.9.2)\n",
      "Requirement already satisfied: tqdm>=4.43.0 in c:\\users\\aprats\\appdata\\local\\anaconda3\\lib\\site-packages (from sweetviz) (4.66.5)\n",
      "Requirement already satisfied: scipy>=1.3.2 in c:\\users\\aprats\\appdata\\local\\anaconda3\\lib\\site-packages (from sweetviz) (1.13.1)\n",
      "Requirement already satisfied: jinja2>=2.11.1 in c:\\users\\aprats\\appdata\\local\\anaconda3\\lib\\site-packages (from sweetviz) (3.1.4)\n",
      "Requirement already satisfied: importlib-resources>=1.2.0 in c:\\users\\aprats\\appdata\\local\\anaconda3\\lib\\site-packages (from sweetviz) (6.4.5)\n",
      "Requirement already satisfied: MarkupSafe>=2.0 in c:\\users\\aprats\\appdata\\local\\anaconda3\\lib\\site-packages (from jinja2>=2.11.1->sweetviz) (2.1.3)\n",
      "Requirement already satisfied: contourpy>=1.0.1 in c:\\users\\aprats\\appdata\\local\\anaconda3\\lib\\site-packages (from matplotlib>=3.1.3->sweetviz) (1.2.0)\n",
      "Requirement already satisfied: cycler>=0.10 in c:\\users\\aprats\\appdata\\local\\anaconda3\\lib\\site-packages (from matplotlib>=3.1.3->sweetviz) (0.11.0)\n",
      "Requirement already satisfied: fonttools>=4.22.0 in c:\\users\\aprats\\appdata\\local\\anaconda3\\lib\\site-packages (from matplotlib>=3.1.3->sweetviz) (4.51.0)\n",
      "Requirement already satisfied: kiwisolver>=1.3.1 in c:\\users\\aprats\\appdata\\local\\anaconda3\\lib\\site-packages (from matplotlib>=3.1.3->sweetviz) (1.4.4)\n",
      "Requirement already satisfied: packaging>=20.0 in c:\\users\\aprats\\appdata\\roaming\\python\\python312\\site-packages (from matplotlib>=3.1.3->sweetviz) (24.0)\n",
      "Requirement already satisfied: pillow>=8 in c:\\users\\aprats\\appdata\\local\\anaconda3\\lib\\site-packages (from matplotlib>=3.1.3->sweetviz) (10.4.0)\n",
      "Requirement already satisfied: pyparsing>=2.3.1 in c:\\users\\aprats\\appdata\\local\\anaconda3\\lib\\site-packages (from matplotlib>=3.1.3->sweetviz) (3.1.2)\n",
      "Requirement already satisfied: python-dateutil>=2.7 in c:\\users\\aprats\\appdata\\roaming\\python\\python312\\site-packages (from matplotlib>=3.1.3->sweetviz) (2.9.0.post0)\n",
      "Requirement already satisfied: pytz>=2020.1 in c:\\users\\aprats\\appdata\\local\\anaconda3\\lib\\site-packages (from pandas!=1.0.0,!=1.0.1,!=1.0.2,>=0.25.3->sweetviz) (2024.1)\n",
      "Requirement already satisfied: tzdata>=2022.7 in c:\\users\\aprats\\appdata\\local\\anaconda3\\lib\\site-packages (from pandas!=1.0.0,!=1.0.1,!=1.0.2,>=0.25.3->sweetviz) (2023.3)\n",
      "Requirement already satisfied: colorama in c:\\users\\aprats\\appdata\\roaming\\python\\python312\\site-packages (from tqdm>=4.43.0->sweetviz) (0.4.6)\n",
      "Requirement already satisfied: six>=1.5 in c:\\users\\aprats\\appdata\\roaming\\python\\python312\\site-packages (from python-dateutil>=2.7->matplotlib>=3.1.3->sweetviz) (1.16.0)\n"
     ]
    }
   ],
   "source": [
    "import pandas as pd\n",
    "import numpy as np\n",
    "import matplotlib.pyplot as plt\n",
    "import seaborn as sns\n",
    "!pip install sweetviz\n",
    "import sweetviz as sv"
   ]
  },
  {
   "cell_type": "markdown",
   "id": "6dea2a3b-2e8b-40e2-9b32-60ed99a43b89",
   "metadata": {},
   "source": [
    "### Cargando los datos"
   ]
  },
  {
   "cell_type": "code",
   "execution_count": 5,
   "id": "baaebd40-0dbb-4e47-b44c-0c604b4224a0",
   "metadata": {},
   "outputs": [],
   "source": [
    "df = pd.read_csv(\"C:/Users/aprats/OneDrive - Fundacio privada quiropractica/VARIOS/AP Personal/ML/bank_dataset.CSV\")"
   ]
  },
  {
   "cell_type": "markdown",
   "id": "47ac55bd-920a-4118-95de-eb4c467b0d30",
   "metadata": {},
   "source": [
    "# Paso 1: Dividir el conjunto de datos"
   ]
  },
  {
   "cell_type": "markdown",
   "id": "a756890b-3b66-4396-8bd7-a57536361b8a",
   "metadata": {},
   "source": [
    "### División de los datos de la siguiente proporción: 80% entrenamiento, 20% prueba (esto se ve reflejado en el dato test_size=0.2)"
   ]
  },
  {
   "cell_type": "code",
   "execution_count": 8,
   "id": "c2cd320b-d335-48ca-a5b4-27795d5dc5aa",
   "metadata": {},
   "outputs": [
    {
     "name": "stdout",
     "output_type": "stream",
     "text": [
      "Tamaño del conjunto de entrenamiento: (8929, 17)\n",
      "Tamaño del conjunto de prueba: (2233, 17)\n"
     ]
    }
   ],
   "source": [
    "from sklearn.model_selection import train_test_split\n",
    "\n",
    "train_set, test_set = train_test_split(df, test_size=0.2, random_state=42)\n",
    "\n",
    "print(\"Tamaño del conjunto de entrenamiento:\", train_set.shape)\n",
    "print(\"Tamaño del conjunto de prueba:\", test_set.shape)\n"
   ]
  },
  {
   "cell_type": "markdown",
   "id": "b37c39e9-0cbe-4c54-b9a0-35f12a487b2a",
   "metadata": {},
   "source": [
    "# Paso: 2 Detección Outliers con Análisis Estadístico con IQR"
   ]
  },
  {
   "cell_type": "code",
   "execution_count": 10,
   "id": "d5d91f0f-bbcd-464a-8d40-439403105485",
   "metadata": {},
   "outputs": [],
   "source": [
    "Q1 = train_set['age'].quantile(0.25)\n",
    "Q3 = train_set['age'].quantile(0.75)\n",
    "IQR = Q3 - Q1\n",
    "\n",
    "lower_bound = Q1 - 1.5 * IQR\n",
    "upper_bound = Q3 + 1.5 * IQR\n",
    "\n"
   ]
  },
  {
   "cell_type": "markdown",
   "id": "71161614-edcc-49ad-b8f1-bbde004f21b8",
   "metadata": {},
   "source": [
    "### Detectar outliers en train_set y test_set\n"
   ]
  },
  {
   "cell_type": "code",
   "execution_count": 12,
   "id": "a1ddaf06-0beb-4f65-adf8-00f9e4a934e4",
   "metadata": {},
   "outputs": [
    {
     "name": "stdout",
     "output_type": "stream",
     "text": [
      "Límites para outliers en 'age': [6.5, 74.5]\n",
      "Número de outliers en train_set: 132\n",
      "Número de outliers en test_set: 39\n"
     ]
    }
   ],
   "source": [
    "outliers_train = train_set[(train_set['age'] < lower_bound) | (train_set['age'] > upper_bound)]\n",
    "outliers_test = test_set[(test_set['age'] < lower_bound) | (test_set['age'] > upper_bound)]\n",
    "\n",
    "print(f\"Límites para outliers en 'age': [{lower_bound}, {upper_bound}]\")\n",
    "print(f\"Número de outliers en train_set: {outliers_train.shape[0]}\")\n",
    "print(f\"Número de outliers en test_set: {outliers_test.shape[0]}\")\n"
   ]
  },
  {
   "cell_type": "code",
   "execution_count": 13,
   "id": "7322ce7e-d6ce-4a33-984b-b53696b53e2a",
   "metadata": {
    "scrolled": true
   },
   "outputs": [
    {
     "name": "stdout",
     "output_type": "stream",
     "text": [
      "Columna: previous\n",
      " - Límites para outliers: [-1.5, 2.5]\n",
      " - Número de outliers en train_set: 999\n",
      " - Número de outliers en test_set: 259\n",
      "--------------------------------------------------\n"
     ]
    }
   ],
   "source": [
    "numeric_columns = train_set.select_dtypes(include=['float64', 'int64']).columns\n",
    "\n",
    "for col in numeric_columns:\n",
    "    Q1 = train_set[col].quantile(0.25)\n",
    "    Q3 = train_set[col].quantile(0.75)\n",
    "    IQR = Q3 - Q1\n",
    "\n",
    "    lower_bound = Q1 - 1.5 * IQR\n",
    "    upper_bound = Q3 + 1.5 * IQR\n",
    "\n",
    "\n",
    "outliers_train = train_set[(train_set[col] < lower_bound) | (train_set[col] > upper_bound)]\n",
    "outliers_test = test_set[(test_set[col] < lower_bound) | (test_set[col] > upper_bound)]\n",
    "\n",
    "print(f\"Columna: {col}\")\n",
    "print(f\" - Límites para outliers: [{lower_bound}, {upper_bound}]\")\n",
    "print(f\" - Número de outliers en train_set: {outliers_train.shape[0]}\")\n",
    "print(f\" - Número de outliers en test_set: {outliers_test.shape[0]}\")\n",
    "print(\"-\" * 50)\n",
    "\n"
   ]
  },
  {
   "cell_type": "markdown",
   "id": "5f78be16-2891-4779-9d77-e3ff9f609d98",
   "metadata": {},
   "source": [
    "### Reemplazo de outliers con límites superiores e inferiores"
   ]
  },
  {
   "cell_type": "code",
   "execution_count": 15,
   "id": "80d2d84b-cf8a-46bd-8f90-ae9d883b8ca9",
   "metadata": {},
   "outputs": [],
   "source": [
    "for col in numeric_columns:\n",
    "    Q1 = train_set[col].quantile(0.25)\n",
    "    Q3 = train_set[col].quantile(0.75)\n",
    "    IQR = Q3 - Q1\n",
    "\n",
    "    lower_bound = Q1 - 1.5 * IQR\n",
    "    upper_bound = Q3 + 1.5 * IQR\n"
   ]
  },
  {
   "cell_type": "markdown",
   "id": "f22aeb40-79b3-4738-a173-7d3ae75d8907",
   "metadata": {},
   "source": [
    "### Reemplazar valores fuera de los límites con los límites en train_set"
   ]
  },
  {
   "cell_type": "code",
   "execution_count": 17,
   "id": "ca1f6d8f-7ea0-45f0-bd53-481b843ce373",
   "metadata": {},
   "outputs": [],
   "source": [
    "train_set[col] = train_set[col].apply(lambda x: max(min(x, upper_bound), lower_bound))\n",
    "test_set[col] = test_set[col].apply(lambda x: max(min(x, upper_bound), lower_bound))\n",
    "\n"
   ]
  },
  {
   "cell_type": "code",
   "execution_count": 18,
   "id": "9d475cd9-a744-4a76-a7c4-940cae902103",
   "metadata": {},
   "outputs": [
    {
     "name": "stdout",
     "output_type": "stream",
     "text": [
      "Columna: previous\n",
      " - Límites aplicados: [-1.5, 2.5]\n"
     ]
    }
   ],
   "source": [
    "print(f\"Columna: {col}\")\n",
    "print(f\" - Límites aplicados: [{lower_bound}, {upper_bound}]\")"
   ]
  },
  {
   "cell_type": "markdown",
   "id": "978fac22-adab-484a-9564-cde0e5071ce9",
   "metadata": {},
   "source": [
    "### Verificamos que no existen valores nulos, si lo hubiese se tendría que imputar los valores faltantes. Como previamente se realizó la deteccion y tratamientos de Ouliers, esta todo correcto."
   ]
  },
  {
   "cell_type": "code",
   "execution_count": 20,
   "id": "142263eb-61d3-4e5e-a47b-20318c0b30c0",
   "metadata": {},
   "outputs": [
    {
     "name": "stdout",
     "output_type": "stream",
     "text": [
      "Valores nulos por columna:\n",
      "age          9\n",
      "balance      0\n",
      "housing      0\n",
      "loan         0\n",
      "poutcome     0\n",
      "education    6\n",
      "dtype: int64\n"
     ]
    }
   ],
   "source": [
    "print(\"Valores nulos por columna:\")\n",
    "print(train_set[['age', 'balance', 'housing', 'loan', 'poutcome','education']].isnull().sum())\n"
   ]
  },
  {
   "cell_type": "code",
   "execution_count": 21,
   "id": "e1f4a1bf-e2bb-4a19-a83e-747653461a63",
   "metadata": {},
   "outputs": [
    {
     "name": "stdout",
     "output_type": "stream",
     "text": [
      "Valores nulos por columna:\n",
      "age          1\n",
      "balance      0\n",
      "housing      0\n",
      "loan         0\n",
      "poutcome     0\n",
      "education    1\n",
      "dtype: int64\n"
     ]
    }
   ],
   "source": [
    "print(\"Valores nulos por columna:\")\n",
    "print(test_set[['age', 'balance', 'housing', 'loan', 'poutcome','education']].isnull().sum())\n"
   ]
  },
  {
   "cell_type": "markdown",
   "id": "d2444aac-1790-4fe1-aabe-598db72200c1",
   "metadata": {},
   "source": [
    "# Paso 3: Imputación de valores faltantes"
   ]
  },
  {
   "cell_type": "markdown",
   "id": "be167ca3-016a-45aa-8304-75a46d851c7e",
   "metadata": {},
   "source": [
    "### Contar Valores nulos por columnas en ambos conjuntos"
   ]
  },
  {
   "cell_type": "code",
   "execution_count": 24,
   "id": "d61dd5e3-0316-4ac7-831b-015f8809677c",
   "metadata": {},
   "outputs": [
    {
     "name": "stdout",
     "output_type": "stream",
     "text": [
      "Valores faltantes en el conjunto de entrenamiento:\n"
     ]
    },
    {
     "data": {
      "text/plain": [
       "age          9\n",
       "job          0\n",
       "marital      5\n",
       "education    6\n",
       "default      0\n",
       "balance      0\n",
       "housing      0\n",
       "loan         0\n",
       "contact      0\n",
       "day          0\n",
       "month        0\n",
       "duration     0\n",
       "campaign     0\n",
       "pdays        0\n",
       "previous     0\n",
       "poutcome     0\n",
       "deposit      0\n",
       "dtype: int64"
      ]
     },
     "execution_count": 24,
     "metadata": {},
     "output_type": "execute_result"
    }
   ],
   "source": [
    "print(\"Valores faltantes en el conjunto de entrenamiento:\")\n",
    "train_set.isnull().sum()"
   ]
  },
  {
   "cell_type": "code",
   "execution_count": 25,
   "id": "f4dfb828-ba1a-4a56-94fd-34c479ac7c4a",
   "metadata": {},
   "outputs": [
    {
     "name": "stdout",
     "output_type": "stream",
     "text": [
      "Valores faltantes en el conjunto de prueba:\n"
     ]
    },
    {
     "data": {
      "text/plain": [
       "age          1\n",
       "job          0\n",
       "marital      0\n",
       "education    1\n",
       "default      0\n",
       "balance      0\n",
       "housing      0\n",
       "loan         0\n",
       "contact      0\n",
       "day          0\n",
       "month        0\n",
       "duration     0\n",
       "campaign     0\n",
       "pdays        0\n",
       "previous     0\n",
       "poutcome     0\n",
       "deposit      0\n",
       "dtype: int64"
      ]
     },
     "execution_count": 25,
     "metadata": {},
     "output_type": "execute_result"
    }
   ],
   "source": [
    "print(\"Valores faltantes en el conjunto de prueba:\")\n",
    "test_set.isnull().sum()"
   ]
  },
  {
   "cell_type": "markdown",
   "id": "8381cdde-64e5-42c7-999d-95fda40a0347",
   "metadata": {},
   "source": [
    "#### Imputacion de valores faltantes, media para la 'age' ya que los valores extremos no son muy considerables, moda para 'education' ya que es una variable categorica, dejamos igual el valor en 'marital' ya que será una valor que no usaremos y a futuro desistimaremos de nuestro DataFrame.\n",
    "Esta imputación se realizará en ambos conjuntos"
   ]
  },
  {
   "cell_type": "markdown",
   "id": "af239da6-5a48-48eb-a303-ef714f277770",
   "metadata": {},
   "source": [
    "### Gestión de Valores Faltantes"
   ]
  },
  {
   "cell_type": "code",
   "execution_count": 28,
   "id": "c5f37604-af1a-4dc5-bf0f-748b1573009e",
   "metadata": {},
   "outputs": [
    {
     "name": "stdout",
     "output_type": "stream",
     "text": [
      "Columnas en train_set:\n",
      "Index(['age', 'job', 'marital', 'education', 'default', 'balance', 'housing',\n",
      "       'loan', 'contact', 'day', 'month', 'duration', 'campaign', 'pdays',\n",
      "       'previous', 'poutcome', 'deposit'],\n",
      "      dtype='object')\n",
      "\n",
      "Columnas en test_set:\n",
      "Index(['age', 'job', 'marital', 'education', 'default', 'balance', 'housing',\n",
      "       'loan', 'contact', 'day', 'month', 'duration', 'campaign', 'pdays',\n",
      "       'previous', 'poutcome', 'deposit'],\n",
      "      dtype='object')\n"
     ]
    }
   ],
   "source": [
    "print(\"Columnas en train_set:\")\n",
    "print(train_set.columns)\n",
    "\n",
    "print(\"\\nColumnas en test_set:\")\n",
    "print(test_set.columns)\n"
   ]
  },
  {
   "cell_type": "code",
   "execution_count": 29,
   "id": "9970b2fa-f6b9-487b-8f5d-a705952b70a6",
   "metadata": {},
   "outputs": [],
   "source": [
    "education_mode = train_set['education'].mode()[0]\n",
    "train_set['education'] = train_set['education'].fillna(education_mode)\n",
    "test_set['education'] = test_set['education'].fillna(education_mode)\n",
    "\n",
    "age_median = train_set['age'].median()\n",
    "train_set['age'] = train_set['age'].fillna(age_median)\n",
    "test_set['age'] = test_set['age'].fillna(age_median)\n"
   ]
  },
  {
   "cell_type": "code",
   "execution_count": 30,
   "id": "a0c4309f-9b96-4d50-b07e-1d3ea25af740",
   "metadata": {},
   "outputs": [
    {
     "name": "stdout",
     "output_type": "stream",
     "text": [
      "Valores faltantes en 'education' después de la imputación:\n",
      "0\n",
      "0\n",
      "\n",
      "Valores faltantes en 'age' después de la imputación:\n",
      "0\n",
      "0\n"
     ]
    }
   ],
   "source": [
    "print(\"Valores faltantes en 'education' después de la imputación:\")\n",
    "print(train_set['education'].isnull().sum())\n",
    "print(test_set['education'].isnull().sum())\n",
    "\n",
    "print(\"\\nValores faltantes en 'age' después de la imputación:\")\n",
    "print(train_set['age'].isnull().sum())\n",
    "print(test_set['age'].isnull().sum())\n"
   ]
  },
  {
   "cell_type": "markdown",
   "id": "cff3a37f-9530-4781-8a82-36f5925ea127",
   "metadata": {},
   "source": [
    "##### Se verifica que no hay valores faltantes en las características imputadas"
   ]
  },
  {
   "cell_type": "markdown",
   "id": "60793dc6-6724-41a6-9f8d-95f1b7cf098f",
   "metadata": {},
   "source": [
    "# Paso 3: Codificación de variables categóricas"
   ]
  },
  {
   "cell_type": "markdown",
   "id": "8ac9e116-3182-4911-ac51-5a656d62d23d",
   "metadata": {},
   "source": [
    "#### En este paso, convertiré las variables categóricas en un formato numérico para que puedan ser utilizadas por los algoritmos de machine learning:\n",
    "\n",
    "One-Hot Encoding: Para variables categóricas sin orden inherente.\n",
    "\n",
    "Label Encoding: Para variables categóricas con un orden lógico."
   ]
  },
  {
   "cell_type": "markdown",
   "id": "279d81fb-85c0-4902-b405-69428faa5ded",
   "metadata": {},
   "source": [
    "#### Se Identifican las variables categóricas y según su caracteristica se trabajara la codificación,Se aplica Label Encoding en 'housing', 'loan' al ser binarias, lo caul es más simple y eficiente, en cuanto a 'poutcome'  no es binario, sino una categoría multiple, pero podría tener un orden implícito por eso es más recomendable aplicar la misma codificacion de etiqueta y en 'education' One-Hot Encoding\n"
   ]
  },
  {
   "cell_type": "code",
   "execution_count": 35,
   "id": "4c430e14-61fa-4352-8dae-7c271f99705d",
   "metadata": {},
   "outputs": [],
   "source": [
    "from sklearn.preprocessing import OneHotEncoder\n",
    "import pandas as pd"
   ]
  },
  {
   "cell_type": "markdown",
   "id": "35d50919-c336-417b-88a6-7c0cbb5a4843",
   "metadata": {},
   "source": [
    "#### Se aplicara One-Hot Encoding en 'education' que no tiene un orden inherente"
   ]
  },
  {
   "cell_type": "code",
   "execution_count": 37,
   "id": "58f8abac-045c-410f-8663-82020a37366d",
   "metadata": {},
   "outputs": [],
   "source": [
    "codificador = OneHotEncoder(sparse_output=False, handle_unknown='ignore')\n",
    "\n",
    "train_codificado = codificador.fit_transform(train_set[['education']])\n",
    "test_codificado = codificador.transform(test_set[['education']])\n",
    "\n"
   ]
  },
  {
   "cell_type": "markdown",
   "id": "31cfad3e-55d1-450b-bd98-0eea45ba49b8",
   "metadata": {},
   "source": [
    "#### Convertir el resultado en DataFrame y concatenación de columnas"
   ]
  },
  {
   "cell_type": "code",
   "execution_count": 39,
   "id": "007d7661-fbcf-4b5e-ae50-d74952e0cb3f",
   "metadata": {},
   "outputs": [
    {
     "name": "stdout",
     "output_type": "stream",
     "text": [
      "One-Hot Encoding aplicado a 'education'.\n"
     ]
    }
   ],
   "source": [
    "education_columns = codificador.get_feature_names_out(['education'])\n",
    "train_set = pd.concat([train_set.drop('education', axis=1), \n",
    "                       pd.DataFrame(train_codificado, columns=education_columns, index=train_set.index)], axis=1)\n",
    "\n",
    "test_set = pd.concat([test_set.drop('education', axis=1), \n",
    "                      pd.DataFrame(test_codificado, columns=education_columns, index=test_set.index)], axis=1)\n",
    "\n",
    "print(\"One-Hot Encoding aplicado a 'education'.\")"
   ]
  },
  {
   "cell_type": "code",
   "execution_count": 40,
   "id": "38354299-2be2-4720-a2ac-435e713b326a",
   "metadata": {},
   "outputs": [],
   "source": [
    "from sklearn.preprocessing import LabelEncoder"
   ]
  },
  {
   "cell_type": "code",
   "execution_count": 41,
   "id": "98158f07-903b-4de9-ab6e-106325e7e4be",
   "metadata": {},
   "outputs": [
    {
     "name": "stdout",
     "output_type": "stream",
     "text": [
      "Label Encoding aplicado a 'housing', 'loan', y 'poutcome'.\n"
     ]
    }
   ],
   "source": [
    "for col in ['housing', 'loan', 'poutcome']:\n",
    "    le = LabelEncoder()\n",
    "    train_set[col] = le.fit_transform(train_set[col])\n",
    "    test_set[col] = le.transform(test_set[col]) \n",
    "    \n",
    "print(\"Label Encoding aplicado a 'housing', 'loan', y 'poutcome'.\")\n"
   ]
  },
  {
   "cell_type": "code",
   "execution_count": 42,
   "id": "e2e65879-94c5-4ed2-87d5-197063c1088b",
   "metadata": {},
   "outputs": [
    {
     "name": "stdout",
     "output_type": "stream",
     "text": [
      "        age           job   marital default  balance  housing  loan   contact  \\\n",
      "3955   28.0       student    single      no     5741        0     0  cellular   \n",
      "11150  34.0    management   married      no      355        0     0  cellular   \n",
      "5173   48.0    unemployed  divorced      no      201        0     0  cellular   \n",
      "3017   53.0  entrepreneur   married      no     1961        0     0  cellular   \n",
      "2910   53.0    management   married      no     1624        0     0  cellular   \n",
      "\n",
      "       day month  duration  campaign  pdays  previous  poutcome deposit  \\\n",
      "3955    10   sep      1042         5    200       2.5         0     yes   \n",
      "11150   21   aug       314         3     -1       0.0         3      no   \n",
      "5173    10   nov       594         1     91       1.0         2     yes   \n",
      "3017    15   dec       351         1     -1       0.0         3     yes   \n",
      "2910    11   nov       166         3     97       2.5         2     yes   \n",
      "\n",
      "       education_primary  education_secondary  education_tertiary  \\\n",
      "3955                 0.0                  0.0                 1.0   \n",
      "11150                0.0                  1.0                 0.0   \n",
      "5173                 0.0                  1.0                 0.0   \n",
      "3017                 0.0                  0.0                 1.0   \n",
      "2910                 0.0                  0.0                 1.0   \n",
      "\n",
      "       education_unknown  \n",
      "3955                 0.0  \n",
      "11150                0.0  \n",
      "5173                 0.0  \n",
      "3017                 0.0  \n",
      "2910                 0.0  \n"
     ]
    }
   ],
   "source": [
    "print(train_set.head())  "
   ]
  },
  {
   "cell_type": "code",
   "execution_count": 43,
   "id": "9d375090-fdcd-4339-8d00-fc80ad565fcb",
   "metadata": {},
   "outputs": [
    {
     "name": "stdout",
     "output_type": "stream",
     "text": [
      "       age          job   marital default  balance  housing  loan   contact  \\\n",
      "5527  65.0      retired  divorced      no      744        0     0  cellular   \n",
      "4541  38.0  blue-collar   married      no     1627        0     0   unknown   \n",
      "1964  35.0  blue-collar    single      no     4963        1     0  cellular   \n",
      "5007  47.0  blue-collar   married      no     8229        0     0  cellular   \n",
      "8928  35.0   technician   married      no     1473        1     0   unknown   \n",
      "\n",
      "      day month  duration  campaign  pdays  previous  poutcome deposit  \\\n",
      "5527    5   jul       182         1     -1       0.0         3      no   \n",
      "4541   16   jun      1323         9     -1       0.0         3     yes   \n",
      "1964   14   may       456         1    300       1.0         0     yes   \n",
      "5007    8   aug       784         2     -1       0.0         3     yes   \n",
      "8928   12   may        84         3     -1       0.0         3      no   \n",
      "\n",
      "      education_primary  education_secondary  education_tertiary  \\\n",
      "5527                0.0                  1.0                 0.0   \n",
      "4541                0.0                  1.0                 0.0   \n",
      "1964                0.0                  1.0                 0.0   \n",
      "5007                0.0                  1.0                 0.0   \n",
      "8928                0.0                  0.0                 1.0   \n",
      "\n",
      "      education_unknown  \n",
      "5527                0.0  \n",
      "4541                0.0  \n",
      "1964                0.0  \n",
      "5007                0.0  \n",
      "8928                0.0  \n"
     ]
    }
   ],
   "source": [
    "print(test_set.head())   "
   ]
  },
  {
   "cell_type": "markdown",
   "id": "973eafee-8d49-4aba-822d-c1876d5ea3a9",
   "metadata": {},
   "source": [
    "#### En cuanto a la característica 'deposit' al ser una variable objetivo se procede a convertirlo en información binaria, debido a su sencilles a la hora de su interprestación en ela predicción."
   ]
  },
  {
   "cell_type": "code",
   "execution_count": 45,
   "id": "78c7105e-c441-4515-ac07-472888595a2f",
   "metadata": {},
   "outputs": [
    {
     "name": "stdout",
     "output_type": "stream",
     "text": [
      "3955     1\n",
      "11150    0\n",
      "5173     1\n",
      "3017     1\n",
      "2910     1\n",
      "Name: deposit, dtype: int64\n",
      "5527    0\n",
      "4541    1\n",
      "1964    1\n",
      "5007    1\n",
      "8928    0\n",
      "Name: deposit, dtype: int64\n"
     ]
    }
   ],
   "source": [
    "train_set['deposit'] = train_set['deposit'].map({'yes': 1, 'no': 0})\n",
    "test_set['deposit'] = test_set['deposit'].map({'yes': 1, 'no': 0})\n",
    "\n",
    "print(train_set['deposit'].head())\n",
    "print(test_set['deposit'].head())\n"
   ]
  },
  {
   "cell_type": "markdown",
   "id": "97f4b736-eeb6-46fb-9a67-47f64883db0b",
   "metadata": {},
   "source": [
    "# Paso 4: Estandarización"
   ]
  },
  {
   "cell_type": "markdown",
   "id": "1bd60b48-7b74-407e-ad16-46d408ae6505",
   "metadata": {},
   "source": [
    "#### La estandarización asegura que todas las características numéricas tengan una media de 0 y una desviación estándar de 1. Esto es importante porque muchos algoritmos (por ejemplo, regresión logística, SVM, k-means) son sensibles a la escala de las características."
   ]
  },
  {
   "cell_type": "markdown",
   "id": "71714dfb-776d-4c6b-96e8-308cf3ea5113",
   "metadata": {},
   "source": [
    "##### Se Identifica  las columnas numéricas para trabajar directamente con ellas, así aseguramos que estamos tomando todas las caracteristicas de nuesto DataFrame, de ambos conjuntos"
   ]
  },
  {
   "cell_type": "code",
   "execution_count": 49,
   "id": "03b50dc8-1e76-40e0-9ffa-f3832c49dc61",
   "metadata": {},
   "outputs": [],
   "source": [
    "from sklearn.preprocessing import StandardScaler"
   ]
  },
  {
   "cell_type": "code",
   "execution_count": 50,
   "id": "d2b2b6ed-b58a-4c7e-b553-4b1e72c20bbc",
   "metadata": {},
   "outputs": [],
   "source": [
    "num_columns = train_set.select_dtypes(include=['float64', 'int64']).columns"
   ]
  },
  {
   "cell_type": "code",
   "execution_count": 51,
   "id": "3ade72f9-7bab-4693-a498-ec0465c230f1",
   "metadata": {},
   "outputs": [],
   "source": [
    "scaler = StandardScaler()\n",
    "\n",
    "train_set[num_columns] = scaler.fit_transform(train_set[num_columns])\n",
    "test_set[num_columns] = scaler.transform(test_set[num_columns])\n"
   ]
  },
  {
   "cell_type": "code",
   "execution_count": 52,
   "id": "95c6871c-754a-4cc8-a53a-8d2c11818c8b",
   "metadata": {},
   "outputs": [
    {
     "name": "stdout",
     "output_type": "stream",
     "text": [
      "Media después de la estandarización (train_set):\n",
      "age                    2.530548e-16\n",
      "balance                1.870059e-17\n",
      "day                    4.774618e-18\n",
      "duration               5.431128e-17\n",
      "campaign              -4.058425e-17\n",
      "pdays                 -1.352808e-17\n",
      "previous              -1.989424e-17\n",
      "deposit               -9.071774e-17\n",
      "education_primary     -5.252080e-17\n",
      "education_secondary    2.248049e-17\n",
      "education_tertiary    -6.167215e-17\n",
      "education_unknown     -6.207003e-17\n",
      "dtype: float64\n",
      "\n",
      "Desviación estándar después de la estandarización (train_set):\n",
      "age                    1.000056\n",
      "balance                1.000056\n",
      "day                    1.000056\n",
      "duration               1.000056\n",
      "campaign               1.000056\n",
      "pdays                  1.000056\n",
      "previous               1.000056\n",
      "deposit                1.000056\n",
      "education_primary      1.000056\n",
      "education_secondary    1.000056\n",
      "education_tertiary     1.000056\n",
      "education_unknown      1.000056\n",
      "dtype: float64\n"
     ]
    }
   ],
   "source": [
    "print(\"Media después de la estandarización (train_set):\")\n",
    "print(train_set[num_columns].mean())\n",
    "\n",
    "print(\"\\nDesviación estándar después de la estandarización (train_set):\")\n",
    "print(train_set[num_columns].std())\n"
   ]
  },
  {
   "cell_type": "markdown",
   "id": "192e20f4-b717-452e-a4df-ad5bd731adfc",
   "metadata": {},
   "source": [
    "#### Según este resultado las medias de las columnas son cercacnas al 0 y la desviación estándar cercana a 1"
   ]
  },
  {
   "cell_type": "markdown",
   "id": "941942cb-fdc1-4c6a-869b-ff9072e773b5",
   "metadata": {},
   "source": [
    "# Paso 5: Generación de Nuevas Características"
   ]
  },
  {
   "cell_type": "markdown",
   "id": "13c3a458-f9f3-4a83-9aac-7026c3bc3f77",
   "metadata": {},
   "source": [
    "##### Con la idea de mejorar el desempeño del modelo se determina generar nuevas características, ya que estas variables tienen impacto en el resultado objetivo 'deposit', así podremos simplificar el modelo y evitar sobreajuste."
   ]
  },
  {
   "cell_type": "markdown",
   "id": "c6793a89-e328-4ca5-a394-4cfddb8b573a",
   "metadata": {},
   "source": [
    "##### tomo la cataegoria 'balance' y  'age' porque puede capturar relaciones relevantes entre la edad del cliente y su nivel financiero, esto ayudará a que el modelo interprete más facilmente diferencias cualitativas"
   ]
  },
  {
   "cell_type": "code",
   "execution_count": 57,
   "id": "81dbe863-3e37-4346-a509-db8449cdc39d",
   "metadata": {},
   "outputs": [],
   "source": [
    "train_set['age_balance_interaction'] = train_set['age'] * train_set['balance']"
   ]
  },
  {
   "cell_type": "markdown",
   "id": "f531f29f-b016-440d-aab0-8ab312b46864",
   "metadata": {},
   "source": [
    "##### Categorizar 'balance' en rangos, esto solo se aplica"
   ]
  },
  {
   "cell_type": "code",
   "execution_count": 59,
   "id": "b37ae0a5-bb6c-40be-b139-a9ff9b8ac4bb",
   "metadata": {},
   "outputs": [],
   "source": [
    "bins = [-float('inf'), 0, 1000, 5000, float('inf')]\n",
    "labels = ['deuda', 'bajo', 'medio', 'alto']\n",
    "\n",
    "train_set['balance_category'] = pd.cut(train_set['balance'], bins=bins, labels=labels)"
   ]
  },
  {
   "cell_type": "markdown",
   "id": "04f664e7-69be-4463-97ee-f39d2022dd8a",
   "metadata": {},
   "source": [
    "##### Crear una nueva columna: ratio entre 'balance' y 'age'"
   ]
  },
  {
   "cell_type": "markdown",
   "id": "5b814120-cc67-4b36-8d14-244a4cf43217",
   "metadata": {},
   "source": [
    "###### Se aplica +1 para evitar divisiones por cero"
   ]
  },
  {
   "cell_type": "code",
   "execution_count": 62,
   "id": "c2ce441e-2e0e-4bbb-b920-e820ee60ff1e",
   "metadata": {},
   "outputs": [],
   "source": [
    "train_set['balance_age_ratio'] = train_set['balance'] / (train_set['age'] + 1)  \n"
   ]
  },
  {
   "cell_type": "code",
   "execution_count": 63,
   "id": "860107fa-900c-4cbf-ac23-3b26be64770d",
   "metadata": {},
   "outputs": [
    {
     "name": "stdout",
     "output_type": "stream",
     "text": [
      "            age   balance  age_balance_interaction balance_category  \\\n",
      "3955  -1.114367  1.346271                -1.500239             bajo   \n",
      "11150 -0.609465 -0.371778                 0.226586            deuda   \n",
      "5173   0.568639 -0.420902                -0.239341            deuda   \n",
      "3017   0.989390  0.140511                 0.139020             bajo   \n",
      "2910   0.989390  0.033013                 0.032663             bajo   \n",
      "\n",
      "       balance_age_ratio  \n",
      "3955          -11.771537  \n",
      "11150          -0.951972  \n",
      "5173           -0.268323  \n",
      "3017            0.070630  \n",
      "2910            0.016594  \n"
     ]
    }
   ],
   "source": [
    "print(train_set[['age', 'balance', 'age_balance_interaction', 'balance_category', 'balance_age_ratio']].head())\n"
   ]
  },
  {
   "cell_type": "markdown",
   "id": "50bd6d2b-e5a2-4c32-9c15-4e985023a315",
   "metadata": {},
   "source": [
    "#### Nos aseguramos que en el conjunto de prueba no contiene estas columnas"
   ]
  },
  {
   "cell_type": "code",
   "execution_count": 65,
   "id": "79e7a272-a0c7-4083-98da-4553753da8e7",
   "metadata": {},
   "outputs": [],
   "source": [
    "test_set = test_set.drop(columns=['age_balance_interaction', 'balance_category', 'balance_age_ratio'], errors='ignore')\n"
   ]
  },
  {
   "cell_type": "markdown",
   "id": "8607ad88-078c-4989-8584-ffc284911988",
   "metadata": {},
   "source": [
    "# Paso 5: Reducción de dimensionalidad con PCA "
   ]
  },
  {
   "cell_type": "code",
   "execution_count": 67,
   "id": "bf7eba06-6385-4665-9fdd-7a23b0dd15e4",
   "metadata": {},
   "outputs": [],
   "source": [
    "from sklearn.decomposition import PCA\n",
    "import matplotlib.pyplot as plt\n",
    "import numpy as np"
   ]
  },
  {
   "cell_type": "code",
   "execution_count": 84,
   "id": "c1e14c11-802e-435c-bd6a-f4a734835fd8",
   "metadata": {},
   "outputs": [
    {
     "name": "stdout",
     "output_type": "stream",
     "text": [
      "Columnas numéricas para PCA:\n",
      "Index(['age', 'balance', 'day', 'duration', 'campaign', 'pdays', 'previous',\n",
      "       'education_primary', 'education_secondary', 'education_tertiary',\n",
      "       'education_unknown'],\n",
      "      dtype='object')\n"
     ]
    }
   ],
   "source": [
    "numeric_columns = train_set.drop('deposit', axis=1).select_dtypes(include=['float64', 'int64']).columns\n",
    "numeric_columns = test_set.drop('deposit', axis=1).select_dtypes(include=['float64', 'int64']).columns\n",
    "\n",
    "print(\"Columnas numéricas para PCA:\")\n",
    "print(numeric_columns)\n"
   ]
  },
  {
   "cell_type": "code",
   "execution_count": 86,
   "id": "409ecd65-622d-4a30-bfe7-69690e961ac6",
   "metadata": {},
   "outputs": [],
   "source": [
    "pca = PCA()\n",
    "train_pca = pca.fit_transform(train_set[numeric_columns])\n",
    "test_pca = pca.fit_transform(test_set[numeric_columns])\n"
   ]
  },
  {
   "cell_type": "markdown",
   "id": "8ba8b826-ac9c-4b8c-ac1d-254ac2c65b1e",
   "metadata": {},
   "source": [
    "### Varianza explicada acumulada"
   ]
  },
  {
   "cell_type": "code",
   "execution_count": 71,
   "id": "b609ebb4-c6c6-43cb-8e36-d8b37ec7e5f2",
   "metadata": {},
   "outputs": [
    {
     "data": {
      "image/png": "[encoded data removed]",
      "text/plain": [
       "<Figure size 1000x600 with 1 Axes>"
      ]
     },
     "metadata": {},
     "output_type": "display_data"
    }
   ],
   "source": [
    "\n",
    "varianza_acumulada = np.cumsum(pca.explained_variance_ratio_)\n",
    "\n",
    "\n",
    "plt.figure(figsize=(10, 6))\n",
    "plt.plot(range(1, len(varianza_acumulada) + 1), varianza_acumulada, marker='o', linestyle='--')\n",
    "plt.xlabel('Número de componentes principales')\n",
    "plt.ylabel('Varianza explicada acumulada')\n",
    "plt.title('Varianza explicada por PCA')\n",
    "plt.grid(True)\n",
    "plt.show()\n",
    "\n"
   ]
  },
  {
   "cell_type": "code",
   "execution_count": 101,
   "id": "0719734c-7bb8-4fc4-a3e6-6fea916d6367",
   "metadata": {},
   "outputs": [
    {
     "name": "stdout",
     "output_type": "stream",
     "text": [
      "Número de componentes seleccionados: 9\n"
     ]
    }
   ],
   "source": [
    "pca_optimo = PCA(n_components=0.95)\n",
    "train_pca = pca_optimo.fit_transform(train_set[numeric_columns])\n",
    "test_pca = pca_optimo.fit_transform(test_set[numeric_columns])\n",
    "\n",
    "print(f\"Número de componentes seleccionados: {pca_optimo.n_components_}\")"
   ]
  },
  {
   "cell_type": "markdown",
   "id": "d3f8c50a-95b4-4154-a317-59d1c043a4db",
   "metadata": {},
   "source": [
    "#### Convertir los datos PCA a DataFrame"
   ]
  },
  {
   "cell_type": "code",
   "execution_count": 103,
   "id": "d634611b-7656-43cf-9439-5c8155781ab9",
   "metadata": {},
   "outputs": [],
   "source": [
    "train_pca_df = pd.DataFrame(train_pca, columns=[f'PC{i+1}' for i in range(train_pca.shape[1])])\n",
    "test_pca_df = pd.DataFrame(test_pca, columns=[f'PC{i+1}' for i in range(test_pca.shape[1])])"
   ]
  },
  {
   "cell_type": "code",
   "execution_count": 105,
   "id": "17816f38-c9d1-4133-b133-ab27c9da8877",
   "metadata": {},
   "outputs": [
    {
     "name": "stdout",
     "output_type": "stream",
     "text": [
      "Reducción de dimensionalidad completada.\n",
      "Conjunto de datos transformado con PCA:\n",
      "        PC1       PC2       PC3       PC4       PC5       PC6       PC7  \\\n",
      "0  2.731891 -1.233195 -0.928275 -0.189475 -0.356786  1.272627  1.603097   \n",
      "1 -0.993138  1.236650 -0.607762  0.421986 -0.156139 -0.079077  0.041371   \n",
      "2  0.631278  1.432704  0.333535 -0.792350  0.020826  0.091833  0.342725   \n",
      "3 -0.172533 -1.651972 -0.315348 -0.620229  0.132380  0.358381 -0.416873   \n",
      "4  2.232387 -1.327785  0.014406  0.366015 -0.194484  0.049879 -0.554854   \n",
      "\n",
      "        PC8       PC9   deposit  \n",
      "0  1.687012 -0.940179  1.055876  \n",
      "1 -0.315762 -0.202882 -0.947081  \n",
      "2  0.095624  0.739123  1.055876  \n",
      "3 -0.479029  1.085705  1.055876  \n",
      "4  0.388582  1.151971  1.055876  \n"
     ]
    }
   ],
   "source": [
    "train_pca_df['deposit'] = train_set['deposit'].values\n",
    "test_pca_df['deposit'] = test_set['deposit'].values\n",
    "\n",
    "print(\"Reducción de dimensionalidad completada.\")\n",
    "print(\"Conjunto de datos transformado con PCA:\")\n",
    "print(train_pca_df.head())"
   ]
  },
  {
   "cell_type": "code",
   "execution_count": 107,
   "id": "45a177a0-f2ce-422c-9dde-d930a3152164",
   "metadata": {},
   "outputs": [
    {
     "name": "stdout",
     "output_type": "stream",
     "text": [
      "        PC1       PC2       PC3       PC4       PC5       PC6       PC7  \\\n",
      "0 -0.540601  0.887457 -1.105715 -0.315491 -0.554567 -0.375261 -1.287839   \n",
      "1 -1.523850  0.934721 -0.290604  1.047369 -0.051903 -0.181505  3.270845   \n",
      "2  1.872771  1.474625 -0.276230  1.136232 -0.299699 -0.117266  0.057476   \n",
      "3 -0.479137  0.449032 -1.066209  2.264771 -1.096834 -0.739732  0.150305   \n",
      "4 -0.374886 -1.264933  1.523215 -0.098036  0.223070  0.250888 -0.570812   \n",
      "\n",
      "        PC8       PC9   deposit  \n",
      "0 -1.157238  1.656797 -0.947081  \n",
      "1 -0.219917  0.600956  1.055876  \n",
      "2  0.112776 -0.616543  1.055876  \n",
      "3 -0.842365  0.302552  1.055876  \n",
      "4 -0.775599 -0.065946 -0.947081  \n"
     ]
    }
   ],
   "source": [
    "print(test_pca_df.head())"
   ]
  },
  {
   "cell_type": "code",
   "execution_count": null,
   "id": "222ce275-3c49-49f6-af4d-40449dd1a88d",
   "metadata": {},
   "outputs": [],
   "source": []
  }
 ],
 "metadata": {
  "kernelspec": {
   "display_name": "Python 3 (ipykernel)",
   "language": "python",
   "name": "python3"
  },
  "language_info": {
   "codemirror_mode": {
    "name": "ipython",
    "version": 3
   },
   "file_extension": ".py",
   "mimetype": "text/x-python",
   "name": "python",
   "nbconvert_exporter": "python",
   "pygments_lexer": "ipython3",
   "version": "3.12.7"
  }
 },
 "nbformat": 4,
 "nbformat_minor": 5
}
