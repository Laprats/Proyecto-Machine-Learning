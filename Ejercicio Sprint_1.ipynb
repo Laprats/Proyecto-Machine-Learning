{
 "cells": [
  {
   "cell_type": "code",
   "execution_count": 5,
   "id": "02a77ad6-db6d-4e9c-aca8-e5369372a153",
   "metadata": {},
   "outputs": [
    {
     "name": "stdout",
     "output_type": "stream",
     "text": [
      "Hola Ana\n"
     ]
    }
   ],
   "source": [
    "print ('Hola Ana')"
   ]
  },
  {
   "cell_type": "markdown",
   "id": "cf870bbb-21f0-4894-a00e-6469029ba93b",
   "metadata": {},
   "source": [
    "# Libro de notas"
   ]
  },
  {
   "cell_type": "markdown",
   "id": "1b09be4a-ebed-4b36-911a-ea0961d86842",
   "metadata": {},
   "source": [
    "# suma"
   ]
  },
  {
   "cell_type": "code",
   "execution_count": 7,
   "id": "b174cf44-60b8-4fa5-b4c7-a827bca05418",
   "metadata": {},
   "outputs": [
    {
     "data": {
      "text/plain": [
       "2"
      ]
     },
     "execution_count": 7,
     "metadata": {},
     "output_type": "execute_result"
    }
   ],
   "source": [
    "1+1"
   ]
  },
  {
   "cell_type": "markdown",
   "id": "fae17625-20aa-4d9d-b382-e3e4a649a352",
   "metadata": {},
   "source": [
    "# Potencia"
   ]
  },
  {
   "cell_type": "code",
   "execution_count": 10,
   "id": "01e107fd-9102-419d-965f-76b09528bec6",
   "metadata": {},
   "outputs": [
    {
     "data": {
      "text/plain": [
       "8"
      ]
     },
     "execution_count": 10,
     "metadata": {},
     "output_type": "execute_result"
    }
   ],
   "source": [
    "2 ** 3"
   ]
  },
  {
   "cell_type": "markdown",
   "id": "aaacdb19-6769-4300-ad19-b19e27c24e0a",
   "metadata": {},
   "source": [
    "<h1>Variables</h1>"
   ]
  },
  {
   "cell_type": "code",
   "execution_count": 25,
   "id": "0e285c5b-07f8-400b-b5e1-377639741195",
   "metadata": {},
   "outputs": [],
   "source": [
    "r=7+3"
   ]
  },
  {
   "cell_type": "code",
   "execution_count": 27,
   "id": "727a8a63-449d-43fb-8c8b-d4e2d10b422f",
   "metadata": {},
   "outputs": [],
   "source": [
    "r2= 7+r"
   ]
  },
  {
   "cell_type": "code",
   "execution_count": 29,
   "id": "934ff58e-d787-428c-9238-215f80bb508f",
   "metadata": {},
   "outputs": [
    {
     "data": {
      "text/plain": [
       "17"
      ]
     },
     "execution_count": 29,
     "metadata": {},
     "output_type": "execute_result"
    }
   ],
   "source": [
    "r2"
   ]
  },
  {
   "cell_type": "markdown",
   "id": "9d006473-4a93-4911-8e68-662fc5e31f4a",
   "metadata": {},
   "source": [
    "## Subtitulo"
   ]
  },
  {
   "cell_type": "markdown",
   "id": "eb871a30-4cc6-4c22-8c53-e82250bfb59f",
   "metadata": {},
   "source": [
    "# Titulo"
   ]
  },
  {
   "cell_type": "markdown",
   "id": "e5921ab5-17b1-40ae-9adb-57b40e52eca4",
   "metadata": {},
   "source": [
    "### texto"
   ]
  },
  {
   "cell_type": "code",
   "execution_count": null,
   "id": "48bec706-fdca-436e-98d7-6764258ae447",
   "metadata": {},
   "outputs": [],
   "source": []
  },
  {
   "cell_type": "code",
   "execution_count": null,
   "id": "c91baf32-0a80-4ef5-bde3-c914f13ec3ab",
   "metadata": {},
   "outputs": [],
   "source": []
  }
 ],
 "metadata": {
  "kernelspec": {
   "display_name": "Python 3 (ipykernel)",
   "language": "python",
   "name": "python3"
  },
  "language_info": {
   "codemirror_mode": {
    "name": "ipython",
    "version": 3
   },
   "file_extension": ".py",
   "mimetype": "text/x-python",
   "name": "python",
   "nbconvert_exporter": "python",
   "pygments_lexer": "ipython3",
   "version": "3.12.7"
  }
 },
 "nbformat": 4,
 "nbformat_minor": 5
}
