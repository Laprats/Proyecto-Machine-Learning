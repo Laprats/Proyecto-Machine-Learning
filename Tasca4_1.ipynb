{
 "cells": [
  {
   "cell_type": "code",
   "execution_count": 1,
   "id": "18977904-be20-40b9-b847-6be8ef819e02",
   "metadata": {},
   "outputs": [],
   "source": [
    "import pandas as pd"
   ]
  },
  {
   "cell_type": "code",
   "execution_count": 2,
   "id": "d95815b0-c4e4-4069-89ff-469d1dd19e84",
   "metadata": {},
   "outputs": [],
   "source": [
    "import requests"
   ]
  },
  {
   "cell_type": "code",
   "execution_count": 3,
   "id": "84e05e56-305c-411c-a3aa-a36302a546e1",
   "metadata": {},
   "outputs": [],
   "source": [
    "#configuración de la Api"
   ]
  },
  {
   "cell_type": "code",
   "execution_count": 4,
   "id": "eb52d773-f936-452f-9c11-7b9221d100b0",
   "metadata": {},
   "outputs": [],
   "source": [
    "api_key = \"75ac12b54233a94bdf94f565df8a93e0\" #mi Api Key"
   ]
  },
  {
   "cell_type": "code",
   "execution_count": 5,
   "id": "71fcdc5e-4a91-448d-b32b-d06bc793869b",
   "metadata": {},
   "outputs": [],
   "source": [
    "base_url = \"https://api.openweathermap.org/data/2.5/weather\" # La URL"
   ]
  },
  {
   "cell_type": "code",
   "execution_count": 6,
   "id": "32fed572-abef-4c07-991e-0a4ae98934f2",
   "metadata": {},
   "outputs": [],
   "source": [
    "#parámetros de la consulta"
   ]
  },
  {
   "cell_type": "code",
   "execution_count": 7,
   "id": "7b434e48-bca8-4279-b21f-c3c7715d5a64",
   "metadata": {},
   "outputs": [],
   "source": [
    "params = {\n",
    "    \"q\": \"Barcelona\",\n",
    "    \"appid\": api_key,\n",
    "    \"units\": \"metric\",\n",
    "    \"lang\": \"es\"\n",
    "}"
   ]
  },
  {
   "cell_type": "code",
   "execution_count": 8,
   "id": "05645ae1-ba7f-4324-9f54-455f48476d27",
   "metadata": {},
   "outputs": [],
   "source": [
    "#Solicitud HTTP"
   ]
  },
  {
   "cell_type": "code",
   "execution_count": 9,
   "id": "4b15bf4d-1fff-4f7c-9993-7c194cf914cd",
   "metadata": {},
   "outputs": [],
   "source": [
    "response=requests.get(base_url, params=params)"
   ]
  },
  {
   "cell_type": "code",
   "execution_count": 10,
   "id": "3e66745c-b1ae-4db9-96f4-b59702fa7f94",
   "metadata": {},
   "outputs": [],
   "source": [
    "#verificación"
   ]
  },
  {
   "cell_type": "code",
   "execution_count": 11,
   "id": "88c96915-4168-4c30-8c9c-2fca876015cc",
   "metadata": {},
   "outputs": [
    {
     "name": "stdout",
     "output_type": "stream",
     "text": [
      "Datos obtenidos con éxito.\n",
      "{'coord': {'lon': 2.159, 'lat': 41.3888}, 'weather': [{'id': 802, 'main': 'Clouds', 'description': 'nubes dispersas', 'icon': '03d'}], 'base': 'stations', 'main': {'temp': 16.34, 'feels_like': 15.67, 'temp_min': 14.75, 'temp_max': 17.61, 'pressure': 1022, 'humidity': 63, 'sea_level': 1022, 'grnd_level': 1015}, 'visibility': 10000, 'wind': {'speed': 2.57, 'deg': 220}, 'clouds': {'all': 40}, 'dt': 1732637102, 'sys': {'type': 2, 'id': 18549, 'country': 'ES', 'sunrise': 1732603986, 'sunset': 1732638289}, 'timezone': 3600, 'id': 3128760, 'name': 'Barcelona', 'cod': 200}\n"
     ]
    }
   ],
   "source": [
    "if response.status_code == 200:\n",
    "    data = response.json()\n",
    "    print(\"Datos obtenidos con éxito.\")\n",
    "    print(data) \n",
    "else:\n",
    "    print(f\"Error al realizar la solicitud: {response.status_code}\")"
   ]
  },
  {
   "cell_type": "code",
   "execution_count": 12,
   "id": "329feab5-4f9b-4a11-b293-8c2846304e7e",
   "metadata": {},
   "outputs": [],
   "source": [
    "#Extracción de los datos"
   ]
  },
  {
   "cell_type": "code",
   "execution_count": 13,
   "id": "e37a1880-ab71-4e0a-930e-c50d02c0c279",
   "metadata": {},
   "outputs": [],
   "source": [
    "ciudad = data[\"name\"]\n",
    "temperatura = data[\"main\"][\"temp\"]\n",
    "humedad = data[\"main\"][\"humidity\"]\n",
    "descripcion = data[\"weather\"][0][\"description\"]"
   ]
  },
  {
   "cell_type": "code",
   "execution_count": 14,
   "id": "748b2f3b-a0da-4cd9-9d7c-7898edaa19a1",
   "metadata": {},
   "outputs": [
    {
     "name": "stdout",
     "output_type": "stream",
     "text": [
      "Ciudad: Barcelona\n",
      "Temperatura: 16.34 °C\n",
      "Humedad: 63%\n",
      "Descripción: nubes dispersas\n"
     ]
    }
   ],
   "source": [
    "print(f\"Ciudad: {ciudad}\")\n",
    "print(f\"Temperatura: {temperatura} °C\")\n",
    "print(f\"Humedad: {humedad}%\")\n",
    "print(f\"Descripción: {descripcion}\")"
   ]
  },
  {
   "cell_type": "code",
   "execution_count": 15,
   "id": "7905b474-f316-4fab-8694-dda9e643f693",
   "metadata": {},
   "outputs": [],
   "source": [
    "#Visualización de Datos de varias ciudades"
   ]
  },
  {
   "cell_type": "code",
   "execution_count": 16,
   "id": "997634dd-bb30-41d6-8e66-0cb2033b95cc",
   "metadata": {},
   "outputs": [],
   "source": [
    "ciudades = [\"Madrid\", \"Barcelona\", \"Valencia\", \"Sevilla\", \"Bilbao\"]"
   ]
  },
  {
   "cell_type": "code",
   "execution_count": 17,
   "id": "c4c8b962-c301-43d1-9fd8-86b5f86d2134",
   "metadata": {},
   "outputs": [],
   "source": [
    "temperaturas = []"
   ]
  },
  {
   "cell_type": "code",
   "execution_count": 18,
   "id": "c2111fca-3cbc-4c7a-b7b9-9b36cccb4afc",
   "metadata": {},
   "outputs": [],
   "source": [
    "humedades = []"
   ]
  },
  {
   "cell_type": "code",
   "execution_count": 19,
   "id": "e5085729-4210-47aa-a5a0-373ffbf0dce5",
   "metadata": {},
   "outputs": [],
   "source": [
    "for ciudad in ciudades:\n",
    "    params[\"q\"] = ciudad  # Actualizar la ciudad\n",
    "    response = requests.get(base_url, params=params)\n",
    "    if response.status_code == 200:\n",
    "        data = response.json()\n",
    "        temperaturas.append(data[\"main\"][\"temp\"])\n",
    "        humedades.append(data[\"main\"][\"humidity\"])\n",
    "    else:\n",
    "        temperatura.append(None)\n",
    "        humedades.append(None)"
   ]
  },
  {
   "cell_type": "code",
   "execution_count": null,
   "id": "51ca4cad-3c4f-4071-8f08-7ac69c178224",
   "metadata": {},
   "outputs": [],
   "source": [
    "# creación de Data Frame para visualizacion de datos más claros"
   ]
  },
  {
   "cell_type": "code",
   "execution_count": 20,
   "id": "cc88ce17-e4d0-4fd8-9f3d-45791d994741",
   "metadata": {},
   "outputs": [
    {
     "name": "stdout",
     "output_type": "stream",
     "text": [
      "      Ciudad  Temperatura (°C)  Humedad (%)\n",
      "0     Madrid             10.92           70\n",
      "1  Barcelona             16.34           63\n",
      "2   Valencia             15.73           60\n",
      "3    Sevilla             18.03           63\n",
      "4     Bilbao             14.83           62\n"
     ]
    }
   ],
   "source": [
    "df = pd.DataFrame({\"Ciudad\": ciudades, \"Temperatura (°C)\": temperaturas, \"Humedad (%)\": humedades})\n",
    "print(df)"
   ]
  },
  {
   "cell_type": "code",
   "execution_count": null,
   "id": "91f27773-7cd8-45f0-a9f2-23e93d656014",
   "metadata": {},
   "outputs": [],
   "source": []
  }
 ],
 "metadata": {
  "kernelspec": {
   "display_name": "Python 3 (ipykernel)",
   "language": "python",
   "name": "python3"
  },
  "language_info": {
   "codemirror_mode": {
    "name": "ipython",
    "version": 3
   },
   "file_extension": ".py",
   "mimetype": "text/x-python",
   "name": "python",
   "nbconvert_exporter": "python",
   "pygments_lexer": "ipython3",
   "version": "3.12.7"
  }
 },
 "nbformat": 4,
 "nbformat_minor": 5
}
