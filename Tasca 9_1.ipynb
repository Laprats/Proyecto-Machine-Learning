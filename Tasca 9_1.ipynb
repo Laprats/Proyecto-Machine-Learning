{
 "cells": [
  {
   "cell_type": "markdown",
   "id": "7b73e8c6-f615-4791-b5b9-8239624ba03b",
   "metadata": {},
   "source": [
    "# ENTRENAMIENTO DEL PROYECTO"
   ]
  },
  {
   "cell_type": "code",
   "execution_count": 2,
   "id": "4ee3aa47-b726-4c29-b6c3-cfe089f2769f",
   "metadata": {},
   "outputs": [
    {
     "name": "stdout",
     "output_type": "stream",
     "text": [
      "Requirement already satisfied: sweetviz in c:\\users\\aprats\\appdata\\local\\anaconda3\\lib\\site-packages (2.3.1)\n",
      "Requirement already satisfied: pandas!=1.0.0,!=1.0.1,!=1.0.2,>=0.25.3 in c:\\users\\aprats\\appdata\\local\\anaconda3\\lib\\site-packages (from sweetviz) (2.2.2)\n",
      "Requirement already satisfied: numpy>=1.16.0 in c:\\users\\aprats\\appdata\\local\\anaconda3\\lib\\site-packages (from sweetviz) (1.26.4)\n",
      "Requirement already satisfied: matplotlib>=3.1.3 in c:\\users\\aprats\\appdata\\local\\anaconda3\\lib\\site-packages (from sweetviz) (3.9.2)\n",
      "Requirement already satisfied: tqdm>=4.43.0 in c:\\users\\aprats\\appdata\\local\\anaconda3\\lib\\site-packages (from sweetviz) (4.66.5)\n",
      "Requirement already satisfied: scipy>=1.3.2 in c:\\users\\aprats\\appdata\\local\\anaconda3\\lib\\site-packages (from sweetviz) (1.13.1)\n",
      "Requirement already satisfied: jinja2>=2.11.1 in c:\\users\\aprats\\appdata\\local\\anaconda3\\lib\\site-packages (from sweetviz) (3.1.4)\n",
      "Requirement already satisfied: importlib-resources>=1.2.0 in c:\\users\\aprats\\appdata\\local\\anaconda3\\lib\\site-packages (from sweetviz) (6.4.5)\n",
      "Requirement already satisfied: MarkupSafe>=2.0 in c:\\users\\aprats\\appdata\\local\\anaconda3\\lib\\site-packages (from jinja2>=2.11.1->sweetviz) (2.1.3)\n",
      "Requirement already satisfied: contourpy>=1.0.1 in c:\\users\\aprats\\appdata\\local\\anaconda3\\lib\\site-packages (from matplotlib>=3.1.3->sweetviz) (1.2.0)\n",
      "Requirement already satisfied: cycler>=0.10 in c:\\users\\aprats\\appdata\\local\\anaconda3\\lib\\site-packages (from matplotlib>=3.1.3->sweetviz) (0.11.0)\n",
      "Requirement already satisfied: fonttools>=4.22.0 in c:\\users\\aprats\\appdata\\local\\anaconda3\\lib\\site-packages (from matplotlib>=3.1.3->sweetviz) (4.51.0)\n",
      "Requirement already satisfied: kiwisolver>=1.3.1 in c:\\users\\aprats\\appdata\\local\\anaconda3\\lib\\site-packages (from matplotlib>=3.1.3->sweetviz) (1.4.4)\n",
      "Requirement already satisfied: packaging>=20.0 in c:\\users\\aprats\\appdata\\roaming\\python\\python312\\site-packages (from matplotlib>=3.1.3->sweetviz) (24.0)\n",
      "Requirement already satisfied: pillow>=8 in c:\\users\\aprats\\appdata\\local\\anaconda3\\lib\\site-packages (from matplotlib>=3.1.3->sweetviz) (10.4.0)\n",
      "Requirement already satisfied: pyparsing>=2.3.1 in c:\\users\\aprats\\appdata\\local\\anaconda3\\lib\\site-packages (from matplotlib>=3.1.3->sweetviz) (3.1.2)\n",
      "Requirement already satisfied: python-dateutil>=2.7 in c:\\users\\aprats\\appdata\\roaming\\python\\python312\\site-packages (from matplotlib>=3.1.3->sweetviz) (2.9.0.post0)\n",
      "Requirement already satisfied: pytz>=2020.1 in c:\\users\\aprats\\appdata\\local\\anaconda3\\lib\\site-packages (from pandas!=1.0.0,!=1.0.1,!=1.0.2,>=0.25.3->sweetviz) (2024.1)\n",
      "Requirement already satisfied: tzdata>=2022.7 in c:\\users\\aprats\\appdata\\local\\anaconda3\\lib\\site-packages (from pandas!=1.0.0,!=1.0.1,!=1.0.2,>=0.25.3->sweetviz) (2023.3)\n",
      "Requirement already satisfied: colorama in c:\\users\\aprats\\appdata\\roaming\\python\\python312\\site-packages (from tqdm>=4.43.0->sweetviz) (0.4.6)\n",
      "Requirement already satisfied: six>=1.5 in c:\\users\\aprats\\appdata\\roaming\\python\\python312\\site-packages (from python-dateutil>=2.7->matplotlib>=3.1.3->sweetviz) (1.16.0)\n"
     ]
    }
   ],
   "source": [
    "import pandas as pd\n",
    "import numpy as np\n",
    "import matplotlib.pyplot as plt\n",
    "import seaborn as sns\n",
    "!pip install sweetviz\n",
    "import sweetviz as sv"
   ]
  },
  {
   "cell_type": "code",
   "execution_count": 3,
   "id": "baaebd40-0dbb-4e47-b44c-0c604b4224a0",
   "metadata": {},
   "outputs": [],
   "source": [
    "df = pd.read_csv(\"C:/Users/aprats/OneDrive - Fundacio privada quiropractica/VARIOS/AP Personal/ML/bank_dataset.CSV\")"
   ]
  },
  {
   "cell_type": "code",
   "execution_count": 4,
   "id": "149662a0-7db9-4f64-89b2-2b36c7836253",
   "metadata": {},
   "outputs": [
    {
     "data": {
      "text/html": [
       "<div>\n",
       "<style scoped>\n",
       "    .dataframe tbody tr th:only-of-type {\n",
       "        vertical-align: middle;\n",
       "    }\n",
       "\n",
       "    .dataframe tbody tr th {\n",
       "        vertical-align: top;\n",
       "    }\n",
       "\n",
       "    .dataframe thead th {\n",
       "        text-align: right;\n",
       "    }\n",
       "</style>\n",
       "<table border=\"1\" class=\"dataframe\">\n",
       "  <thead>\n",
       "    <tr style=\"text-align: right;\">\n",
       "      <th></th>\n",
       "      <th>age</th>\n",
       "      <th>job</th>\n",
       "      <th>marital</th>\n",
       "      <th>education</th>\n",
       "      <th>default</th>\n",
       "      <th>balance</th>\n",
       "      <th>housing</th>\n",
       "      <th>loan</th>\n",
       "      <th>contact</th>\n",
       "      <th>day</th>\n",
       "      <th>month</th>\n",
       "      <th>duration</th>\n",
       "      <th>campaign</th>\n",
       "      <th>pdays</th>\n",
       "      <th>previous</th>\n",
       "      <th>poutcome</th>\n",
       "      <th>deposit</th>\n",
       "    </tr>\n",
       "  </thead>\n",
       "  <tbody>\n",
       "    <tr>\n",
       "      <th>0</th>\n",
       "      <td>59.0</td>\n",
       "      <td>admin.</td>\n",
       "      <td>married</td>\n",
       "      <td>secondary</td>\n",
       "      <td>no</td>\n",
       "      <td>2343</td>\n",
       "      <td>yes</td>\n",
       "      <td>no</td>\n",
       "      <td>unknown</td>\n",
       "      <td>5</td>\n",
       "      <td>may</td>\n",
       "      <td>1042</td>\n",
       "      <td>1</td>\n",
       "      <td>-1</td>\n",
       "      <td>0</td>\n",
       "      <td>unknown</td>\n",
       "      <td>yes</td>\n",
       "    </tr>\n",
       "    <tr>\n",
       "      <th>1</th>\n",
       "      <td>56.0</td>\n",
       "      <td>admin.</td>\n",
       "      <td>married</td>\n",
       "      <td>secondary</td>\n",
       "      <td>no</td>\n",
       "      <td>45</td>\n",
       "      <td>no</td>\n",
       "      <td>no</td>\n",
       "      <td>unknown</td>\n",
       "      <td>5</td>\n",
       "      <td>may</td>\n",
       "      <td>1467</td>\n",
       "      <td>1</td>\n",
       "      <td>-1</td>\n",
       "      <td>0</td>\n",
       "      <td>unknown</td>\n",
       "      <td>yes</td>\n",
       "    </tr>\n",
       "    <tr>\n",
       "      <th>2</th>\n",
       "      <td>41.0</td>\n",
       "      <td>technician</td>\n",
       "      <td>married</td>\n",
       "      <td>secondary</td>\n",
       "      <td>no</td>\n",
       "      <td>1270</td>\n",
       "      <td>yes</td>\n",
       "      <td>no</td>\n",
       "      <td>unknown</td>\n",
       "      <td>5</td>\n",
       "      <td>may</td>\n",
       "      <td>1389</td>\n",
       "      <td>1</td>\n",
       "      <td>-1</td>\n",
       "      <td>0</td>\n",
       "      <td>unknown</td>\n",
       "      <td>yes</td>\n",
       "    </tr>\n",
       "    <tr>\n",
       "      <th>3</th>\n",
       "      <td>55.0</td>\n",
       "      <td>services</td>\n",
       "      <td>married</td>\n",
       "      <td>secondary</td>\n",
       "      <td>no</td>\n",
       "      <td>2476</td>\n",
       "      <td>yes</td>\n",
       "      <td>no</td>\n",
       "      <td>unknown</td>\n",
       "      <td>5</td>\n",
       "      <td>may</td>\n",
       "      <td>579</td>\n",
       "      <td>1</td>\n",
       "      <td>-1</td>\n",
       "      <td>0</td>\n",
       "      <td>unknown</td>\n",
       "      <td>yes</td>\n",
       "    </tr>\n",
       "    <tr>\n",
       "      <th>4</th>\n",
       "      <td>54.0</td>\n",
       "      <td>admin.</td>\n",
       "      <td>married</td>\n",
       "      <td>tertiary</td>\n",
       "      <td>no</td>\n",
       "      <td>184</td>\n",
       "      <td>no</td>\n",
       "      <td>no</td>\n",
       "      <td>unknown</td>\n",
       "      <td>5</td>\n",
       "      <td>may</td>\n",
       "      <td>673</td>\n",
       "      <td>2</td>\n",
       "      <td>-1</td>\n",
       "      <td>0</td>\n",
       "      <td>unknown</td>\n",
       "      <td>yes</td>\n",
       "    </tr>\n",
       "  </tbody>\n",
       "</table>\n",
       "</div>"
      ],
      "text/plain": [
       "    age         job  marital  education default  balance housing loan  \\\n",
       "0  59.0      admin.  married  secondary      no     2343     yes   no   \n",
       "1  56.0      admin.  married  secondary      no       45      no   no   \n",
       "2  41.0  technician  married  secondary      no     1270     yes   no   \n",
       "3  55.0    services  married  secondary      no     2476     yes   no   \n",
       "4  54.0      admin.  married   tertiary      no      184      no   no   \n",
       "\n",
       "   contact  day month  duration  campaign  pdays  previous poutcome deposit  \n",
       "0  unknown    5   may      1042         1     -1         0  unknown     yes  \n",
       "1  unknown    5   may      1467         1     -1         0  unknown     yes  \n",
       "2  unknown    5   may      1389         1     -1         0  unknown     yes  \n",
       "3  unknown    5   may       579         1     -1         0  unknown     yes  \n",
       "4  unknown    5   may       673         2     -1         0  unknown     yes  "
      ]
     },
     "execution_count": 4,
     "metadata": {},
     "output_type": "execute_result"
    }
   ],
   "source": [
    "df.head()"
   ]
  },
  {
   "cell_type": "markdown",
   "id": "3f773367-99cd-45ef-9226-a2d08292b3a5",
   "metadata": {},
   "source": [
    "##### Sobre el Data Set\n",
    "###### Age: La edad del cliente\n",
    "###### Job: situación laboral o puesto de trabajo que ocupa\n",
    "###### Marital: Estado civil del cliente\n",
    "###### Education: Nivel de education que tiene el cliente\n",
    "###### Default: Si tiene un crédito\n",
    "###### Balance: Capacidad económica del cliente\n",
    "###### Housing: Si tiene propidad o no\n",
    "###### Loan: Si tiene prestamos\n",
    "###### Contact: Como fue contactado el cliente\n",
    "###### Day: Día dle mes que se le contactó\n",
    "###### Month: Mes del año que se le contactó\n",
    "###### Day: cantidad de dias que fueron llamados\n",
    "###### Month: Mes del año que fue contactado\n",
    "###### Duraction: duración de la llamada telefonica\n",
    "###### Campaign: En que campaña fue contactado\n",
    "###### Pday: Números de días que han pasado del ultimo contacto que se hizo con ese cliente\n",
    "###### Previous: Numero de contactos realizados con el cliente antes de la campaña actual\n",
    "###### Poutcome: Resultados de la campaña anterior\n",
    "###### Deposit: el resultado de la campañana, Si invirtió o no\n"
   ]
  },
  {
   "cell_type": "markdown",
   "id": "6e62736b-1c2a-46e2-9d09-d3590114e300",
   "metadata": {},
   "source": [
    "#### EDA"
   ]
  },
  {
   "cell_type": "code",
   "execution_count": 7,
   "id": "d61232fd-843d-41bb-ae02-1da99ac3122e",
   "metadata": {},
   "outputs": [
    {
     "name": "stdout",
     "output_type": "stream",
     "text": [
      "<class 'pandas.core.frame.DataFrame'>\n",
      "RangeIndex: 11162 entries, 0 to 11161\n",
      "Data columns (total 17 columns):\n",
      " #   Column     Non-Null Count  Dtype  \n",
      "---  ------     --------------  -----  \n",
      " 0   age        11152 non-null  float64\n",
      " 1   job        11162 non-null  object \n",
      " 2   marital    11157 non-null  object \n",
      " 3   education  11155 non-null  object \n",
      " 4   default    11162 non-null  object \n",
      " 5   balance    11162 non-null  int64  \n",
      " 6   housing    11162 non-null  object \n",
      " 7   loan       11162 non-null  object \n",
      " 8   contact    11162 non-null  object \n",
      " 9   day        11162 non-null  int64  \n",
      " 10  month      11162 non-null  object \n",
      " 11  duration   11162 non-null  int64  \n",
      " 12  campaign   11162 non-null  int64  \n",
      " 13  pdays      11162 non-null  int64  \n",
      " 14  previous   11162 non-null  int64  \n",
      " 15  poutcome   11162 non-null  object \n",
      " 16  deposit    11162 non-null  object \n",
      "dtypes: float64(1), int64(6), object(10)\n",
      "memory usage: 1.4+ MB\n"
     ]
    },
    {
     "data": {
      "text/html": [
       "<div>\n",
       "<style scoped>\n",
       "    .dataframe tbody tr th:only-of-type {\n",
       "        vertical-align: middle;\n",
       "    }\n",
       "\n",
       "    .dataframe tbody tr th {\n",
       "        vertical-align: top;\n",
       "    }\n",
       "\n",
       "    .dataframe thead th {\n",
       "        text-align: right;\n",
       "    }\n",
       "</style>\n",
       "<table border=\"1\" class=\"dataframe\">\n",
       "  <thead>\n",
       "    <tr style=\"text-align: right;\">\n",
       "      <th></th>\n",
       "      <th>age</th>\n",
       "      <th>balance</th>\n",
       "      <th>day</th>\n",
       "      <th>duration</th>\n",
       "      <th>campaign</th>\n",
       "      <th>pdays</th>\n",
       "      <th>previous</th>\n",
       "    </tr>\n",
       "  </thead>\n",
       "  <tbody>\n",
       "    <tr>\n",
       "      <th>count</th>\n",
       "      <td>11152.000000</td>\n",
       "      <td>11162.000000</td>\n",
       "      <td>11162.000000</td>\n",
       "      <td>11162.000000</td>\n",
       "      <td>11162.000000</td>\n",
       "      <td>11162.000000</td>\n",
       "      <td>11162.000000</td>\n",
       "    </tr>\n",
       "    <tr>\n",
       "      <th>mean</th>\n",
       "      <td>41.235384</td>\n",
       "      <td>1528.538524</td>\n",
       "      <td>15.658036</td>\n",
       "      <td>371.993818</td>\n",
       "      <td>2.508421</td>\n",
       "      <td>51.330407</td>\n",
       "      <td>0.832557</td>\n",
       "    </tr>\n",
       "    <tr>\n",
       "      <th>std</th>\n",
       "      <td>11.914934</td>\n",
       "      <td>3225.413326</td>\n",
       "      <td>8.420740</td>\n",
       "      <td>347.128386</td>\n",
       "      <td>2.722077</td>\n",
       "      <td>108.758282</td>\n",
       "      <td>2.292007</td>\n",
       "    </tr>\n",
       "    <tr>\n",
       "      <th>min</th>\n",
       "      <td>18.000000</td>\n",
       "      <td>-6847.000000</td>\n",
       "      <td>1.000000</td>\n",
       "      <td>2.000000</td>\n",
       "      <td>1.000000</td>\n",
       "      <td>-1.000000</td>\n",
       "      <td>0.000000</td>\n",
       "    </tr>\n",
       "    <tr>\n",
       "      <th>25%</th>\n",
       "      <td>32.000000</td>\n",
       "      <td>122.000000</td>\n",
       "      <td>8.000000</td>\n",
       "      <td>138.000000</td>\n",
       "      <td>1.000000</td>\n",
       "      <td>-1.000000</td>\n",
       "      <td>0.000000</td>\n",
       "    </tr>\n",
       "    <tr>\n",
       "      <th>50%</th>\n",
       "      <td>39.000000</td>\n",
       "      <td>550.000000</td>\n",
       "      <td>15.000000</td>\n",
       "      <td>255.000000</td>\n",
       "      <td>2.000000</td>\n",
       "      <td>-1.000000</td>\n",
       "      <td>0.000000</td>\n",
       "    </tr>\n",
       "    <tr>\n",
       "      <th>75%</th>\n",
       "      <td>49.000000</td>\n",
       "      <td>1708.000000</td>\n",
       "      <td>22.000000</td>\n",
       "      <td>496.000000</td>\n",
       "      <td>3.000000</td>\n",
       "      <td>20.750000</td>\n",
       "      <td>1.000000</td>\n",
       "    </tr>\n",
       "    <tr>\n",
       "      <th>max</th>\n",
       "      <td>95.000000</td>\n",
       "      <td>81204.000000</td>\n",
       "      <td>31.000000</td>\n",
       "      <td>3881.000000</td>\n",
       "      <td>63.000000</td>\n",
       "      <td>854.000000</td>\n",
       "      <td>58.000000</td>\n",
       "    </tr>\n",
       "  </tbody>\n",
       "</table>\n",
       "</div>"
      ],
      "text/plain": [
       "                age       balance           day      duration      campaign  \\\n",
       "count  11152.000000  11162.000000  11162.000000  11162.000000  11162.000000   \n",
       "mean      41.235384   1528.538524     15.658036    371.993818      2.508421   \n",
       "std       11.914934   3225.413326      8.420740    347.128386      2.722077   \n",
       "min       18.000000  -6847.000000      1.000000      2.000000      1.000000   \n",
       "25%       32.000000    122.000000      8.000000    138.000000      1.000000   \n",
       "50%       39.000000    550.000000     15.000000    255.000000      2.000000   \n",
       "75%       49.000000   1708.000000     22.000000    496.000000      3.000000   \n",
       "max       95.000000  81204.000000     31.000000   3881.000000     63.000000   \n",
       "\n",
       "              pdays      previous  \n",
       "count  11162.000000  11162.000000  \n",
       "mean      51.330407      0.832557  \n",
       "std      108.758282      2.292007  \n",
       "min       -1.000000      0.000000  \n",
       "25%       -1.000000      0.000000  \n",
       "50%       -1.000000      0.000000  \n",
       "75%       20.750000      1.000000  \n",
       "max      854.000000     58.000000  "
      ]
     },
     "execution_count": 7,
     "metadata": {},
     "output_type": "execute_result"
    }
   ],
   "source": [
    "df.info()\n",
    "df.describe()"
   ]
  },
  {
   "cell_type": "markdown",
   "id": "25654b08-2a50-4739-ac6c-ada5fb13ba28",
   "metadata": {},
   "source": [
    "### VALORES NULOS"
   ]
  },
  {
   "cell_type": "code",
   "execution_count": 9,
   "id": "14562307-e0b1-463c-8bc3-e6b85e3c7ac8",
   "metadata": {},
   "outputs": [
    {
     "data": {
      "image/png": "[encoded data removed]",
      "text/plain": [
       "<Figure size 1200x800 with 1 Axes>"
      ]
     },
     "metadata": {},
     "output_type": "display_data"
    },
    {
     "data": {
      "text/plain": [
       "age          10\n",
       "job           0\n",
       "marital       5\n",
       "education     7\n",
       "default       0\n",
       "balance       0\n",
       "housing       0\n",
       "loan          0\n",
       "contact       0\n",
       "day           0\n",
       "month         0\n",
       "duration      0\n",
       "campaign      0\n",
       "pdays         0\n",
       "previous      0\n",
       "poutcome      0\n",
       "deposit       0\n",
       "dtype: int64"
      ]
     },
     "execution_count": 9,
     "metadata": {},
     "output_type": "execute_result"
    }
   ],
   "source": [
    "plt.figure(figsize=(12, 8))\n",
    "sns.heatmap(df.isnull(), cbar=False, cmap='viridis')\n",
    "plt.show() \n",
    "df.isnull().sum()\n"
   ]
  },
  {
   "cell_type": "markdown",
   "id": "47ac55bd-920a-4118-95de-eb4c467b0d30",
   "metadata": {},
   "source": [
    "# Dividir el conjunto de datos"
   ]
  },
  {
   "cell_type": "code",
   "execution_count": 11,
   "id": "c4a2d702-1fa1-49bd-bd41-a0ca7b7fefff",
   "metadata": {},
   "outputs": [],
   "source": [
    "from sklearn.model_selection import train_test_split\n",
    "\n",
    "X = df.drop(columns=['deposit'])\n",
    "y = df['deposit'] \n",
    "\n",
    "train_set, test_set, y_train, y_test = train_test_split(X, y, test_size=0.2, stratify=y, random_state=42)\n"
   ]
  },
  {
   "cell_type": "code",
   "execution_count": 12,
   "id": "c2cd320b-d335-48ca-a5b4-27795d5dc5aa",
   "metadata": {},
   "outputs": [
    {
     "name": "stdout",
     "output_type": "stream",
     "text": [
      "Conjunto de entrenamiento: 8929 muestras\n",
      "Conjunto de prueba: 2233 muestras\n",
      "Total de muestras: 11162\n"
     ]
    }
   ],
   "source": [
    "print(f\"Conjunto de entrenamiento: {train_set.shape[0]} muestras\")\n",
    "print(f\"Conjunto de prueba: {test_set.shape[0]} muestras\")\n",
    "print(f\"Total de muestras: {train_set.shape[0] + test_set.shape[0]}\")\n"
   ]
  },
  {
   "cell_type": "markdown",
   "id": "b37c39e9-0cbe-4c54-b9a0-35f12a487b2a",
   "metadata": {},
   "source": [
    "# Detección Outliers"
   ]
  },
  {
   "cell_type": "code",
   "execution_count": 14,
   "id": "5b6f875f-bbec-4ac5-b0dc-bc828634c976",
   "metadata": {},
   "outputs": [
    {
     "data": {
      "image/png": "[encoded data removed]",
      "text/plain": [
       "<Figure size 800x800 with 1 Axes>"
      ]
     },
     "metadata": {},
     "output_type": "display_data"
    },
    {
     "data": {
      "image/png": "[encoded data removed]",
      "text/plain": [
       "<Figure size 800x800 with 1 Axes>"
      ]
     },
     "metadata": {},
     "output_type": "display_data"
    },
    {
     "data": {
      "image/png": "[encoded data removed]",
      "text/plain": [
       "<Figure size 800x800 with 1 Axes>"
      ]
     },
     "metadata": {},
     "output_type": "display_data"
    },
    {
     "data": {
      "image/png": "[encoded data removed]",
      "text/plain": [
       "<Figure size 800x800 with 1 Axes>"
      ]
     },
     "metadata": {},
     "output_type": "display_data"
    },
    {
     "data": {
      "image/png": "[encoded data removed]",
      "text/plain": [
       "<Figure size 800x800 with 1 Axes>"
      ]
     },
     "metadata": {},
     "output_type": "display_data"
    },
    {
     "data": {
      "image/png": "[encoded data removed]",
      "text/plain": [
       "<Figure size 800x800 with 1 Axes>"
      ]
     },
     "metadata": {},
     "output_type": "display_data"
    },
    {
     "data": {
      "image/png": "[encoded data removed]",
      "text/plain": [
       "<Figure size 800x800 with 1 Axes>"
      ]
     },
     "metadata": {},
     "output_type": "display_data"
    }
   ],
   "source": [
    "numerical_columns =train_set.select_dtypes(include=['float64', 'int64']).columns\n",
    "\n",
    "for col in numerical_columns:\n",
    "    plt.figure(figsize=(8, 8))\n",
    "    sns.boxplot(data=train_set, x=col)\n",
    "    plt.title(f'Distribución de {col}')\n",
    "    plt.show()\n"
   ]
  },
  {
   "cell_type": "code",
   "execution_count": 15,
   "id": "e488ec2a-a7a6-4d47-bf24-b9fd8d1895bf",
   "metadata": {},
   "outputs": [
    {
     "data": {
      "image/png": "[encoded data removed]",
      "text/plain": [
       "<Figure size 800x800 with 1 Axes>"
      ]
     },
     "metadata": {},
     "output_type": "display_data"
    },
    {
     "data": {
      "image/png": "[encoded data removed]",
      "text/plain": [
       "<Figure size 800x800 with 1 Axes>"
      ]
     },
     "metadata": {},
     "output_type": "display_data"
    },
    {
     "data": {
      "image/png": "[encoded data removed]",
      "text/plain": [
       "<Figure size 800x800 with 1 Axes>"
      ]
     },
     "metadata": {},
     "output_type": "display_data"
    },
    {
     "data": {
      "image/png": "[encoded data removed]",
      "text/plain": [
       "<Figure size 800x800 with 1 Axes>"
      ]
     },
     "metadata": {},
     "output_type": "display_data"
    },
    {
     "data": {
      "image/png": "[encoded data removed]",
      "text/plain": [
       "<Figure size 800x800 with 1 Axes>"
      ]
     },
     "metadata": {},
     "output_type": "display_data"
    },
    {
     "data": {
      "image/png": "[encoded data removed]",
      "text/plain": [
       "<Figure size 800x800 with 1 Axes>"
      ]
     },
     "metadata": {},
     "output_type": "display_data"
    },
    {
     "data": {
      "image/png": "[encoded data removed]",
      "text/plain": [
       "<Figure size 800x800 with 1 Axes>"
      ]
     },
     "metadata": {},
     "output_type": "display_data"
    }
   ],
   "source": [
    "numerical_columns =test_set.select_dtypes(include=['float64', 'int64']).columns\n",
    "\n",
    "for col in numerical_columns:\n",
    "    plt.figure(figsize=(8, 8))\n",
    "    sns.boxplot(data=test_set, x=col)\n",
    "    plt.title(f'Distribución de {col}')\n",
    "    plt.show()"
   ]
  },
  {
   "cell_type": "markdown",
   "id": "33e6d810-3564-47bc-adb0-c8942fd90141",
   "metadata": {},
   "source": [
    "### Tratamiento de Outliers"
   ]
  },
  {
   "cell_type": "code",
   "execution_count": 17,
   "id": "d5d91f0f-bbcd-464a-8d40-439403105485",
   "metadata": {},
   "outputs": [],
   "source": [
    "from scipy.stats.mstats import mquantiles\n",
    "\n",
    "lower_limit, upper_limit = mquantiles(train_set['balance'], prob=[0.01, 0.99])\n",
    "\n",
    "train_set['balance'] = train_set['balance'].clip(lower=lower_limit, upper=upper_limit)\n",
    "test_set['balance'] = test_set['balance'].clip(lower=lower_limit, upper=upper_limit)\n",
    "\n"
   ]
  },
  {
   "cell_type": "code",
   "execution_count": 18,
   "id": "142263eb-61d3-4e5e-a47b-20318c0b30c0",
   "metadata": {},
   "outputs": [
    {
     "name": "stdout",
     "output_type": "stream",
     "text": [
      "Valores nulos por columna:\n",
      "age          7\n",
      "balance      0\n",
      "housing      0\n",
      "loan         0\n",
      "poutcome     0\n",
      "education    6\n",
      "dtype: int64\n"
     ]
    }
   ],
   "source": [
    "print(\"Valores nulos por columna:\")\n",
    "print(train_set[['age', 'balance', 'housing', 'loan', 'poutcome','education']].isnull().sum())\n"
   ]
  },
  {
   "cell_type": "code",
   "execution_count": 19,
   "id": "e1f4a1bf-e2bb-4a19-a83e-747653461a63",
   "metadata": {},
   "outputs": [
    {
     "name": "stdout",
     "output_type": "stream",
     "text": [
      "Valores nulos por columna:\n",
      "age          3\n",
      "balance      0\n",
      "housing      0\n",
      "loan         0\n",
      "poutcome     0\n",
      "education    1\n",
      "dtype: int64\n"
     ]
    }
   ],
   "source": [
    "print(\"Valores nulos por columna:\")\n",
    "print(test_set[['age', 'balance', 'housing', 'loan', 'poutcome','education']].isnull().sum())\n"
   ]
  },
  {
   "cell_type": "code",
   "execution_count": 20,
   "id": "b295632a-aca1-4c43-bc00-8b669990dc6d",
   "metadata": {},
   "outputs": [
    {
     "name": "stdout",
     "output_type": "stream",
     "text": [
      "\n",
      "Valores faltantes en y_train: 0\n",
      "Valores faltantes en y_test: 0\n"
     ]
    }
   ],
   "source": [
    "print(\"\\nValores faltantes en y_train:\", y_train.isnull().sum())\n",
    "print(\"Valores faltantes en y_test:\", y_test.isnull().sum())\n"
   ]
  },
  {
   "cell_type": "markdown",
   "id": "d2444aac-1790-4fe1-aabe-598db72200c1",
   "metadata": {},
   "source": [
    "# Imputación de valores faltantes"
   ]
  },
  {
   "cell_type": "code",
   "execution_count": 22,
   "id": "d61dd5e3-0316-4ac7-831b-015f8809677c",
   "metadata": {},
   "outputs": [
    {
     "name": "stdout",
     "output_type": "stream",
     "text": [
      "Valores faltantes en el conjunto de entrenamiento:\n"
     ]
    },
    {
     "data": {
      "text/plain": [
       "age          7\n",
       "job          0\n",
       "marital      4\n",
       "education    6\n",
       "default      0\n",
       "balance      0\n",
       "housing      0\n",
       "loan         0\n",
       "contact      0\n",
       "day          0\n",
       "month        0\n",
       "duration     0\n",
       "campaign     0\n",
       "pdays        0\n",
       "previous     0\n",
       "poutcome     0\n",
       "dtype: int64"
      ]
     },
     "execution_count": 22,
     "metadata": {},
     "output_type": "execute_result"
    }
   ],
   "source": [
    "print(\"Valores faltantes en el conjunto de entrenamiento:\")\n",
    "train_set.isnull().sum()"
   ]
  },
  {
   "cell_type": "code",
   "execution_count": 23,
   "id": "f4dfb828-ba1a-4a56-94fd-34c479ac7c4a",
   "metadata": {},
   "outputs": [
    {
     "name": "stdout",
     "output_type": "stream",
     "text": [
      "Valores faltantes en el conjunto de prueba:\n"
     ]
    },
    {
     "data": {
      "text/plain": [
       "age          3\n",
       "job          0\n",
       "marital      1\n",
       "education    1\n",
       "default      0\n",
       "balance      0\n",
       "housing      0\n",
       "loan         0\n",
       "contact      0\n",
       "day          0\n",
       "month        0\n",
       "duration     0\n",
       "campaign     0\n",
       "pdays        0\n",
       "previous     0\n",
       "poutcome     0\n",
       "dtype: int64"
      ]
     },
     "execution_count": 23,
     "metadata": {},
     "output_type": "execute_result"
    }
   ],
   "source": [
    "print(\"Valores faltantes en el conjunto de prueba:\")\n",
    "test_set.isnull().sum()"
   ]
  },
  {
   "cell_type": "markdown",
   "id": "af239da6-5a48-48eb-a303-ef714f277770",
   "metadata": {},
   "source": [
    "### Gestión de Valores Faltantes"
   ]
  },
  {
   "cell_type": "code",
   "execution_count": 25,
   "id": "c5f37604-af1a-4dc5-bf0f-748b1573009e",
   "metadata": {},
   "outputs": [
    {
     "name": "stdout",
     "output_type": "stream",
     "text": [
      "Columnas en train_set:\n",
      "Index(['age', 'job', 'marital', 'education', 'default', 'balance', 'housing',\n",
      "       'loan', 'contact', 'day', 'month', 'duration', 'campaign', 'pdays',\n",
      "       'previous', 'poutcome'],\n",
      "      dtype='object')\n",
      "\n",
      "Columnas en test_set:\n",
      "Index(['age', 'job', 'marital', 'education', 'default', 'balance', 'housing',\n",
      "       'loan', 'contact', 'day', 'month', 'duration', 'campaign', 'pdays',\n",
      "       'previous', 'poutcome'],\n",
      "      dtype='object')\n"
     ]
    }
   ],
   "source": [
    "print(\"Columnas en train_set:\")\n",
    "print(train_set.columns)\n",
    "\n",
    "print(\"\\nColumnas en test_set:\")\n",
    "print(test_set.columns)\n"
   ]
  },
  {
   "cell_type": "code",
   "execution_count": 26,
   "id": "9970b2fa-f6b9-487b-8f5d-a705952b70a6",
   "metadata": {},
   "outputs": [],
   "source": [
    "education_mode = train_set['education'].mode()[0]\n",
    "train_set['education'] = train_set['education'].fillna(education_mode)\n",
    "test_set['education'] = test_set['education'].fillna(education_mode)\n",
    "\n",
    "age_median = train_set['age'].median()\n",
    "train_set['age'] = train_set['age'].fillna(age_median)\n",
    "test_set['age'] = test_set['age'].fillna(age_median)\n"
   ]
  },
  {
   "cell_type": "code",
   "execution_count": 27,
   "id": "a0c4309f-9b96-4d50-b07e-1d3ea25af740",
   "metadata": {},
   "outputs": [
    {
     "name": "stdout",
     "output_type": "stream",
     "text": [
      "Valores faltantes en 'education' después de la imputación:\n",
      "0\n",
      "0\n",
      "\n",
      "Valores faltantes en 'age' después de la imputación:\n",
      "0\n",
      "0\n"
     ]
    }
   ],
   "source": [
    "print(\"Valores faltantes en 'education' después de la imputación:\")\n",
    "print(train_set['education'].isnull().sum())\n",
    "print(test_set['education'].isnull().sum())\n",
    "\n",
    "print(\"\\nValores faltantes en 'age' después de la imputación:\")\n",
    "print(train_set['age'].isnull().sum())\n",
    "print(test_set['age'].isnull().sum())\n"
   ]
  },
  {
   "cell_type": "markdown",
   "id": "60793dc6-6724-41a6-9f8d-95f1b7cf098f",
   "metadata": {},
   "source": [
    "# Codificación de variables categóricas"
   ]
  },
  {
   "cell_type": "code",
   "execution_count": 29,
   "id": "4c430e14-61fa-4352-8dae-7c271f99705d",
   "metadata": {},
   "outputs": [],
   "source": [
    "from sklearn.preprocessing import OneHotEncoder\n",
    "import pandas as pd"
   ]
  },
  {
   "cell_type": "code",
   "execution_count": 30,
   "id": "38354299-2be2-4720-a2ac-435e713b326a",
   "metadata": {},
   "outputs": [],
   "source": [
    "from sklearn.preprocessing import LabelEncoder"
   ]
  },
  {
   "cell_type": "code",
   "execution_count": 31,
   "id": "98158f07-903b-4de9-ab6e-106325e7e4be",
   "metadata": {},
   "outputs": [
    {
     "name": "stdout",
     "output_type": "stream",
     "text": [
      "Label Encoding aplicado a 'housing', 'loan', 'education' y 'poutcome'.\n"
     ]
    }
   ],
   "source": [
    "for col in ['housing', 'loan', 'poutcome', 'education']:\n",
    "    le = LabelEncoder()\n",
    "    train_set[col] = le.fit_transform(train_set[col])\n",
    "    test_set[col] = le.transform(test_set[col]) \n",
    "    \n",
    "print(\"Label Encoding aplicado a 'housing', 'loan', 'education' y 'poutcome'.\")\n"
   ]
  },
  {
   "cell_type": "code",
   "execution_count": 32,
   "id": "e2e65879-94c5-4ed2-87d5-197063c1088b",
   "metadata": {},
   "outputs": [
    {
     "name": "stdout",
     "output_type": "stream",
     "text": [
      "       age          job  marital  education default  balance  housing  loan  \\\n",
      "8644  46.0       admin.  married          1      no    526.0        0     1   \n",
      "2632  46.0       admin.  married          2      no   2552.0        0     0   \n",
      "3056  25.0   technician   single          1      no    139.0        0     1   \n",
      "1080  43.0   technician  married          1      no   3288.0        1     0   \n",
      "4006  37.0  blue-collar   single          3      no    217.0        0     0   \n",
      "\n",
      "       contact  day month  duration  campaign  pdays  previous  poutcome  \n",
      "8644  cellular   31   jul       251         3     -1         0         3  \n",
      "2632  cellular    3   sep       260         1     94         8         2  \n",
      "3056  cellular   11   jan       202         1     91         1         2  \n",
      "1080  cellular   21   nov       775         3     -1         0         3  \n",
      "4006  cellular   23   sep       272         2     -1         0         3  \n"
     ]
    }
   ],
   "source": [
    "print(train_set.head())  "
   ]
  },
  {
   "cell_type": "code",
   "execution_count": 33,
   "id": "9d375090-fdcd-4339-8d00-fc80ad565fcb",
   "metadata": {},
   "outputs": [
    {
     "name": "stdout",
     "output_type": "stream",
     "text": [
      "       age          job  marital  education default  balance  housing  loan  \\\n",
      "8220  32.0   management  married          2      no    393.0        0     0   \n",
      "2521  36.0   technician   single          1      no    376.0        0     0   \n",
      "7949  52.0       admin.  married          1      no    722.0        0     0   \n",
      "7879  35.0   management   single          1     yes   -202.0        1     0   \n",
      "616   41.0  blue-collar  married          1      no   -190.0        0     1   \n",
      "\n",
      "       contact  day month  duration  campaign  pdays  previous  poutcome  \n",
      "8220  cellular   28   jan       458         2     -1         0         3  \n",
      "2521  cellular   13   aug       479         1     -1         0         3  \n",
      "7949  cellular   26   oct        99         2    185         3         0  \n",
      "7879   unknown   20   may       268         3     -1         0         3  \n",
      "616   cellular   29   jul       808         3     -1         0         3  \n"
     ]
    }
   ],
   "source": [
    "print(test_set.head())   "
   ]
  },
  {
   "cell_type": "code",
   "execution_count": 34,
   "id": "5deeb3bb-8a82-4cde-9dfd-c4604897cf65",
   "metadata": {},
   "outputs": [],
   "source": [
    "\n",
    "train_set = train_set.drop(columns=['marital', 'job', 'month','duration'])\n",
    "test_set = test_set.drop(columns=['marital', 'job', 'month','duration'])\n",
    "\n"
   ]
  },
  {
   "cell_type": "code",
   "execution_count": 35,
   "id": "d24814bb-b3c9-4b29-9307-7791c4205d46",
   "metadata": {},
   "outputs": [
    {
     "name": "stdout",
     "output_type": "stream",
     "text": [
      "Index(['age', 'education', 'default', 'balance', 'housing', 'loan', 'contact',\n",
      "       'day', 'campaign', 'pdays', 'previous', 'poutcome'],\n",
      "      dtype='object')\n",
      "Index(['age', 'education', 'default', 'balance', 'housing', 'loan', 'contact',\n",
      "       'day', 'campaign', 'pdays', 'previous', 'poutcome'],\n",
      "      dtype='object')\n"
     ]
    }
   ],
   "source": [
    "print(train_set.columns)\n",
    "print(test_set.columns)\n"
   ]
  },
  {
   "cell_type": "code",
   "execution_count": 36,
   "id": "78c7105e-c441-4515-ac07-472888595a2f",
   "metadata": {},
   "outputs": [],
   "source": [
    "y_train = y_train.map({'yes': 1, 'no': 0})\n",
    "y_test = y_test.map({'yes': 1, 'no': 0})\n"
   ]
  },
  {
   "cell_type": "code",
   "execution_count": 37,
   "id": "236ad425-5067-4253-9871-53510b939aee",
   "metadata": {},
   "outputs": [
    {
     "name": "stdout",
     "output_type": "stream",
     "text": [
      "8644    0\n",
      "2632    1\n",
      "3056    1\n",
      "1080    1\n",
      "4006    1\n",
      "Name: deposit, dtype: int64\n",
      "8220    0\n",
      "2521    1\n",
      "7949    0\n",
      "7879    0\n",
      "616     1\n",
      "Name: deposit, dtype: int64\n"
     ]
    }
   ],
   "source": [
    "print(y_train.head())\n",
    "print(y_test.head())\n"
   ]
  },
  {
   "cell_type": "markdown",
   "id": "97f4b736-eeb6-46fb-9a67-47f64883db0b",
   "metadata": {},
   "source": [
    "# Estandarización"
   ]
  },
  {
   "cell_type": "code",
   "execution_count": 39,
   "id": "fe4aeea9-bd80-487e-95d9-c55d240dd04d",
   "metadata": {},
   "outputs": [],
   "source": [
    "from sklearn.preprocessing import StandardScaler"
   ]
  },
  {
   "cell_type": "code",
   "execution_count": 40,
   "id": "d2b2b6ed-b58a-4c7e-b553-4b1e72c20bbc",
   "metadata": {},
   "outputs": [],
   "source": [
    "num_columns = ['age', 'balance', 'campaign', 'pdays', 'previous']\n",
    "\n",
    "scaler = StandardScaler()\n",
    "\n",
    "train_set[num_columns] = scaler.fit_transform(train_set[num_columns])\n",
    "test_set[num_columns] = scaler.transform(test_set[num_columns])\n"
   ]
  },
  {
   "cell_type": "code",
   "execution_count": 41,
   "id": "95c6871c-754a-4cc8-a53a-8d2c11818c8b",
   "metadata": {},
   "outputs": [
    {
     "name": "stdout",
     "output_type": "stream",
     "text": [
      "Media después de la estandarización (train_set):\n",
      "age         2.319669e-16\n",
      "balance    -2.964242e-17\n",
      "campaign   -7.321081e-17\n",
      "pdays      -4.456310e-17\n",
      "previous   -4.376733e-18\n",
      "dtype: float64\n",
      "\n",
      "Desviación estándar después de la estandarización (train_set):\n",
      "age         1.000056\n",
      "balance     1.000056\n",
      "campaign    1.000056\n",
      "pdays       1.000056\n",
      "previous    1.000056\n",
      "dtype: float64\n"
     ]
    }
   ],
   "source": [
    "print(\"Media después de la estandarización (train_set):\")\n",
    "print(train_set[num_columns].mean())\n",
    "\n",
    "print(\"\\nDesviación estándar después de la estandarización (train_set):\")\n",
    "print(train_set[num_columns].std())\n"
   ]
  },
  {
   "cell_type": "markdown",
   "id": "941942cb-fdc1-4c6a-869b-ff9072e773b5",
   "metadata": {},
   "source": [
    "# Generación de Nuevas Características"
   ]
  },
  {
   "cell_type": "code",
   "execution_count": 43,
   "id": "c351c46f-59e7-4582-8d67-bfe5b2d2a58e",
   "metadata": {},
   "outputs": [
    {
     "name": "stdout",
     "output_type": "stream",
     "text": [
      "Columnas en train_set:\n",
      "Index(['age', 'education', 'default', 'balance', 'housing', 'loan', 'contact',\n",
      "       'day', 'campaign', 'pdays', 'previous', 'poutcome'],\n",
      "      dtype='object')\n",
      "\n",
      "Columnas en test_set:\n",
      "Index(['age', 'education', 'default', 'balance', 'housing', 'loan', 'contact',\n",
      "       'day', 'campaign', 'pdays', 'previous', 'poutcome'],\n",
      "      dtype='object')\n"
     ]
    }
   ],
   "source": [
    "print(\"Columnas en train_set:\")\n",
    "print(train_set.columns)\n",
    "\n",
    "print(\"\\nColumnas en test_set:\")\n",
    "print(test_set.columns)\n"
   ]
  },
  {
   "cell_type": "code",
   "execution_count": 44,
   "id": "81dbe863-3e37-4346-a509-db8449cdc39d",
   "metadata": {},
   "outputs": [],
   "source": [
    "train_set['balance_to_age_ratio'] = train_set['balance'] / train_set['age']\n",
    "test_set['balance_to_age_ratio'] = test_set['balance'] / test_set['age']\n"
   ]
  },
  {
   "cell_type": "code",
   "execution_count": 45,
   "id": "16d8c93e-8575-4071-8f85-e9299283456f",
   "metadata": {},
   "outputs": [
    {
     "name": "stdout",
     "output_type": "stream",
     "text": [
      "      balance_to_age_ratio\n",
      "8644             -0.941515\n",
      "2632              1.239207\n",
      "3056              0.412277\n",
      "1080              5.255081\n",
      "4006              1.516234\n",
      "      balance_to_age_ratio\n",
      "8220              0.582308\n",
      "2521              1.055682\n",
      "7949             -0.328059\n",
      "7879              1.380892\n",
      "616              76.448262\n"
     ]
    }
   ],
   "source": [
    "print(train_set[['balance_to_age_ratio']].head())\n",
    "print(test_set[['balance_to_age_ratio']].head())"
   ]
  },
  {
   "cell_type": "markdown",
   "id": "f531f29f-b016-440d-aab0-8ab312b46864",
   "metadata": {},
   "source": [
    "##### Categorizar 'balance' en rangos, esto solo se aplica"
   ]
  },
  {
   "cell_type": "markdown",
   "id": "c0f3a8d0-4b8f-4a66-a745-0f8631d56c13",
   "metadata": {},
   "source": [
    "# Definir bins personalizados"
   ]
  },
  {
   "cell_type": "code",
   "execution_count": 48,
   "id": "3638a9cd-8546-42e7-87cd-295e52fbef14",
   "metadata": {},
   "outputs": [
    {
     "name": "stdout",
     "output_type": "stream",
     "text": [
      "Distribución en train_set (balance_category):\n",
      "balance_category\n",
      "1    6353\n",
      "2    1617\n",
      "0     959\n",
      "Name: count, dtype: int64\n",
      "\n",
      "Distribución en test_set (balance_category):\n",
      "balance_category\n",
      "1    1569\n",
      "2     389\n",
      "0     275\n",
      "Name: count, dtype: int64\n"
     ]
    }
   ],
   "source": [
    "\n",
    "bins = [-float('inf'), -1, 0, 1, float('inf')]  # Ajusta los valores según lo necesites\n",
    "labels = ['muy bajo', 'bajo', 'medio', 'alto']\n",
    "\n",
    "train_set['balance_category'] = pd.cut(train_set['balance'], bins=bins, labels=labels)\n",
    "test_set['balance_category'] = pd.cut(test_set['balance'], bins=bins, labels=labels)\n",
    "\n",
    "from sklearn.preprocessing import LabelEncoder\n",
    "encoder = LabelEncoder()\n",
    "train_set['balance_category'] = encoder.fit_transform(train_set['balance_category'])\n",
    "test_set['balance_category'] = encoder.transform(test_set['balance_category'])\n",
    "\n",
    "print(\"Distribución en train_set (balance_category):\")\n",
    "print(train_set['balance_category'].value_counts())\n",
    "\n",
    "print(\"\\nDistribución en test_set (balance_category):\")\n",
    "print(test_set['balance_category'].value_counts())\n"
   ]
  },
  {
   "cell_type": "code",
   "execution_count": 49,
   "id": "ccb072e4-53bc-4b8a-9b17-a5ee37d7eff2",
   "metadata": {},
   "outputs": [
    {
     "name": "stdout",
     "output_type": "stream",
     "text": [
      "count    8.929000e+03\n",
      "mean    -2.964242e-17\n",
      "std      1.000056e+00\n",
      "min     -8.542790e-01\n",
      "25%     -5.669870e-01\n",
      "50%     -3.763233e-01\n",
      "75%      1.300439e-01\n",
      "max      5.079762e+00\n",
      "Name: balance, dtype: float64\n"
     ]
    },
    {
     "data": {
      "image/png": "[encoded data removed]",
      "text/plain": [
       "<Figure size 640x480 with 1 Axes>"
      ]
     },
     "metadata": {},
     "output_type": "display_data"
    }
   ],
   "source": [
    "print(train_set['balance'].describe())\n",
    "plt.hist(train_set['balance'], bins=20, edgecolor='k')\n",
    "plt.title('Distribución de Balance (train_set)')\n",
    "plt.xlabel('Balance')\n",
    "plt.ylabel('Frecuencia')\n",
    "plt.grid(True)\n",
    "plt.show()\n",
    "\n"
   ]
  },
  {
   "cell_type": "code",
   "execution_count": 50,
   "id": "3326a076-9f34-433f-85e9-c00507ce15fe",
   "metadata": {},
   "outputs": [
    {
     "name": "stdout",
     "output_type": "stream",
     "text": [
      "count    2233.000000\n",
      "mean        0.057915\n",
      "std         1.103689\n",
      "min        -0.854279\n",
      "25%        -0.566100\n",
      "50%        -0.381201\n",
      "75%         0.169950\n",
      "max         5.079762\n",
      "Name: balance, dtype: float64\n"
     ]
    },
    {
     "data": {
      "image/png": "[encoded data removed]",
      "text/plain": [
       "<Figure size 640x480 with 1 Axes>"
      ]
     },
     "metadata": {},
     "output_type": "display_data"
    }
   ],
   "source": [
    "print(test_set['balance'].describe())\n",
    "plt.hist(test_set['balance'], bins=20, edgecolor='k')\n",
    "plt.title('Distribución de Balance (test_set)')\n",
    "plt.xlabel('Balance')\n",
    "plt.ylabel('Frecuencia')\n",
    "plt.grid(True)\n",
    "plt.show()\n"
   ]
  },
  {
   "cell_type": "code",
   "execution_count": 51,
   "id": "c2ce441e-2e0e-4bbb-b920-e820ee60ff1e",
   "metadata": {},
   "outputs": [],
   "source": [
    "train_set['balance_age_ratio'] = train_set['balance'] / (train_set['age'] + 1)  \n",
    "test_set['balance_age_ratio'] = test_set['balance'] / (test_set['age'] + 1)\n"
   ]
  },
  {
   "cell_type": "code",
   "execution_count": 52,
   "id": "860107fa-900c-4cbf-ac23-3b26be64770d",
   "metadata": {},
   "outputs": [
    {
     "name": "stdout",
     "output_type": "stream",
     "text": [
      "           age   balance  balance_category  balance_age_ratio\n",
      "8644  0.411944 -0.387852                 1          -0.274693\n",
      "2632  0.411944  0.510484                 2           0.361547\n",
      "3056 -1.356972 -0.559449                 1           1.567206\n",
      "1080  0.159242  0.836830                 2           0.721877\n",
      "4006 -0.346163 -0.524864                 1          -0.802744\n",
      "           age   balance  balance_category  balance_age_ratio\n",
      "8220 -0.767333 -0.446825                 1          -1.920450\n",
      "2521 -0.430397 -0.454362                 1          -0.797682\n",
      "7949  0.917349 -0.300945                 1          -0.156959\n",
      "7879 -0.514631 -0.710650                 1          -1.464144\n",
      "616  -0.009226 -0.705329                 1          -0.711897\n"
     ]
    }
   ],
   "source": [
    "print(train_set[['age', 'balance', 'balance_category', 'balance_age_ratio']].head())\n",
    "print(test_set[['age', 'balance', 'balance_category', 'balance_age_ratio']].head())\n"
   ]
  },
  {
   "cell_type": "code",
   "execution_count": 53,
   "id": "73e59f0f-9070-4724-b006-33cffbf83213",
   "metadata": {},
   "outputs": [
    {
     "name": "stdout",
     "output_type": "stream",
     "text": [
      "Categorías en train_set (balance_category):\n",
      "[1 2 0]\n",
      "\n",
      "Categorías en test_set (balance_category):\n",
      "[1 0 2]\n"
     ]
    }
   ],
   "source": [
    "print(\"Categorías en train_set (balance_category):\")\n",
    "print(train_set['balance_category'].unique())\n",
    "\n",
    "print(\"\\nCategorías en test_set (balance_category):\")\n",
    "print(test_set['balance_category'].unique())\n"
   ]
  },
  {
   "cell_type": "code",
   "execution_count": 54,
   "id": "3aad88b4-6adb-4cf9-a3dd-c92c55d730bb",
   "metadata": {},
   "outputs": [
    {
     "name": "stdout",
     "output_type": "stream",
     "text": [
      "age                     float64\n",
      "education                 int32\n",
      "default                  object\n",
      "balance                 float64\n",
      "housing                   int32\n",
      "loan                      int32\n",
      "contact                  object\n",
      "day                       int64\n",
      "campaign                float64\n",
      "pdays                   float64\n",
      "previous                float64\n",
      "poutcome                  int32\n",
      "balance_to_age_ratio    float64\n",
      "balance_category          int32\n",
      "balance_age_ratio       float64\n",
      "dtype: object\n"
     ]
    }
   ],
   "source": [
    "print(train_set.dtypes)\n"
   ]
  },
  {
   "cell_type": "code",
   "execution_count": 55,
   "id": "e06ac54d-ce24-4c8b-b7c5-3739930c493b",
   "metadata": {},
   "outputs": [
    {
     "name": "stdout",
     "output_type": "stream",
     "text": [
      "           age   balance  balance_category  balance_age_ratio\n",
      "8644  0.411944 -0.387852                 1          -0.274693\n",
      "2632  0.411944  0.510484                 2           0.361547\n",
      "3056 -1.356972 -0.559449                 1           1.567206\n",
      "1080  0.159242  0.836830                 2           0.721877\n",
      "4006 -0.346163 -0.524864                 1          -0.802744\n",
      "           age   balance  balance_category  balance_age_ratio\n",
      "8220 -0.767333 -0.446825                 1          -1.920450\n",
      "2521 -0.430397 -0.454362                 1          -0.797682\n",
      "7949  0.917349 -0.300945                 1          -0.156959\n",
      "7879 -0.514631 -0.710650                 1          -1.464144\n",
      "616  -0.009226 -0.705329                 1          -0.711897\n"
     ]
    }
   ],
   "source": [
    "print(train_set[['age', 'balance', 'balance_category', 'balance_age_ratio']].head())\n",
    "print(test_set[['age', 'balance', 'balance_category', 'balance_age_ratio']].head())"
   ]
  },
  {
   "cell_type": "code",
   "execution_count": 56,
   "id": "698cc087-5586-48de-8812-15250317f0c4",
   "metadata": {},
   "outputs": [
    {
     "name": "stdout",
     "output_type": "stream",
     "text": [
      "                 balance                                                    \\\n",
      "                   count      mean       std       min       25%       50%   \n",
      "balance_category                                                             \n",
      "0                  959.0  2.371232  1.290702  1.000889  1.356056  1.879272   \n",
      "1                 6353.0 -0.459035  0.186999 -0.854279 -0.606007 -0.501363   \n",
      "2                 1617.0  0.397180  0.278097  0.000127  0.152214  0.351746   \n",
      "\n",
      "                                      \n",
      "                       75%       max  \n",
      "balance_category                      \n",
      "0                 3.070477  5.079762  \n",
      "1                -0.339964 -0.000317  \n",
      "2                 0.613798  0.999116  \n"
     ]
    }
   ],
   "source": [
    "print(train_set[['balance', 'balance_category']].groupby('balance_category').describe())\n"
   ]
  },
  {
   "cell_type": "markdown",
   "id": "40dec39f-7fed-41ff-a075-085c4d5b7d0e",
   "metadata": {},
   "source": [
    "# PCA\n",
    "#### Debido a la baja dimensionalidad y inexistencia de multicolinealidad no se procede a realiazar PCA, esto evitará una complejidad innecesaria"
   ]
  },
  {
   "cell_type": "markdown",
   "id": "c0e842b8-fb80-4296-bc07-c2fa129f53cc",
   "metadata": {},
   "source": [
    "# VERIFICACION EN PIPELINE"
   ]
  },
  {
   "cell_type": "code",
   "execution_count": 59,
   "id": "375ce226-8458-4d66-857e-e45e426f6229",
   "metadata": {},
   "outputs": [
    {
     "name": "stdout",
     "output_type": "stream",
     "text": [
      "Columnas en train_set: Index(['age', 'education', 'default', 'balance', 'housing', 'loan', 'contact',\n",
      "       'day', 'campaign', 'pdays', 'previous', 'poutcome',\n",
      "       'balance_to_age_ratio', 'balance_category', 'balance_age_ratio'],\n",
      "      dtype='object')\n",
      "Columnas en test_set: Index(['age', 'education', 'default', 'balance', 'housing', 'loan', 'contact',\n",
      "       'day', 'campaign', 'pdays', 'previous', 'poutcome',\n",
      "       'balance_to_age_ratio', 'balance_category', 'balance_age_ratio'],\n",
      "      dtype='object')\n",
      "\n",
      "¿Las columnas son consistentes?: True\n"
     ]
    }
   ],
   "source": [
    "print(\"Columnas en train_set:\", train_set.columns)\n",
    "print(\"Columnas en test_set:\", test_set.columns)\n",
    "\n",
    "print(\"\\n¿Las columnas son consistentes?:\", set(train_set.columns) == set(test_set.columns))\n"
   ]
  },
  {
   "cell_type": "code",
   "execution_count": 60,
   "id": "dfa54c88-df71-414f-9ad5-eaca1a4ec371",
   "metadata": {},
   "outputs": [
    {
     "name": "stdout",
     "output_type": "stream",
     "text": [
      "Valores faltantes en train_set:\n",
      "age                     0\n",
      "education               0\n",
      "default                 0\n",
      "balance                 0\n",
      "housing                 0\n",
      "loan                    0\n",
      "contact                 0\n",
      "day                     0\n",
      "campaign                0\n",
      "pdays                   0\n",
      "previous                0\n",
      "poutcome                0\n",
      "balance_to_age_ratio    0\n",
      "balance_category        0\n",
      "balance_age_ratio       0\n",
      "dtype: int64\n",
      "\n",
      "Valores faltantes en test_set:\n",
      "age                     0\n",
      "education               0\n",
      "default                 0\n",
      "balance                 0\n",
      "housing                 0\n",
      "loan                    0\n",
      "contact                 0\n",
      "day                     0\n",
      "campaign                0\n",
      "pdays                   0\n",
      "previous                0\n",
      "poutcome                0\n",
      "balance_to_age_ratio    0\n",
      "balance_category        0\n",
      "balance_age_ratio       0\n",
      "dtype: int64\n"
     ]
    }
   ],
   "source": [
    "print(\"Valores faltantes en train_set:\")\n",
    "print(train_set.isnull().sum())\n",
    "\n",
    "print(\"\\nValores faltantes en test_set:\")\n",
    "print(test_set.isnull().sum())\n"
   ]
  },
  {
   "cell_type": "markdown",
   "id": "4c39d746-9aa4-4b83-ab84-6d4b31035c28",
   "metadata": {},
   "source": [
    "### Descripción estadística de las columnas numéricas\n",
    "###### Comparamos para asegurarnos que las transformaciones son consistentes "
   ]
  },
  {
   "cell_type": "code",
   "execution_count": 62,
   "id": "29a322df-26b0-4439-8700-ba19c1c3736f",
   "metadata": {},
   "outputs": [
    {
     "name": "stdout",
     "output_type": "stream",
     "text": [
      "Estadísticas en train_set:\n",
      "                       count          mean        std         min       25%  \\\n",
      "age                   8929.0  2.319669e-16   1.000056   -1.946611 -0.767333   \n",
      "education             8929.0  1.288834e+00   0.752988    0.000000  1.000000   \n",
      "balance               8929.0 -2.964242e-17   1.000056   -0.854279 -0.566987   \n",
      "housing               8929.0  4.736253e-01   0.499332    0.000000  0.000000   \n",
      "loan                  8929.0  1.294658e-01   0.335734    0.000000  0.000000   \n",
      "day                   8929.0  1.568350e+01   8.429058    1.000000  8.000000   \n",
      "campaign              8929.0 -7.321081e-17   1.000056   -0.540031 -0.540031   \n",
      "pdays                 8929.0 -4.456310e-17   1.000056   -0.484037 -0.484037   \n",
      "previous              8929.0 -4.376733e-18   1.000056   -0.355931 -0.355931   \n",
      "poutcome              8929.0  2.473513e+00   1.006252    0.000000  2.000000   \n",
      "balance_to_age_ratio  8929.0  1.528646e-01  17.583684 -550.578443 -0.533484   \n",
      "balance_category      8929.0  1.073692e+00   0.532071    0.000000  1.000000   \n",
      "balance_age_ratio     8929.0  2.319118e-01   7.949139 -253.534010 -0.698513   \n",
      "\n",
      "                            50%        75%        max  \n",
      "age                   -0.177694   0.664647   4.539417  \n",
      "education              1.000000   2.000000   3.000000  \n",
      "balance               -0.376323   0.130044   5.079762  \n",
      "housing                0.000000   1.000000   1.000000  \n",
      "loan                   0.000000   0.000000   1.000000  \n",
      "day                   15.000000  22.000000  31.000000  \n",
      "campaign              -0.180775   0.178481  21.733858  \n",
      "pdays                 -0.484037  -0.126472   7.354883  \n",
      "previous              -0.355931   0.073021  24.523279  \n",
      "poutcome               3.000000   3.000000   3.000000  \n",
      "balance_to_age_ratio   0.240957   0.789179  92.592457  \n",
      "balance_category       1.000000   1.000000   2.000000  \n",
      "balance_age_ratio     -0.225055   0.467378  79.126094  \n",
      "\n",
      "Estadísticas en test_set:\n",
      "                       count       mean        std         min       25%  \\\n",
      "age                   2233.0   0.052148   1.014880   -1.946611 -0.767333   \n",
      "education             2233.0   1.267801   0.733802    0.000000  1.000000   \n",
      "balance               2233.0   0.057915   1.103689   -0.854279 -0.566100   \n",
      "housing               2233.0   0.471115   0.499277    0.000000  0.000000   \n",
      "loan                  2233.0   0.136140   0.343014    0.000000  0.000000   \n",
      "day                   2233.0  15.556202   8.388505    1.000000  8.000000   \n",
      "campaign              2233.0   0.009391   0.884070   -0.540031 -0.540031   \n",
      "pdays                 2233.0  -0.021269   0.985389   -0.484037 -0.484037   \n",
      "previous              2233.0   0.005980   0.912679   -0.355931 -0.355931   \n",
      "poutcome              2233.0   2.494850   0.989685    0.000000  3.000000   \n",
      "balance_to_age_ratio  2233.0   0.395885  15.003668 -315.617643 -0.531574   \n",
      "balance_category      2233.0   1.051052   0.543032    0.000000  1.000000   \n",
      "balance_age_ratio     2233.0   0.225492   9.543152 -253.534010 -0.689521   \n",
      "\n",
      "                            50%        75%        max  \n",
      "age                   -0.177694   0.748881   3.949778  \n",
      "education              1.000000   2.000000   3.000000  \n",
      "balance               -0.381201   0.169950   5.079762  \n",
      "housing                0.000000   1.000000   1.000000  \n",
      "loan                   0.000000   0.000000   1.000000  \n",
      "day                   15.000000  21.000000  31.000000  \n",
      "campaign              -0.180775   0.178481   9.159888  \n",
      "pdays                 -0.484037  -0.484037   7.116506  \n",
      "previous              -0.355931  -0.355931   9.509963  \n",
      "poutcome               3.000000   3.000000   3.000000  \n",
      "balance_to_age_ratio   0.259453   0.849287  92.592457  \n",
      "balance_category       1.000000   1.000000   2.000000  \n",
      "balance_age_ratio     -0.214478   0.521315  78.297280  \n"
     ]
    }
   ],
   "source": [
    "print(\"Estadísticas en train_set:\")\n",
    "print(train_set.describe().T)\n",
    "\n",
    "print(\"\\nEstadísticas en test_set:\")\n",
    "print(test_set.describe().T)\n"
   ]
  },
  {
   "cell_type": "markdown",
   "id": "3ca05631-010d-4f43-a5c0-72654518520f",
   "metadata": {},
   "source": [
    "##### nuestos valores están dentro del rango 0 y 1 lo cual confirma que tenemos una estadistica consistente"
   ]
  },
  {
   "cell_type": "markdown",
   "id": "0af696a0-18a1-46ba-91b4-e0fe7a53acff",
   "metadata": {},
   "source": [
    "# ENTRENAMIENTO DEL MODELO NO SUPERVISADO"
   ]
  },
  {
   "cell_type": "markdown",
   "id": "0a371dc9-f0fa-4852-8e49-2c8e037bded0",
   "metadata": {},
   "source": [
    "##### Implementacion de K-Means, para identificar grupos de clientes para personalizar las recomendaciones. La métrica será la de indice de silueta"
   ]
  },
  {
   "cell_type": "code",
   "execution_count": 66,
   "id": "46bb28ee-6d40-4034-af61-eca42a96ab0b",
   "metadata": {},
   "outputs": [],
   "source": [
    "from sklearn.cluster import KMeans\n",
    "from sklearn.metrics import silhouette_score\n",
    "\n",
    "columns_for_clustering = ['age', 'balance', 'campaign', 'pdays','education']\n",
    "X_clustering = train_set[columns_for_clustering]"
   ]
  },
  {
   "cell_type": "markdown",
   "id": "3b718349-67f2-4a4e-b247-c4b5c1c1b46d",
   "metadata": {},
   "source": [
    "#### Probar que K da el mejor resultado"
   ]
  },
  {
   "cell_type": "code",
   "execution_count": 68,
   "id": "9b9a14f4-be82-4010-b507-d5fe79b93a7a",
   "metadata": {},
   "outputs": [
    {
     "name": "stdout",
     "output_type": "stream",
     "text": [
      "Índice de Silueta para k=2: 0.35\n",
      "Índice de Silueta para k=3: 0.25\n",
      "Índice de Silueta para k=4: 0.28\n",
      "Índice de Silueta para k=5: 0.23\n"
     ]
    }
   ],
   "source": [
    "\n",
    "for k in range(2, 6):\n",
    "    kmeans = KMeans(n_clusters=k, random_state=42)\n",
    "    clusters = kmeans.fit_predict(X_clustering)\n",
    "    silhouette_avg = silhouette_score(X_clustering, clusters)\n",
    "    print(f\"Índice de Silueta para k={k}: {silhouette_avg:.2f}\")\n"
   ]
  },
  {
   "cell_type": "code",
   "execution_count": 69,
   "id": "d595bd38-2576-4c67-8f3a-b830a7422ae8",
   "metadata": {},
   "outputs": [],
   "source": [
    "\n",
    "kmeans = KMeans(n_clusters=2, random_state=42)\n",
    "clusters = kmeans.fit_predict(X_clustering)\n",
    "\n"
   ]
  },
  {
   "cell_type": "markdown",
   "id": "8144ad8a-3c9f-49e3-b5cf-924a7fd4b37c",
   "metadata": {},
   "source": [
    "## Asignar cluster al conjunto de datos"
   ]
  },
  {
   "cell_type": "code",
   "execution_count": 71,
   "id": "cc374011-01db-4d77-ad22-12887705bc20",
   "metadata": {
    "scrolled": true
   },
   "outputs": [
    {
     "name": "stdout",
     "output_type": "stream",
     "text": [
      "           age   balance  campaign     pdays  education\n",
      "8644  0.411944 -0.387852  0.178481 -0.484037          1\n",
      "2632  0.411944  0.510484 -0.540031  0.386954          2\n",
      "3056 -1.356972 -0.559449 -0.540031  0.359449          1\n",
      "1080  0.159242  0.836830  0.178481 -0.484037          1\n",
      "4006 -0.346163 -0.524864 -0.180775 -0.484037          3\n"
     ]
    }
   ],
   "source": [
    "train_set['cluster'] = clusters\n",
    "\n",
    "print(train_set[['age', 'balance', 'campaign', 'pdays','education']].head())\n"
   ]
  },
  {
   "cell_type": "markdown",
   "id": "8820844a-d649-4e6f-9983-5376a7733080",
   "metadata": {},
   "source": [
    "### Calculamos las estadisticas promedio para cada cluster"
   ]
  },
  {
   "cell_type": "code",
   "execution_count": 73,
   "id": "02d054a0-8137-46a1-8cb0-d6da748d13a2",
   "metadata": {
    "scrolled": true
   },
   "outputs": [
    {
     "name": "stdout",
     "output_type": "stream",
     "text": [
      "              age  education   balance   housing      loan        day  \\\n",
      "cluster                                                                 \n",
      "0       -0.064571   1.278002 -0.288022  0.485747  0.138875  15.616044   \n",
      "1        0.511410   1.374625  2.281154  0.377622  0.054945  16.217782   \n",
      "\n",
      "         campaign     pdays  previous  poutcome  balance_to_age_ratio  \\\n",
      "cluster                                                                 \n",
      "0        0.007599 -0.003403 -0.012141  2.482089              0.958838   \n",
      "1       -0.060185  0.026953  0.096162  2.405594             -6.230511   \n",
      "\n",
      "         balance_category  balance_age_ratio  \n",
      "cluster                                       \n",
      "0                1.179995           0.097375  \n",
      "1                0.231768           1.297456  \n"
     ]
    }
   ],
   "source": [
    "numeric_columns = train_set.select_dtypes(include=['number']).columns\n",
    "cluster_summary = train_set[numeric_columns].groupby('cluster').mean()\n",
    "\n",
    "print(cluster_summary)\n"
   ]
  },
  {
   "cell_type": "code",
   "execution_count": 74,
   "id": "5df9b73f-3b9b-43d8-91cd-f8f54b9047fa",
   "metadata": {},
   "outputs": [
    {
     "name": "stdout",
     "output_type": "stream",
     "text": [
      "\n",
      "Distribución de clientes por cluster (%):\n",
      "cluster\n",
      "0    88.789338\n",
      "1    11.210662\n",
      "Name: proportion, dtype: float64\n"
     ]
    }
   ],
   "source": [
    "cluster_distribution = train_set['cluster'].value_counts(normalize=True) * 100\n",
    "print(\"\\nDistribución de clientes por cluster (%):\")\n",
    "print(cluster_distribution)\n"
   ]
  },
  {
   "cell_type": "code",
   "execution_count": 75,
   "id": "fc305e98-10f9-4c4c-817b-22ce5ad82d94",
   "metadata": {
    "scrolled": true
   },
   "outputs": [
    {
     "name": "stdout",
     "output_type": "stream",
     "text": [
      "Características promedio por cluster:\n",
      "              age  education   balance   housing      loan        day  \\\n",
      "cluster                                                                 \n",
      "0       -0.064571   1.278002 -0.288022  0.485747  0.138875  15.616044   \n",
      "1        0.511410   1.374625  2.281154  0.377622  0.054945  16.217782   \n",
      "\n",
      "         campaign     pdays  previous  poutcome  balance_to_age_ratio  \\\n",
      "cluster                                                                 \n",
      "0        0.007599 -0.003403 -0.012141  2.482089              0.958838   \n",
      "1       -0.060185  0.026953  0.096162  2.405594             -6.230511   \n",
      "\n",
      "         balance_category  balance_age_ratio  \n",
      "cluster                                       \n",
      "0                1.179995           0.097375  \n",
      "1                0.231768           1.297456  \n"
     ]
    }
   ],
   "source": [
    "print(\"Características promedio por cluster:\")\n",
    "print(cluster_summary)\n"
   ]
  },
  {
   "cell_type": "code",
   "execution_count": 76,
   "id": "a009bf20-8977-4606-b69d-5b715de353a1",
   "metadata": {},
   "outputs": [],
   "source": [
    "test_set['cluster'] = kmeans.predict(test_set[['age', 'balance', 'campaign', 'pdays','education']])\n"
   ]
  },
  {
   "cell_type": "markdown",
   "id": "314eef17-307a-47b1-ba3a-c3fdf16381d6",
   "metadata": {},
   "source": [
    "# ENTRENAMIENTO DEL MODELO  SUPERVISADO"
   ]
  },
  {
   "cell_type": "markdown",
   "id": "bf748586-bc76-4a76-abab-1580bdff4ef4",
   "metadata": {},
   "source": [
    "##### Implementacion Regresión Logística, para predecir la probabilidad de aceptación. Las métricas serán, Accuracy, Precisión, Recall, F1-Score."
   ]
  },
  {
   "cell_type": "code",
   "execution_count": 79,
   "id": "e4d4e2bc-adf7-44b6-acf3-52682b7d92e9",
   "metadata": {},
   "outputs": [
    {
     "name": "stdout",
     "output_type": "stream",
     "text": [
      "Columnas en train_set: Index(['age', 'education', 'default', 'balance', 'housing', 'loan', 'contact',\n",
      "       'day', 'campaign', 'pdays', 'previous', 'poutcome',\n",
      "       'balance_to_age_ratio', 'balance_category', 'balance_age_ratio',\n",
      "       'cluster'],\n",
      "      dtype='object')\n",
      "\n",
      "Columnas en test_set: Index(['age', 'education', 'default', 'balance', 'housing', 'loan', 'contact',\n",
      "       'day', 'campaign', 'pdays', 'previous', 'poutcome',\n",
      "       'balance_to_age_ratio', 'balance_category', 'balance_age_ratio',\n",
      "       'cluster'],\n",
      "      dtype='object')\n"
     ]
    }
   ],
   "source": [
    "print(\"Columnas en train_set:\", train_set.columns)\n",
    "print(\"\\nColumnas en test_set:\", test_set.columns)\n"
   ]
  },
  {
   "cell_type": "code",
   "execution_count": 80,
   "id": "2509db9d-d445-4f90-8c12-9d64bc4a1e1f",
   "metadata": {},
   "outputs": [],
   "source": [
    "predictor_columns = ['pdays', 'housing', 'loan', 'previous', 'balance_to_age_ratio', 'balance_category', 'cluster']\n",
    "\n",
    "train_set_updated = train_set[predictor_columns]\n",
    "test_set_updated = test_set[predictor_columns]\n"
   ]
  },
  {
   "cell_type": "code",
   "execution_count": 81,
   "id": "35fd1269-5db4-427d-91b3-0dadc416d441",
   "metadata": {},
   "outputs": [
    {
     "data": {
      "text/html": [
       "<style>#sk-container-id-1 {\n",
       "  /* Definition of color scheme common for light and dark mode */\n",
       "  --sklearn-color-text: black;\n",
       "  --sklearn-color-line: gray;\n",
       "  /* Definition of color scheme for unfitted estimators */\n",
       "  --sklearn-color-unfitted-level-0: #fff5e6;\n",
       "  --sklearn-color-unfitted-level-1: #f6e4d2;\n",
       "  --sklearn-color-unfitted-level-2: #ffe0b3;\n",
       "  --sklearn-color-unfitted-level-3: chocolate;\n",
       "  /* Definition of color scheme for fitted estimators */\n",
       "  --sklearn-color-fitted-level-0: #f0f8ff;\n",
       "  --sklearn-color-fitted-level-1: #d4ebff;\n",
       "  --sklearn-color-fitted-level-2: #b3dbfd;\n",
       "  --sklearn-color-fitted-level-3: cornflowerblue;\n",
       "\n",
       "  /* Specific color for light theme */\n",
       "  --sklearn-color-text-on-default-background: var(--sg-text-color, var(--theme-code-foreground, var(--jp-content-font-color1, black)));\n",
       "  --sklearn-color-background: var(--sg-background-color, var(--theme-background, var(--jp-layout-color0, white)));\n",
       "  --sklearn-color-border-box: var(--sg-text-color, var(--theme-code-foreground, var(--jp-content-font-color1, black)));\n",
       "  --sklearn-color-icon: #696969;\n",
       "\n",
       "  @media (prefers-color-scheme: dark) {\n",
       "    /* Redefinition of color scheme for dark theme */\n",
       "    --sklearn-color-text-on-default-background: var(--sg-text-color, var(--theme-code-foreground, var(--jp-content-font-color1, white)));\n",
       "    --sklearn-color-background: var(--sg-background-color, var(--theme-background, var(--jp-layout-color0, #111)));\n",
       "    --sklearn-color-border-box: var(--sg-text-color, var(--theme-code-foreground, var(--jp-content-font-color1, white)));\n",
       "    --sklearn-color-icon: #878787;\n",
       "  }\n",
       "}\n",
       "\n",
       "#sk-container-id-1 {\n",
       "  color: var(--sklearn-color-text);\n",
       "}\n",
       "\n",
       "#sk-container-id-1 pre {\n",
       "  padding: 0;\n",
       "}\n",
       "\n",
       "#sk-container-id-1 input.sk-hidden--visually {\n",
       "  border: 0;\n",
       "  clip: rect(1px 1px 1px 1px);\n",
       "  clip: rect(1px, 1px, 1px, 1px);\n",
       "  height: 1px;\n",
       "  margin: -1px;\n",
       "  overflow: hidden;\n",
       "  padding: 0;\n",
       "  position: absolute;\n",
       "  width: 1px;\n",
       "}\n",
       "\n",
       "#sk-container-id-1 div.sk-dashed-wrapped {\n",
       "  border: 1px dashed var(--sklearn-color-line);\n",
       "  margin: 0 0.4em 0.5em 0.4em;\n",
       "  box-sizing: border-box;\n",
       "  padding-bottom: 0.4em;\n",
       "  background-color: var(--sklearn-color-background);\n",
       "}\n",
       "\n",
       "#sk-container-id-1 div.sk-container {\n",
       "  /* jupyter's `normalize.less` sets `[hidden] { display: none; }`\n",
       "     but bootstrap.min.css set `[hidden] { display: none !important; }`\n",
       "     so we also need the `!important` here to be able to override the\n",
       "     default hidden behavior on the sphinx rendered scikit-learn.org.\n",
       "     See: https://github.com/scikit-learn/scikit-learn/issues/21755 */\n",
       "  display: inline-block !important;\n",
       "  position: relative;\n",
       "}\n",
       "\n",
       "#sk-container-id-1 div.sk-text-repr-fallback {\n",
       "  display: none;\n",
       "}\n",
       "\n",
       "div.sk-parallel-item,\n",
       "div.sk-serial,\n",
       "div.sk-item {\n",
       "  /* draw centered vertical line to link estimators */\n",
       "  background-image: linear-gradient(var(--sklearn-color-text-on-default-background), var(--sklearn-color-text-on-default-background));\n",
       "  background-size: 2px 100%;\n",
       "  background-repeat: no-repeat;\n",
       "  background-position: center center;\n",
       "}\n",
       "\n",
       "/* Parallel-specific style estimator block */\n",
       "\n",
       "#sk-container-id-1 div.sk-parallel-item::after {\n",
       "  content: \"\";\n",
       "  width: 100%;\n",
       "  border-bottom: 2px solid var(--sklearn-color-text-on-default-background);\n",
       "  flex-grow: 1;\n",
       "}\n",
       "\n",
       "#sk-container-id-1 div.sk-parallel {\n",
       "  display: flex;\n",
       "  align-items: stretch;\n",
       "  justify-content: center;\n",
       "  background-color: var(--sklearn-color-background);\n",
       "  position: relative;\n",
       "}\n",
       "\n",
       "#sk-container-id-1 div.sk-parallel-item {\n",
       "  display: flex;\n",
       "  flex-direction: column;\n",
       "}\n",
       "\n",
       "#sk-container-id-1 div.sk-parallel-item:first-child::after {\n",
       "  align-self: flex-end;\n",
       "  width: 50%;\n",
       "}\n",
       "\n",
       "#sk-container-id-1 div.sk-parallel-item:last-child::after {\n",
       "  align-self: flex-start;\n",
       "  width: 50%;\n",
       "}\n",
       "\n",
       "#sk-container-id-1 div.sk-parallel-item:only-child::after {\n",
       "  width: 0;\n",
       "}\n",
       "\n",
       "/* Serial-specific style estimator block */\n",
       "\n",
       "#sk-container-id-1 div.sk-serial {\n",
       "  display: flex;\n",
       "  flex-direction: column;\n",
       "  align-items: center;\n",
       "  background-color: var(--sklearn-color-background);\n",
       "  padding-right: 1em;\n",
       "  padding-left: 1em;\n",
       "}\n",
       "\n",
       "\n",
       "/* Toggleable style: style used for estimator/Pipeline/ColumnTransformer box that is\n",
       "clickable and can be expanded/collapsed.\n",
       "- Pipeline and ColumnTransformer use this feature and define the default style\n",
       "- Estimators will overwrite some part of the style using the `sk-estimator` class\n",
       "*/\n",
       "\n",
       "/* Pipeline and ColumnTransformer style (default) */\n",
       "\n",
       "#sk-container-id-1 div.sk-toggleable {\n",
       "  /* Default theme specific background. It is overwritten whether we have a\n",
       "  specific estimator or a Pipeline/ColumnTransformer */\n",
       "  background-color: var(--sklearn-color-background);\n",
       "}\n",
       "\n",
       "/* Toggleable label */\n",
       "#sk-container-id-1 label.sk-toggleable__label {\n",
       "  cursor: pointer;\n",
       "  display: block;\n",
       "  width: 100%;\n",
       "  margin-bottom: 0;\n",
       "  padding: 0.5em;\n",
       "  box-sizing: border-box;\n",
       "  text-align: center;\n",
       "}\n",
       "\n",
       "#sk-container-id-1 label.sk-toggleable__label-arrow:before {\n",
       "  /* Arrow on the left of the label */\n",
       "  content: \"▸\";\n",
       "  float: left;\n",
       "  margin-right: 0.25em;\n",
       "  color: var(--sklearn-color-icon);\n",
       "}\n",
       "\n",
       "#sk-container-id-1 label.sk-toggleable__label-arrow:hover:before {\n",
       "  color: var(--sklearn-color-text);\n",
       "}\n",
       "\n",
       "/* Toggleable content - dropdown */\n",
       "\n",
       "#sk-container-id-1 div.sk-toggleable__content {\n",
       "  max-height: 0;\n",
       "  max-width: 0;\n",
       "  overflow: hidden;\n",
       "  text-align: left;\n",
       "  /* unfitted */\n",
       "  background-color: var(--sklearn-color-unfitted-level-0);\n",
       "}\n",
       "\n",
       "#sk-container-id-1 div.sk-toggleable__content.fitted {\n",
       "  /* fitted */\n",
       "  background-color: var(--sklearn-color-fitted-level-0);\n",
       "}\n",
       "\n",
       "#sk-container-id-1 div.sk-toggleable__content pre {\n",
       "  margin: 0.2em;\n",
       "  border-radius: 0.25em;\n",
       "  color: var(--sklearn-color-text);\n",
       "  /* unfitted */\n",
       "  background-color: var(--sklearn-color-unfitted-level-0);\n",
       "}\n",
       "\n",
       "#sk-container-id-1 div.sk-toggleable__content.fitted pre {\n",
       "  /* unfitted */\n",
       "  background-color: var(--sklearn-color-fitted-level-0);\n",
       "}\n",
       "\n",
       "#sk-container-id-1 input.sk-toggleable__control:checked~div.sk-toggleable__content {\n",
       "  /* Expand drop-down */\n",
       "  max-height: 200px;\n",
       "  max-width: 100%;\n",
       "  overflow: auto;\n",
       "}\n",
       "\n",
       "#sk-container-id-1 input.sk-toggleable__control:checked~label.sk-toggleable__label-arrow:before {\n",
       "  content: \"▾\";\n",
       "}\n",
       "\n",
       "/* Pipeline/ColumnTransformer-specific style */\n",
       "\n",
       "#sk-container-id-1 div.sk-label input.sk-toggleable__control:checked~label.sk-toggleable__label {\n",
       "  color: var(--sklearn-color-text);\n",
       "  background-color: var(--sklearn-color-unfitted-level-2);\n",
       "}\n",
       "\n",
       "#sk-container-id-1 div.sk-label.fitted input.sk-toggleable__control:checked~label.sk-toggleable__label {\n",
       "  background-color: var(--sklearn-color-fitted-level-2);\n",
       "}\n",
       "\n",
       "/* Estimator-specific style */\n",
       "\n",
       "/* Colorize estimator box */\n",
       "#sk-container-id-1 div.sk-estimator input.sk-toggleable__control:checked~label.sk-toggleable__label {\n",
       "  /* unfitted */\n",
       "  background-color: var(--sklearn-color-unfitted-level-2);\n",
       "}\n",
       "\n",
       "#sk-container-id-1 div.sk-estimator.fitted input.sk-toggleable__control:checked~label.sk-toggleable__label {\n",
       "  /* fitted */\n",
       "  background-color: var(--sklearn-color-fitted-level-2);\n",
       "}\n",
       "\n",
       "#sk-container-id-1 div.sk-label label.sk-toggleable__label,\n",
       "#sk-container-id-1 div.sk-label label {\n",
       "  /* The background is the default theme color */\n",
       "  color: var(--sklearn-color-text-on-default-background);\n",
       "}\n",
       "\n",
       "/* On hover, darken the color of the background */\n",
       "#sk-container-id-1 div.sk-label:hover label.sk-toggleable__label {\n",
       "  color: var(--sklearn-color-text);\n",
       "  background-color: var(--sklearn-color-unfitted-level-2);\n",
       "}\n",
       "\n",
       "/* Label box, darken color on hover, fitted */\n",
       "#sk-container-id-1 div.sk-label.fitted:hover label.sk-toggleable__label.fitted {\n",
       "  color: var(--sklearn-color-text);\n",
       "  background-color: var(--sklearn-color-fitted-level-2);\n",
       "}\n",
       "\n",
       "/* Estimator label */\n",
       "\n",
       "#sk-container-id-1 div.sk-label label {\n",
       "  font-family: monospace;\n",
       "  font-weight: bold;\n",
       "  display: inline-block;\n",
       "  line-height: 1.2em;\n",
       "}\n",
       "\n",
       "#sk-container-id-1 div.sk-label-container {\n",
       "  text-align: center;\n",
       "}\n",
       "\n",
       "/* Estimator-specific */\n",
       "#sk-container-id-1 div.sk-estimator {\n",
       "  font-family: monospace;\n",
       "  border: 1px dotted var(--sklearn-color-border-box);\n",
       "  border-radius: 0.25em;\n",
       "  box-sizing: border-box;\n",
       "  margin-bottom: 0.5em;\n",
       "  /* unfitted */\n",
       "  background-color: var(--sklearn-color-unfitted-level-0);\n",
       "}\n",
       "\n",
       "#sk-container-id-1 div.sk-estimator.fitted {\n",
       "  /* fitted */\n",
       "  background-color: var(--sklearn-color-fitted-level-0);\n",
       "}\n",
       "\n",
       "/* on hover */\n",
       "#sk-container-id-1 div.sk-estimator:hover {\n",
       "  /* unfitted */\n",
       "  background-color: var(--sklearn-color-unfitted-level-2);\n",
       "}\n",
       "\n",
       "#sk-container-id-1 div.sk-estimator.fitted:hover {\n",
       "  /* fitted */\n",
       "  background-color: var(--sklearn-color-fitted-level-2);\n",
       "}\n",
       "\n",
       "/* Specification for estimator info (e.g. \"i\" and \"?\") */\n",
       "\n",
       "/* Common style for \"i\" and \"?\" */\n",
       "\n",
       ".sk-estimator-doc-link,\n",
       "a:link.sk-estimator-doc-link,\n",
       "a:visited.sk-estimator-doc-link {\n",
       "  float: right;\n",
       "  font-size: smaller;\n",
       "  line-height: 1em;\n",
       "  font-family: monospace;\n",
       "  background-color: var(--sklearn-color-background);\n",
       "  border-radius: 1em;\n",
       "  height: 1em;\n",
       "  width: 1em;\n",
       "  text-decoration: none !important;\n",
       "  margin-left: 1ex;\n",
       "  /* unfitted */\n",
       "  border: var(--sklearn-color-unfitted-level-1) 1pt solid;\n",
       "  color: var(--sklearn-color-unfitted-level-1);\n",
       "}\n",
       "\n",
       ".sk-estimator-doc-link.fitted,\n",
       "a:link.sk-estimator-doc-link.fitted,\n",
       "a:visited.sk-estimator-doc-link.fitted {\n",
       "  /* fitted */\n",
       "  border: var(--sklearn-color-fitted-level-1) 1pt solid;\n",
       "  color: var(--sklearn-color-fitted-level-1);\n",
       "}\n",
       "\n",
       "/* On hover */\n",
       "div.sk-estimator:hover .sk-estimator-doc-link:hover,\n",
       ".sk-estimator-doc-link:hover,\n",
       "div.sk-label-container:hover .sk-estimator-doc-link:hover,\n",
       ".sk-estimator-doc-link:hover {\n",
       "  /* unfitted */\n",
       "  background-color: var(--sklearn-color-unfitted-level-3);\n",
       "  color: var(--sklearn-color-background);\n",
       "  text-decoration: none;\n",
       "}\n",
       "\n",
       "div.sk-estimator.fitted:hover .sk-estimator-doc-link.fitted:hover,\n",
       ".sk-estimator-doc-link.fitted:hover,\n",
       "div.sk-label-container:hover .sk-estimator-doc-link.fitted:hover,\n",
       ".sk-estimator-doc-link.fitted:hover {\n",
       "  /* fitted */\n",
       "  background-color: var(--sklearn-color-fitted-level-3);\n",
       "  color: var(--sklearn-color-background);\n",
       "  text-decoration: none;\n",
       "}\n",
       "\n",
       "/* Span, style for the box shown on hovering the info icon */\n",
       ".sk-estimator-doc-link span {\n",
       "  display: none;\n",
       "  z-index: 9999;\n",
       "  position: relative;\n",
       "  font-weight: normal;\n",
       "  right: .2ex;\n",
       "  padding: .5ex;\n",
       "  margin: .5ex;\n",
       "  width: min-content;\n",
       "  min-width: 20ex;\n",
       "  max-width: 50ex;\n",
       "  color: var(--sklearn-color-text);\n",
       "  box-shadow: 2pt 2pt 4pt #999;\n",
       "  /* unfitted */\n",
       "  background: var(--sklearn-color-unfitted-level-0);\n",
       "  border: .5pt solid var(--sklearn-color-unfitted-level-3);\n",
       "}\n",
       "\n",
       ".sk-estimator-doc-link.fitted span {\n",
       "  /* fitted */\n",
       "  background: var(--sklearn-color-fitted-level-0);\n",
       "  border: var(--sklearn-color-fitted-level-3);\n",
       "}\n",
       "\n",
       ".sk-estimator-doc-link:hover span {\n",
       "  display: block;\n",
       "}\n",
       "\n",
       "/* \"?\"-specific style due to the `<a>` HTML tag */\n",
       "\n",
       "#sk-container-id-1 a.estimator_doc_link {\n",
       "  float: right;\n",
       "  font-size: 1rem;\n",
       "  line-height: 1em;\n",
       "  font-family: monospace;\n",
       "  background-color: var(--sklearn-color-background);\n",
       "  border-radius: 1rem;\n",
       "  height: 1rem;\n",
       "  width: 1rem;\n",
       "  text-decoration: none;\n",
       "  /* unfitted */\n",
       "  color: var(--sklearn-color-unfitted-level-1);\n",
       "  border: var(--sklearn-color-unfitted-level-1) 1pt solid;\n",
       "}\n",
       "\n",
       "#sk-container-id-1 a.estimator_doc_link.fitted {\n",
       "  /* fitted */\n",
       "  border: var(--sklearn-color-fitted-level-1) 1pt solid;\n",
       "  color: var(--sklearn-color-fitted-level-1);\n",
       "}\n",
       "\n",
       "/* On hover */\n",
       "#sk-container-id-1 a.estimator_doc_link:hover {\n",
       "  /* unfitted */\n",
       "  background-color: var(--sklearn-color-unfitted-level-3);\n",
       "  color: var(--sklearn-color-background);\n",
       "  text-decoration: none;\n",
       "}\n",
       "\n",
       "#sk-container-id-1 a.estimator_doc_link.fitted:hover {\n",
       "  /* fitted */\n",
       "  background-color: var(--sklearn-color-fitted-level-3);\n",
       "}\n",
       "</style><div id=\"sk-container-id-1\" class=\"sk-top-container\"><div class=\"sk-text-repr-fallback\"><pre>LogisticRegression(max_iter=500, random_state=42)</pre><b>In a Jupyter environment, please rerun this cell to show the HTML representation or trust the notebook. <br />On GitHub, the HTML representation is unable to render, please try loading this page with nbviewer.org.</b></div><div class=\"sk-container\" hidden><div class=\"sk-item\"><div class=\"sk-estimator fitted sk-toggleable\"><input class=\"sk-toggleable__control sk-hidden--visually\" id=\"sk-estimator-id-1\" type=\"checkbox\" checked><label for=\"sk-estimator-id-1\" class=\"sk-toggleable__label fitted sk-toggleable__label-arrow fitted\">&nbsp;&nbsp;LogisticRegression<a class=\"sk-estimator-doc-link fitted\" rel=\"noreferrer\" target=\"_blank\" href=\"https://scikit-learn.org/1.5/modules/generated/sklearn.linear_model.LogisticRegression.html\">?<span>Documentation for LogisticRegression</span></a><span class=\"sk-estimator-doc-link fitted\">i<span>Fitted</span></span></label><div class=\"sk-toggleable__content fitted\"><pre>LogisticRegression(max_iter=500, random_state=42)</pre></div> </div></div></div></div>"
      ],
      "text/plain": [
       "LogisticRegression(max_iter=500, random_state=42)"
      ]
     },
     "execution_count": 81,
     "metadata": {},
     "output_type": "execute_result"
    }
   ],
   "source": [
    "from sklearn.linear_model import LogisticRegression\n",
    "\n",
    "log_reg = LogisticRegression(random_state=42, max_iter=500)\n",
    "\n",
    "log_reg.fit(train_set_updated, y_train)\n"
   ]
  },
  {
   "cell_type": "code",
   "execution_count": 82,
   "id": "8c661825-f116-4ee2-a36a-633a40b9bfd7",
   "metadata": {},
   "outputs": [
    {
     "name": "stdout",
     "output_type": "stream",
     "text": [
      "         Característica  Coeficiente\n",
      "6               cluster     0.798538\n",
      "5      balance_category     0.350239\n",
      "0                 pdays     0.258719\n",
      "3              previous     0.181428\n",
      "4  balance_to_age_ratio    -0.001978\n",
      "2                  loan    -0.598009\n",
      "1               housing    -0.842445\n"
     ]
    }
   ],
   "source": [
    "coeficientes = pd.DataFrame({\n",
    "    'Característica': predictor_columns,\n",
    "    'Coeficiente': log_reg.coef_[0]\n",
    "})\n",
    "\n",
    "\n",
    "coeficientes = coeficientes.sort_values(by='Coeficiente', ascending=False)\n",
    "\n",
    "\n",
    "print(coeficientes)\n"
   ]
  },
  {
   "cell_type": "code",
   "execution_count": 83,
   "id": "ab478c68-390f-435c-8d5b-86e47b1f352c",
   "metadata": {},
   "outputs": [],
   "source": [
    "y_pred = log_reg.predict(test_set_updated)\n"
   ]
  },
  {
   "cell_type": "markdown",
   "id": "6e4988bc-15fe-4a79-86d5-d98b07fd4efe",
   "metadata": {},
   "source": [
    "### Matriz de Confusión"
   ]
  },
  {
   "cell_type": "code",
   "execution_count": 85,
   "id": "c2c3249d-4c5b-4829-8820-6d785b97dff2",
   "metadata": {
    "scrolled": true
   },
   "outputs": [
    {
     "name": "stdout",
     "output_type": "stream",
     "text": [
      "Matriz de Confusión:\n",
      "[[666 509]\n",
      " [358 700]]\n",
      "\n",
      "Reporte de Clasificación:\n",
      "              precision    recall  f1-score   support\n",
      "\n",
      "           0       0.65      0.57      0.61      1175\n",
      "           1       0.58      0.66      0.62      1058\n",
      "\n",
      "    accuracy                           0.61      2233\n",
      "   macro avg       0.61      0.61      0.61      2233\n",
      "weighted avg       0.62      0.61      0.61      2233\n",
      "\n",
      "\n",
      "Exactitud (Accuracy): 0.61\n"
     ]
    }
   ],
   "source": [
    "from sklearn.metrics import classification_report, confusion_matrix, accuracy_score\n",
    "\n",
    "print(\"Matriz de Confusión:\")\n",
    "print(confusion_matrix(y_test, y_pred))\n",
    "\n",
    "\n",
    "print(\"\\nReporte de Clasificación:\")\n",
    "print(classification_report(y_test, y_pred))\n",
    "\n",
    "accuracy = accuracy_score(y_test, y_pred)\n",
    "print(f\"\\nExactitud (Accuracy): {accuracy:.2f}\")\n"
   ]
  },
  {
   "cell_type": "code",
   "execution_count": 86,
   "id": "b4c59693-9cee-464f-a11c-9ae6720dd78c",
   "metadata": {
    "scrolled": true
   },
   "outputs": [
    {
     "data": {
      "image/png": "[encoded data removed]",
      "text/plain": [
       "<Figure size 640x480 with 2 Axes>"
      ]
     },
     "metadata": {},
     "output_type": "display_data"
    }
   ],
   "source": [
    "from sklearn.metrics import ConfusionMatrixDisplay\n",
    "\n",
    "ConfusionMatrixDisplay.from_predictions(y_test, y_pred, cmap='Blues')\n",
    "plt.title('Matriz de Confusión')\n",
    "plt.show()\n"
   ]
  },
  {
   "cell_type": "code",
   "execution_count": 87,
   "id": "e5b3fa46-58e3-4966-9538-dc308b47bcc5",
   "metadata": {},
   "outputs": [],
   "source": [
    "from sklearn.metrics import roc_curve, roc_auc_score\n"
   ]
  },
  {
   "cell_type": "markdown",
   "id": "5e2491c5-cc49-4e5b-bce9-57163af3216e",
   "metadata": {},
   "source": [
    "#### Calcular la curva ROC y Calcular el AUC"
   ]
  },
  {
   "cell_type": "code",
   "execution_count": 89,
   "id": "148fc70c-eb10-42b0-b897-6a61dce04ff0",
   "metadata": {
    "scrolled": true
   },
   "outputs": [
    {
     "data": {
      "image/png": "[encoded data removed]",
      "text/plain": [
       "<Figure size 640x480 with 1 Axes>"
      ]
     },
     "metadata": {},
     "output_type": "display_data"
    }
   ],
   "source": [
    "y_pred_prob = log_reg.predict_proba(test_set_updated)[:, 1]\n",
    "\n",
    "fpr, tpr, thresholds = roc_curve(y_test, y_pred_prob)\n",
    "\n",
    "auc = roc_auc_score(y_test, y_pred_prob)\n",
    "\n",
    "plt.plot(fpr, tpr, label=f'ROC curve (AUC = {auc:.2f})', color='blue')\n",
    "plt.plot([0, 1], [0, 1], linestyle='--', color='red', label='Línea de referencia')\n",
    "plt.xlabel('Tasa de Falsos Positivos (FPR)')\n",
    "plt.ylabel('Tasa de Verdaderos Positivos (TPR)')\n",
    "plt.title('Curva ROC')\n",
    "plt.legend()\n",
    "plt.grid(True)\n",
    "plt.show()\n",
    "\n"
   ]
  },
  {
   "cell_type": "markdown",
   "id": "36d4890f-751a-4655-8960-8508ee115a88",
   "metadata": {},
   "source": [
    "### Obtener los coeficientes del modelo y gráfica de la importacia de las categorías\n"
   ]
  },
  {
   "cell_type": "code",
   "execution_count": 91,
   "id": "fb292d6b-04af-4ab9-9977-3364855e2dc0",
   "metadata": {
    "scrolled": true
   },
   "outputs": [
    {
     "data": {
      "image/png": "[encoded data removed]",
      "text/plain": [
       "<Figure size 640x480 with 1 Axes>"
      ]
     },
     "metadata": {},
     "output_type": "display_data"
    }
   ],
   "source": [
    "feature_importance = pd.DataFrame({'Característica': predictor_columns, 'Importancia': log_reg.coef_[0]})\n",
    "feature_importance = feature_importance.sort_values(by='Importancia', ascending=False)\n",
    "\n",
    "\n",
    "plt.barh(feature_importance['Característica'], feature_importance['Importancia'])\n",
    "plt.title('Importancia de Características')\n",
    "plt.xlabel('Peso del Coeficiente')\n",
    "plt.ylabel('Característica')\n",
    "plt.grid(True)\n",
    "plt.show()\n"
   ]
  },
  {
   "cell_type": "markdown",
   "id": "628a9a45-4943-4eaa-acaa-5916a2e99a14",
   "metadata": {},
   "source": [
    "# GUARDAR Y ESCALAR"
   ]
  },
  {
   "cell_type": "code",
   "execution_count": 93,
   "id": "6c0d6168-05a4-4ebe-a722-681d6ee0e863",
   "metadata": {},
   "outputs": [
    {
     "name": "stdout",
     "output_type": "stream",
     "text": [
      "Modelo y escalador guardados exitosamente.\n"
     ]
    }
   ],
   "source": [
    "import pickle\n",
    "\n",
    "with open('model.pkl', 'wb') as file:\n",
    "    pickle.dump(log_reg, file)  \n",
    "\n",
    "with open('scaler.pkl', 'wb') as file:\n",
    "    pickle.dump(scaler, file)  \n",
    "\n",
    "print(\"Modelo y escalador guardados exitosamente.\")\n"
   ]
  },
  {
   "cell_type": "code",
   "execution_count": 94,
   "id": "6e615630-da85-4946-8a93-b992ff8120f5",
   "metadata": {},
   "outputs": [
    {
     "name": "stdout",
     "output_type": "stream",
     "text": [
      "['age' 'balance' 'campaign' 'pdays' 'previous']\n"
     ]
    }
   ],
   "source": [
    "with open('scaler.pkl', 'rb') as file:\n",
    "    scaler = pickle.load(file)\n",
    "print(scaler.feature_names_in_)  # Esto te muestra los nombres esperados\n"
   ]
  },
  {
   "cell_type": "code",
   "execution_count": 95,
   "id": "1491ac7f-8a32-47cc-b237-91216cb37826",
   "metadata": {},
   "outputs": [
    {
     "name": "stdout",
     "output_type": "stream",
     "text": [
      "['pdays' 'housing' 'loan' 'previous' 'balance_to_age_ratio'\n",
      " 'balance_category' 'cluster']\n"
     ]
    }
   ],
   "source": [
    "with open('model.pkl', 'rb') as file:\n",
    "    model = pickle.load(file)\n",
    "print(model.feature_names_in_)  # Si esto falla, el modelo no necesita nombres\n"
   ]
  },
  {
   "cell_type": "code",
   "execution_count": 96,
   "id": "9ceb5db1-2454-4824-9bd5-84679440da80",
   "metadata": {},
   "outputs": [
    {
     "name": "stdout",
     "output_type": "stream",
     "text": [
      "Número de características esperado por el escalador: 5\n"
     ]
    }
   ],
   "source": [
    "import pickle\n",
    "\n",
    "with open('scaler.pkl', 'rb') as file:\n",
    "    scaler = pickle.load(file)\n",
    "\n",
    "print(f\"Número de características esperado por el escalador: {scaler.n_features_in_}\")\n"
   ]
  },
  {
   "cell_type": "code",
   "execution_count": 97,
   "id": "8f99d756-2ee0-4d3e-9ca0-c895a39695c3",
   "metadata": {},
   "outputs": [
    {
     "name": "stdout",
     "output_type": "stream",
     "text": [
      "Package                           Version\n",
      "--------------------------------- ------------------\n",
      "aext-assistant                    4.0.15\n",
      "aext-assistant-server             4.0.15\n",
      "aext-core                         4.0.15\n",
      "aext-core-server                  4.0.15\n",
      "aext-panels                       4.0.15\n",
      "aext-panels-server                4.0.15\n",
      "aext-share-notebook               4.0.15\n",
      "aext-share-notebook-server        4.0.15\n",
      "aext-shared                       4.0.15\n",
      "aiobotocore                       2.12.3\n",
      "aiohappyeyeballs                  2.4.0\n",
      "aiohttp                           3.10.5\n",
      "aioitertools                      0.7.1\n",
      "aiosignal                         1.2.0\n",
      "alabaster                         0.7.16\n",
      "altair                            5.0.1\n",
      "anaconda-anon-usage               0.4.4\n",
      "anaconda-catalogs                 0.2.0\n",
      "anaconda-cli-base                 0.4.1\n",
      "anaconda-client                   1.13.0\n",
      "anaconda-cloud-auth               0.7.2\n",
      "anaconda-navigator                2.6.4\n",
      "anaconda-project                  0.11.1\n",
      "annotated-types                   0.6.0\n",
      "anyio                             4.2.0\n",
      "appdirs                           1.4.4\n",
      "archspec                          0.2.3\n",
      "argon2-cffi                       21.3.0\n",
      "argon2-cffi-bindings              21.2.0\n",
      "arrow                             1.2.3\n",
      "astroid                           2.14.2\n",
      "astropy                           6.1.3\n",
      "astropy-iers-data                 0.2024.9.2.0.33.23\n",
      "asttokens                         2.4.1\n",
      "async-lru                         2.0.4\n",
      "atomicwrites                      1.4.0\n",
      "attrs                             23.1.0\n",
      "Automat                           20.2.0\n",
      "autopep8                          2.0.4\n",
      "Babel                             2.11.0\n",
      "bcrypt                            3.2.0\n",
      "beautifulsoup4                    4.12.3\n",
      "binaryornot                       0.4.4\n",
      "black                             24.8.0\n",
      "bleach                            4.1.0\n",
      "blinker                           1.6.2\n",
      "bokeh                             3.6.0\n",
      "boltons                           23.0.0\n",
      "botocore                          1.34.69\n",
      "Bottleneck                        1.3.7\n",
      "Brotli                            1.0.9\n",
      "cachetools                        5.3.3\n",
      "certifi                           2024.8.30\n",
      "cffi                              1.17.1\n",
      "chardet                           4.0.0\n",
      "charset-normalizer                3.3.2\n",
      "click                             8.1.7\n",
      "cloudpickle                       3.0.0\n",
      "colorama                          0.4.6\n",
      "colorcet                          3.1.0\n",
      "comm                              0.2.2\n",
      "conda                             24.11.1\n",
      "conda-build                       24.9.0\n",
      "conda-content-trust               0.2.0\n",
      "conda_index                       0.5.0\n",
      "conda-libmamba-solver             24.9.0\n",
      "conda-pack                        0.7.1\n",
      "conda-package-handling            2.3.0\n",
      "conda_package_streaming           0.10.0\n",
      "conda-repo-cli                    1.0.114\n",
      "conda-token                       0.5.0+1.g2209e04\n",
      "constantly                        23.10.4\n",
      "contourpy                         1.2.0\n",
      "cookiecutter                      2.6.0\n",
      "cryptography                      43.0.0\n",
      "cssselect                         1.2.0\n",
      "cycler                            0.11.0\n",
      "cytoolz                           0.12.2\n",
      "dask                              2024.8.2\n",
      "dask-expr                         1.1.13\n",
      "datashader                        0.16.3\n",
      "debugpy                           1.8.1\n",
      "decorator                         5.1.1\n",
      "defusedxml                        0.7.1\n",
      "diff-match-patch                  20200713\n",
      "dill                              0.3.8\n",
      "distributed                       2024.8.2\n",
      "distro                            1.9.0\n",
      "docstring-to-markdown             0.11\n",
      "docutils                          0.18.1\n",
      "et-xmlfile                        1.1.0\n",
      "executing                         2.0.1\n",
      "fastjsonschema                    2.16.2\n",
      "filelock                          3.13.1\n",
      "flake8                            7.0.0\n",
      "Flask                             3.0.3\n",
      "fonttools                         4.51.0\n",
      "frozendict                        2.4.2\n",
      "frozenlist                        1.4.0\n",
      "fsspec                            2024.6.1\n",
      "gensim                            4.3.3\n",
      "gitdb                             4.0.7\n",
      "GitPython                         3.1.43\n",
      "greenlet                          3.0.1\n",
      "h11                               0.14.0\n",
      "h5py                              3.11.0\n",
      "HeapDict                          1.0.1\n",
      "holoviews                         1.19.1\n",
      "httpcore                          1.0.2\n",
      "httpx                             0.27.0\n",
      "hvplot                            0.11.0\n",
      "hyperlink                         21.0.0\n",
      "idna                              3.7\n",
      "imagecodecs                       2023.1.23\n",
      "imageio                           2.33.1\n",
      "imagesize                         1.4.1\n",
      "imbalanced-learn                  0.12.3\n",
      "importlib-metadata                7.0.1\n",
      "importlib_resources               6.4.5\n",
      "incremental                       22.10.0\n",
      "inflection                        0.5.1\n",
      "iniconfig                         1.1.1\n",
      "intake                            2.0.7\n",
      "intervaltree                      3.1.0\n",
      "ipykernel                         6.29.4\n",
      "ipython                           8.23.0\n",
      "ipython-genutils                  0.2.0\n",
      "ipywidgets                        7.8.1\n",
      "isort                             5.13.2\n",
      "itemadapter                       0.3.0\n",
      "itemloaders                       1.1.0\n",
      "itsdangerous                      2.2.0\n",
      "jaraco.classes                    3.2.1\n",
      "jedi                              0.19.1\n",
      "jellyfish                         1.0.1\n",
      "Jinja2                            3.1.4\n",
      "jmespath                          1.0.1\n",
      "joblib                            1.4.2\n",
      "json5                             0.9.6\n",
      "jsonpatch                         1.33\n",
      "jsonpointer                       2.1\n",
      "jsonschema                        4.23.0\n",
      "jsonschema-specifications         2023.7.1\n",
      "jupyter                           1.0.0\n",
      "jupyter_client                    8.6.1\n",
      "jupyter-console                   6.6.3\n",
      "jupyter_core                      5.7.2\n",
      "jupyter-events                    0.10.0\n",
      "jupyter-lsp                       2.2.0\n",
      "jupyter_server                    2.14.1\n",
      "jupyter_server_terminals          0.4.4\n",
      "jupyterlab                        4.2.5\n",
      "jupyterlab-pygments               0.1.2\n",
      "jupyterlab_server                 2.27.3\n",
      "jupyterlab-widgets                1.0.0\n",
      "keyring                           24.3.1\n",
      "kiwisolver                        1.4.4\n",
      "lazy_loader                       0.4\n",
      "lazy-object-proxy                 1.10.0\n",
      "lckr_jupyterlab_variableinspector 3.1.0\n",
      "libarchive-c                      5.1\n",
      "libmambapy                        1.5.8\n",
      "linkify-it-py                     2.0.0\n",
      "llvmlite                          0.43.0\n",
      "lmdb                              1.4.1\n",
      "locket                            1.0.0\n",
      "lxml                              5.2.1\n",
      "lz4                               4.3.2\n",
      "Markdown                          3.4.1\n",
      "markdown-it-py                    2.2.0\n",
      "MarkupSafe                        2.1.3\n",
      "matplotlib                        3.9.2\n",
      "matplotlib-inline                 0.1.6\n",
      "mccabe                            0.7.0\n",
      "mdit-py-plugins                   0.3.0\n",
      "mdurl                             0.1.0\n",
      "menuinst                          2.1.2\n",
      "mistune                           2.0.4\n",
      "mkl_fft                           1.3.10\n",
      "mkl_random                        1.2.7\n",
      "mkl-service                       2.4.0\n",
      "more-itertools                    10.3.0\n",
      "mpmath                            1.3.0\n",
      "msgpack                           1.0.3\n",
      "multidict                         6.0.4\n",
      "multipledispatch                  0.6.0\n",
      "mypy                              1.11.2\n",
      "mypy-extensions                   1.0.0\n",
      "navigator-updater                 0.5.1\n",
      "nbclient                          0.8.0\n",
      "nbconvert                         7.16.4\n",
      "nbformat                          5.10.4\n",
      "nest-asyncio                      1.6.0\n",
      "networkx                          3.3\n",
      "nltk                              3.9.1\n",
      "notebook                          7.2.2\n",
      "notebook_shim                     0.2.3\n",
      "numba                             0.60.0\n",
      "numexpr                           2.8.7\n",
      "numpy                             1.26.4\n",
      "numpydoc                          1.7.0\n",
      "openpyxl                          3.1.5\n",
      "overrides                         7.4.0\n",
      "packaging                         24.0\n",
      "pandas                            2.2.2\n",
      "pandocfilters                     1.5.0\n",
      "panel                             1.5.2\n",
      "param                             2.1.1\n",
      "paramiko                          2.8.1\n",
      "parsel                            1.8.1\n",
      "parso                             0.8.3\n",
      "partd                             1.4.1\n",
      "pathspec                          0.10.3\n",
      "patsy                             0.5.6\n",
      "pexpect                           4.8.0\n",
      "pickleshare                       0.7.5\n",
      "pillow                            10.4.0\n",
      "pip                               24.2\n",
      "pkce                              1.0.3\n",
      "pkginfo                           1.10.0\n",
      "platformdirs                      4.2.0\n",
      "plotly                            5.24.1\n",
      "pluggy                            1.0.0\n",
      "ply                               3.11\n",
      "prometheus-client                 0.14.1\n",
      "prompt-toolkit                    3.0.43\n",
      "Protego                           0.1.16\n",
      "protobuf                          4.25.3\n",
      "psutil                            5.9.8\n",
      "ptyprocess                        0.7.0\n",
      "pure-eval                         0.2.2\n",
      "py-cpuinfo                        9.0.0\n",
      "pyarrow                           16.1.0\n",
      "pyasn1                            0.4.8\n",
      "pyasn1-modules                    0.2.8\n",
      "pycodestyle                       2.11.1\n",
      "pycosat                           0.6.6\n",
      "pycparser                         2.21\n",
      "pyct                              0.5.0\n",
      "pycurl                            7.45.3\n",
      "pydantic                          2.8.2\n",
      "pydantic_core                     2.20.1\n",
      "pydantic-settings                 2.6.1\n",
      "pydeck                            0.8.0\n",
      "PyDispatcher                      2.0.5\n",
      "pydocstyle                        6.3.0\n",
      "pyerfa                            2.0.1.4\n",
      "pyflakes                          3.2.0\n",
      "Pygments                          2.17.2\n",
      "PyJWT                             2.8.0\n",
      "pylint                            2.16.2\n",
      "pylint-venv                       3.0.3\n",
      "pyls-spyder                       0.4.0\n",
      "PyNaCl                            1.5.0\n",
      "pyodbc                            5.1.0\n",
      "pyOpenSSL                         24.2.1\n",
      "pyparsing                         3.1.2\n",
      "PyQt5                             5.15.10\n",
      "PyQt5-sip                         12.13.0\n",
      "PyQtWebEngine                     5.15.6\n",
      "PySocks                           1.7.1\n",
      "pytest                            7.4.4\n",
      "python-dateutil                   2.9.0.post0\n",
      "python-dotenv                     0.21.0\n",
      "python-json-logger                2.0.7\n",
      "python-lsp-black                  2.0.0\n",
      "python-lsp-jsonrpc                1.1.2\n",
      "python-lsp-server                 1.10.0\n",
      "python-slugify                    5.0.2\n",
      "pytoolconfig                      1.2.6\n",
      "pytz                              2024.1\n",
      "pyviz_comms                       3.0.2\n",
      "PyWavelets                        1.7.0\n",
      "pywin32                           306\n",
      "pywin32-ctypes                    0.2.2\n",
      "pywinpty                          2.0.10\n",
      "PyYAML                            6.0.1\n",
      "pyzmq                             25.1.2\n",
      "QDarkStyle                        3.2.3\n",
      "qstylizer                         0.2.2\n",
      "QtAwesome                         1.3.1\n",
      "qtconsole                         5.5.1\n",
      "QtPy                              2.4.1\n",
      "queuelib                          1.6.2\n",
      "readchar                          4.0.5\n",
      "referencing                       0.30.2\n",
      "regex                             2024.9.11\n",
      "requests                          2.32.3\n",
      "requests-file                     1.5.1\n",
      "requests-toolbelt                 1.0.0\n",
      "rfc3339-validator                 0.1.4\n",
      "rfc3986-validator                 0.1.1\n",
      "rich                              13.7.1\n",
      "rope                              1.12.0\n",
      "rpds-py                           0.10.6\n",
      "Rtree                             1.0.1\n",
      "ruamel.yaml                       0.18.6\n",
      "ruamel.yaml.clib                  0.2.8\n",
      "ruamel-yaml-conda                 0.17.21\n",
      "s3fs                              2024.6.1\n",
      "scikit-image                      0.24.0\n",
      "scikit-learn                      1.5.1\n",
      "scipy                             1.13.1\n",
      "Scrapy                            2.11.1\n",
      "seaborn                           0.13.2\n",
      "semver                            3.0.2\n",
      "Send2Trash                        1.8.2\n",
      "service-identity                  18.1.0\n",
      "setuptools                        75.1.0\n",
      "shellingham                       1.5.0\n",
      "sip                               6.7.12\n",
      "six                               1.16.0\n",
      "smart-open                        5.2.1\n",
      "smmap                             4.0.0\n",
      "sniffio                           1.3.0\n",
      "snowballstemmer                   2.2.0\n",
      "sortedcontainers                  2.4.0\n",
      "soupsieve                         2.5\n",
      "Sphinx                            7.3.7\n",
      "sphinxcontrib-applehelp           1.0.2\n",
      "sphinxcontrib-devhelp             1.0.2\n",
      "sphinxcontrib-htmlhelp            2.0.0\n",
      "sphinxcontrib-jsmath              1.0.1\n",
      "sphinxcontrib-qthelp              1.0.3\n",
      "sphinxcontrib-serializinghtml     1.1.10\n",
      "spyder                            5.5.1\n",
      "spyder-kernels                    2.5.0\n",
      "SQLAlchemy                        2.0.34\n",
      "stack-data                        0.6.3\n",
      "statsmodels                       0.14.2\n",
      "streamlit                         1.37.1\n",
      "sweetviz                          2.3.1\n",
      "sympy                             1.13.2\n",
      "tables                            3.10.1\n",
      "tabulate                          0.9.0\n",
      "tblib                             1.7.0\n",
      "tenacity                          8.2.3\n",
      "terminado                         0.17.1\n",
      "text-unidecode                    1.3\n",
      "textdistance                      4.2.1\n",
      "threadpoolctl                     3.5.0\n",
      "three-merge                       0.1.1\n",
      "tifffile                          2023.4.12\n",
      "tinycss2                          1.2.1\n",
      "tldextract                        5.1.2\n",
      "toml                              0.10.2\n",
      "tomli                             2.0.1\n",
      "tomlkit                           0.11.1\n",
      "toolz                             0.12.0\n",
      "tornado                           6.4\n",
      "tqdm                              4.66.5\n",
      "traitlets                         5.14.2\n",
      "truststore                        0.8.0\n",
      "Twisted                           23.10.0\n",
      "twisted-iocpsupport               1.0.2\n",
      "typer                             0.9.0\n",
      "typing_extensions                 4.11.0\n",
      "tzdata                            2023.3\n",
      "uc-micro-py                       1.0.1\n",
      "ujson                             5.10.0\n",
      "unicodedata2                      15.1.0\n",
      "Unidecode                         1.3.8\n",
      "urllib3                           2.2.3\n",
      "w3lib                             2.1.2\n",
      "watchdog                          4.0.1\n",
      "wcwidth                           0.2.13\n",
      "webencodings                      0.5.1\n",
      "websocket-client                  1.8.0\n",
      "Werkzeug                          3.0.3\n",
      "whatthepatch                      1.0.2\n",
      "wheel                             0.44.0\n",
      "widgetsnbextension                3.6.6\n",
      "win-inet-pton                     1.1.0\n",
      "wrapt                             1.14.1\n",
      "xarray                            2023.6.0\n",
      "xlwings                           0.32.1\n",
      "xyzservices                       2022.9.0\n",
      "yapf                              0.40.2\n",
      "yarl                              1.11.0\n",
      "zict                              3.0.0\n",
      "zipp                              3.17.0\n",
      "zope.interface                    5.4.0\n",
      "zstandard                         0.23.0\n",
      "Note: you may need to restart the kernel to use updated packages.\n"
     ]
    }
   ],
   "source": [
    "pip list"
   ]
  }
 ],
 "metadata": {
  "kernelspec": {
   "display_name": "Python 3 (ipykernel)",
   "language": "python",
   "name": "python3"
  },
  "language_info": {
   "codemirror_mode": {
    "name": "ipython",
    "version": 3
   },
   "file_extension": ".py",
   "mimetype": "text/x-python",
   "name": "python",
   "nbconvert_exporter": "python",
   "pygments_lexer": "ipython3",
   "version": "3.12.7"
  }
 },
 "nbformat": 4,
 "nbformat_minor": 5
}
