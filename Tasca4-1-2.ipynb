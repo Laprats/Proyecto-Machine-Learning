{
 "cells": [
  {
   "cell_type": "code",
   "execution_count": 1,
   "id": "d3cf3a3c-0fbc-486d-b41e-5d00b1f14638",
   "metadata": {},
   "outputs": [
    {
     "name": "stdout",
     "output_type": "stream",
     "text": [
      "Requirement already satisfied: beautifulsoup4 in c:\\users\\aprats\\appdata\\local\\anaconda3\\envs\\entorn_ml\\lib\\site-packages (4.12.3)\n",
      "Requirement already satisfied: soupsieve>1.2 in c:\\users\\aprats\\appdata\\local\\anaconda3\\envs\\entorn_ml\\lib\\site-packages (from beautifulsoup4) (2.5)\n",
      "Note: you may need to restart the kernel to use updated packages.\n"
     ]
    }
   ],
   "source": [
    "pip install beautifulsoup4"
   ]
  },
  {
   "cell_type": "code",
   "execution_count": 2,
   "id": "6f8fbdcb-694d-44ab-8ced-72507e6e028c",
   "metadata": {},
   "outputs": [],
   "source": [
    "# Llamada de librerias"
   ]
  },
  {
   "cell_type": "code",
   "execution_count": 3,
   "id": "ac5b4dd1-addb-4405-98cd-8f42a69ce75e",
   "metadata": {},
   "outputs": [],
   "source": [
    "import requests"
   ]
  },
  {
   "cell_type": "code",
   "execution_count": 4,
   "id": "3d7f6301-43d3-4ce4-9282-1fb64e93ec1a",
   "metadata": {},
   "outputs": [],
   "source": [
    "import pandas as pd"
   ]
  },
  {
   "cell_type": "code",
   "execution_count": 5,
   "id": "8cf764ec-85b0-458d-983b-a3452ab3cac6",
   "metadata": {},
   "outputs": [],
   "source": [
    "from bs4 import BeautifulSoup"
   ]
  },
  {
   "cell_type": "code",
   "execution_count": 6,
   "id": "7b8e3118-0ee7-4621-a015-92743aa16cc5",
   "metadata": {},
   "outputs": [],
   "source": [
    "# URL del sitio web con el que voy a trabajar"
   ]
  },
  {
   "cell_type": "code",
   "execution_count": 7,
   "id": "2939c01f-f7fc-458d-8453-0c5ce9a87201",
   "metadata": {},
   "outputs": [],
   "source": [
    "url = \"http://books.toscrape.com/\""
   ]
  },
  {
   "cell_type": "code",
   "execution_count": 8,
   "id": "c132c3d3-af37-49b9-aa64-4249ca33bd12",
   "metadata": {},
   "outputs": [],
   "source": [
    "# Solicitud"
   ]
  },
  {
   "cell_type": "code",
   "execution_count": 9,
   "id": "e7167c2d-0227-4f1d-b1ab-6c2b600a6eb7",
   "metadata": {},
   "outputs": [],
   "source": [
    "response = requests.get(url)"
   ]
  },
  {
   "cell_type": "code",
   "execution_count": 10,
   "id": "02c2ca85-70b9-4c85-9795-5fd0c46bb1ff",
   "metadata": {},
   "outputs": [],
   "source": [
    "#verificación de solicitud"
   ]
  },
  {
   "cell_type": "code",
   "execution_count": 11,
   "id": "7a99ffab-d77a-4b81-a76d-55180c48609c",
   "metadata": {},
   "outputs": [
    {
     "name": "stdout",
     "output_type": "stream",
     "text": [
      "Conexión exitosa\n"
     ]
    }
   ],
   "source": [
    "if response.status_code == 200:\n",
    "    print(\"Conexión exitosa\")\n",
    "    soup = BeautifulSoup(response.text, 'html.parser')  # Analizar el HTML\n",
    "else:\n",
    "    print(f\"Error al conectar: {response.status_code}\")"
   ]
  },
  {
   "cell_type": "code",
   "execution_count": 12,
   "id": "f2007c08-8043-4773-997b-796f8b9d2d47",
   "metadata": {},
   "outputs": [],
   "source": [
    "#extracción de información, en este caso son libros porque la pagina es de libros"
   ]
  },
  {
   "cell_type": "code",
   "execution_count": 13,
   "id": "251f2103-fc23-4363-a488-6516dbe8a532",
   "metadata": {},
   "outputs": [],
   "source": [
    "libros = soup.find_all('article', class_='product_pod')"
   ]
  },
  {
   "cell_type": "code",
   "execution_count": 14,
   "id": "195cf9f2-0c3c-44cf-a5bf-49870086f0bf",
   "metadata": {},
   "outputs": [],
   "source": [
    "titulos = []\n",
    "precios = []\n",
    "disponibilidad = []"
   ]
  },
  {
   "cell_type": "code",
   "execution_count": 15,
   "id": "52a3014a-d7fe-4607-824c-d200c6c699d3",
   "metadata": {},
   "outputs": [],
   "source": [
    "for libro in libros:\n",
    "    # Extraer título\n",
    "    titulo = libro.h3.a['title'] if libro.h3 and libro.h3.a else \"Sin título\"\n",
    "    titulos.append(titulo)\n",
    "    \n",
    "    # Extraer precio\n",
    "    precio_tag = libro.find('p', class_='price_color')\n",
    "    precio = precio_tag.text if precio_tag else \"N/A\"\n",
    "    precios.append(precio)\n",
    "    \n",
    "    # Extraer disponibilidad\n",
    "    stock_tag = libro.find('p', class_='instock availability')\n",
    "    stock = stock_tag.text.strip() if stock_tag else \"No disponible\"\n",
    "    disponibilidad.append(stock)"
   ]
  },
  {
   "cell_type": "code",
   "execution_count": 16,
   "id": "3fed2c26-14e8-4b16-be48-e738766e8a75",
   "metadata": {},
   "outputs": [
    {
     "name": "stdout",
     "output_type": "stream",
     "text": [
      "Longitudes de las listas: 20, 20, 20\n"
     ]
    }
   ],
   "source": [
    "print(f\"Longitudes de las listas: {len(titulos)}, {len(precios)}, {len(disponibilidad)}\")"
   ]
  },
  {
   "cell_type": "code",
   "execution_count": 17,
   "id": "f4d22612-2407-4aaa-90ad-f521ce322719",
   "metadata": {},
   "outputs": [],
   "source": [
    "#organizar todo en un DataFrame"
   ]
  },
  {
   "cell_type": "code",
   "execution_count": 18,
   "id": "844a910c-a979-4a5c-9311-eaa223f72cdb",
   "metadata": {},
   "outputs": [
    {
     "name": "stdout",
     "output_type": "stream",
     "text": [
      "                                               Título   Precio Disponibilidad\n",
      "0                                A Light in the Attic  Â£51.77       In stock\n",
      "1                                  Tipping the Velvet  Â£53.74       In stock\n",
      "2                                          Soumission  Â£50.10       In stock\n",
      "3                                       Sharp Objects  Â£47.82       In stock\n",
      "4               Sapiens: A Brief History of Humankind  Â£54.23       In stock\n",
      "5                                     The Requiem Red  Â£22.65       In stock\n",
      "6   The Dirty Little Secrets of Getting Your Dream...  Â£33.34       In stock\n",
      "7   The Coming Woman: A Novel Based on the Life of...  Â£17.93       In stock\n",
      "8   The Boys in the Boat: Nine Americans and Their...  Â£22.60       In stock\n",
      "9                                     The Black Maria  Â£52.15       In stock\n",
      "10     Starving Hearts (Triangular Trade Trilogy, #1)  Â£13.99       In stock\n",
      "11                              Shakespeare's Sonnets  Â£20.66       In stock\n",
      "12                                        Set Me Free  Â£17.46       In stock\n",
      "13  Scott Pilgrim's Precious Little Life (Scott Pi...  Â£52.29       In stock\n",
      "14                          Rip it Up and Start Again  Â£35.02       In stock\n",
      "15  Our Band Could Be Your Life: Scenes from the A...  Â£57.25       In stock\n",
      "16                                               Olio  Â£23.88       In stock\n",
      "17  Mesaerion: The Best Science Fiction Stories 18...  Â£37.59       In stock\n",
      "18                       Libertarianism for Beginners  Â£51.33       In stock\n",
      "19                            It's Only the Himalayas  Â£45.17       In stock\n"
     ]
    }
   ],
   "source": [
    "df = pd.DataFrame({\n",
    "    \"Título\": titulos,\n",
    "    \"Precio\": precios,\n",
    "    \"Disponibilidad\": disponibilidad\n",
    "})\n",
    "print(df)"
   ]
  }
 ],
 "metadata": {
  "kernelspec": {
   "display_name": "Python 3 (ipykernel)",
   "language": "python",
   "name": "python3"
  },
  "language_info": {
   "codemirror_mode": {
    "name": "ipython",
    "version": 3
   },
   "file_extension": ".py",
   "mimetype": "text/x-python",
   "name": "python",
   "nbconvert_exporter": "python",
   "pygments_lexer": "ipython3",
   "version": "3.12.7"
  }
 },
 "nbformat": 4,
 "nbformat_minor": 5
}
