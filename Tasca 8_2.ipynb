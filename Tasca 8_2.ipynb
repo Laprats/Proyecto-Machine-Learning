{
 "cells": [
  {
   "cell_type": "markdown",
   "id": "7b73e8c6-f615-4791-b5b9-8239624ba03b",
   "metadata": {},
   "source": [
    "# PREPARACION DE DATOS / PREPROCESAMIENTO"
   ]
  },
  {
   "cell_type": "markdown",
   "id": "1d173685-5f63-476f-84f7-d14445812bd0",
   "metadata": {},
   "source": [
    "## 1. Importación de Bibliotecas"
   ]
  },
  {
   "cell_type": "code",
   "execution_count": 3,
   "id": "4ee3aa47-b726-4c29-b6c3-cfe089f2769f",
   "metadata": {},
   "outputs": [
    {
     "name": "stdout",
     "output_type": "stream",
     "text": [
      "Requirement already satisfied: sweetviz in c:\\users\\aprats\\appdata\\local\\anaconda3\\lib\\site-packages (2.3.1)\n",
      "Requirement already satisfied: pandas!=1.0.0,!=1.0.1,!=1.0.2,>=0.25.3 in c:\\users\\aprats\\appdata\\local\\anaconda3\\lib\\site-packages (from sweetviz) (2.2.2)\n",
      "Requirement already satisfied: numpy>=1.16.0 in c:\\users\\aprats\\appdata\\local\\anaconda3\\lib\\site-packages (from sweetviz) (1.26.4)\n",
      "Requirement already satisfied: matplotlib>=3.1.3 in c:\\users\\aprats\\appdata\\local\\anaconda3\\lib\\site-packages (from sweetviz) (3.9.2)\n",
      "Requirement already satisfied: tqdm>=4.43.0 in c:\\users\\aprats\\appdata\\local\\anaconda3\\lib\\site-packages (from sweetviz) (4.66.5)\n",
      "Requirement already satisfied: scipy>=1.3.2 in c:\\users\\aprats\\appdata\\local\\anaconda3\\lib\\site-packages (from sweetviz) (1.13.1)\n",
      "Requirement already satisfied: jinja2>=2.11.1 in c:\\users\\aprats\\appdata\\local\\anaconda3\\lib\\site-packages (from sweetviz) (3.1.4)\n",
      "Requirement already satisfied: importlib-resources>=1.2.0 in c:\\users\\aprats\\appdata\\local\\anaconda3\\lib\\site-packages (from sweetviz) (6.4.5)\n",
      "Requirement already satisfied: MarkupSafe>=2.0 in c:\\users\\aprats\\appdata\\local\\anaconda3\\lib\\site-packages (from jinja2>=2.11.1->sweetviz) (2.1.3)\n",
      "Requirement already satisfied: contourpy>=1.0.1 in c:\\users\\aprats\\appdata\\local\\anaconda3\\lib\\site-packages (from matplotlib>=3.1.3->sweetviz) (1.2.0)\n",
      "Requirement already satisfied: cycler>=0.10 in c:\\users\\aprats\\appdata\\local\\anaconda3\\lib\\site-packages (from matplotlib>=3.1.3->sweetviz) (0.11.0)\n",
      "Requirement already satisfied: fonttools>=4.22.0 in c:\\users\\aprats\\appdata\\local\\anaconda3\\lib\\site-packages (from matplotlib>=3.1.3->sweetviz) (4.51.0)\n",
      "Requirement already satisfied: kiwisolver>=1.3.1 in c:\\users\\aprats\\appdata\\local\\anaconda3\\lib\\site-packages (from matplotlib>=3.1.3->sweetviz) (1.4.4)\n",
      "Requirement already satisfied: packaging>=20.0 in c:\\users\\aprats\\appdata\\roaming\\python\\python312\\site-packages (from matplotlib>=3.1.3->sweetviz) (24.0)\n",
      "Requirement already satisfied: pillow>=8 in c:\\users\\aprats\\appdata\\local\\anaconda3\\lib\\site-packages (from matplotlib>=3.1.3->sweetviz) (10.4.0)\n",
      "Requirement already satisfied: pyparsing>=2.3.1 in c:\\users\\aprats\\appdata\\local\\anaconda3\\lib\\site-packages (from matplotlib>=3.1.3->sweetviz) (3.1.2)\n",
      "Requirement already satisfied: python-dateutil>=2.7 in c:\\users\\aprats\\appdata\\roaming\\python\\python312\\site-packages (from matplotlib>=3.1.3->sweetviz) (2.9.0.post0)\n",
      "Requirement already satisfied: pytz>=2020.1 in c:\\users\\aprats\\appdata\\local\\anaconda3\\lib\\site-packages (from pandas!=1.0.0,!=1.0.1,!=1.0.2,>=0.25.3->sweetviz) (2024.1)\n",
      "Requirement already satisfied: tzdata>=2022.7 in c:\\users\\aprats\\appdata\\local\\anaconda3\\lib\\site-packages (from pandas!=1.0.0,!=1.0.1,!=1.0.2,>=0.25.3->sweetviz) (2023.3)\n",
      "Requirement already satisfied: colorama in c:\\users\\aprats\\appdata\\roaming\\python\\python312\\site-packages (from tqdm>=4.43.0->sweetviz) (0.4.6)\n",
      "Requirement already satisfied: six>=1.5 in c:\\users\\aprats\\appdata\\roaming\\python\\python312\\site-packages (from python-dateutil>=2.7->matplotlib>=3.1.3->sweetviz) (1.16.0)\n"
     ]
    }
   ],
   "source": [
    "import pandas as pd\n",
    "import numpy as np\n",
    "import matplotlib.pyplot as plt\n",
    "import seaborn as sns\n",
    "!pip install sweetviz\n",
    "import sweetviz as sv"
   ]
  },
  {
   "cell_type": "markdown",
   "id": "6dea2a3b-2e8b-40e2-9b32-60ed99a43b89",
   "metadata": {},
   "source": [
    "### Cargando los datos"
   ]
  },
  {
   "cell_type": "code",
   "execution_count": 5,
   "id": "baaebd40-0dbb-4e47-b44c-0c604b4224a0",
   "metadata": {},
   "outputs": [],
   "source": [
    "df = pd.read_csv(\"C:/Users/aprats/OneDrive - Fundacio privada quiropractica/VARIOS/AP Personal/ML/bank_dataset.CSV\")"
   ]
  },
  {
   "cell_type": "code",
   "execution_count": 6,
   "id": "149662a0-7db9-4f64-89b2-2b36c7836253",
   "metadata": {},
   "outputs": [
    {
     "data": {
      "text/html": [
       "<div>\n",
       "<style scoped>\n",
       "    .dataframe tbody tr th:only-of-type {\n",
       "        vertical-align: middle;\n",
       "    }\n",
       "\n",
       "    .dataframe tbody tr th {\n",
       "        vertical-align: top;\n",
       "    }\n",
       "\n",
       "    .dataframe thead th {\n",
       "        text-align: right;\n",
       "    }\n",
       "</style>\n",
       "<table border=\"1\" class=\"dataframe\">\n",
       "  <thead>\n",
       "    <tr style=\"text-align: right;\">\n",
       "      <th></th>\n",
       "      <th>age</th>\n",
       "      <th>job</th>\n",
       "      <th>marital</th>\n",
       "      <th>education</th>\n",
       "      <th>default</th>\n",
       "      <th>balance</th>\n",
       "      <th>housing</th>\n",
       "      <th>loan</th>\n",
       "      <th>contact</th>\n",
       "      <th>day</th>\n",
       "      <th>month</th>\n",
       "      <th>duration</th>\n",
       "      <th>campaign</th>\n",
       "      <th>pdays</th>\n",
       "      <th>previous</th>\n",
       "      <th>poutcome</th>\n",
       "      <th>deposit</th>\n",
       "    </tr>\n",
       "  </thead>\n",
       "  <tbody>\n",
       "    <tr>\n",
       "      <th>0</th>\n",
       "      <td>59.0</td>\n",
       "      <td>admin.</td>\n",
       "      <td>married</td>\n",
       "      <td>secondary</td>\n",
       "      <td>no</td>\n",
       "      <td>2343</td>\n",
       "      <td>yes</td>\n",
       "      <td>no</td>\n",
       "      <td>unknown</td>\n",
       "      <td>5</td>\n",
       "      <td>may</td>\n",
       "      <td>1042</td>\n",
       "      <td>1</td>\n",
       "      <td>-1</td>\n",
       "      <td>0</td>\n",
       "      <td>unknown</td>\n",
       "      <td>yes</td>\n",
       "    </tr>\n",
       "    <tr>\n",
       "      <th>1</th>\n",
       "      <td>56.0</td>\n",
       "      <td>admin.</td>\n",
       "      <td>married</td>\n",
       "      <td>secondary</td>\n",
       "      <td>no</td>\n",
       "      <td>45</td>\n",
       "      <td>no</td>\n",
       "      <td>no</td>\n",
       "      <td>unknown</td>\n",
       "      <td>5</td>\n",
       "      <td>may</td>\n",
       "      <td>1467</td>\n",
       "      <td>1</td>\n",
       "      <td>-1</td>\n",
       "      <td>0</td>\n",
       "      <td>unknown</td>\n",
       "      <td>yes</td>\n",
       "    </tr>\n",
       "    <tr>\n",
       "      <th>2</th>\n",
       "      <td>41.0</td>\n",
       "      <td>technician</td>\n",
       "      <td>married</td>\n",
       "      <td>secondary</td>\n",
       "      <td>no</td>\n",
       "      <td>1270</td>\n",
       "      <td>yes</td>\n",
       "      <td>no</td>\n",
       "      <td>unknown</td>\n",
       "      <td>5</td>\n",
       "      <td>may</td>\n",
       "      <td>1389</td>\n",
       "      <td>1</td>\n",
       "      <td>-1</td>\n",
       "      <td>0</td>\n",
       "      <td>unknown</td>\n",
       "      <td>yes</td>\n",
       "    </tr>\n",
       "    <tr>\n",
       "      <th>3</th>\n",
       "      <td>55.0</td>\n",
       "      <td>services</td>\n",
       "      <td>married</td>\n",
       "      <td>secondary</td>\n",
       "      <td>no</td>\n",
       "      <td>2476</td>\n",
       "      <td>yes</td>\n",
       "      <td>no</td>\n",
       "      <td>unknown</td>\n",
       "      <td>5</td>\n",
       "      <td>may</td>\n",
       "      <td>579</td>\n",
       "      <td>1</td>\n",
       "      <td>-1</td>\n",
       "      <td>0</td>\n",
       "      <td>unknown</td>\n",
       "      <td>yes</td>\n",
       "    </tr>\n",
       "    <tr>\n",
       "      <th>4</th>\n",
       "      <td>54.0</td>\n",
       "      <td>admin.</td>\n",
       "      <td>married</td>\n",
       "      <td>tertiary</td>\n",
       "      <td>no</td>\n",
       "      <td>184</td>\n",
       "      <td>no</td>\n",
       "      <td>no</td>\n",
       "      <td>unknown</td>\n",
       "      <td>5</td>\n",
       "      <td>may</td>\n",
       "      <td>673</td>\n",
       "      <td>2</td>\n",
       "      <td>-1</td>\n",
       "      <td>0</td>\n",
       "      <td>unknown</td>\n",
       "      <td>yes</td>\n",
       "    </tr>\n",
       "  </tbody>\n",
       "</table>\n",
       "</div>"
      ],
      "text/plain": [
       "    age         job  marital  education default  balance housing loan  \\\n",
       "0  59.0      admin.  married  secondary      no     2343     yes   no   \n",
       "1  56.0      admin.  married  secondary      no       45      no   no   \n",
       "2  41.0  technician  married  secondary      no     1270     yes   no   \n",
       "3  55.0    services  married  secondary      no     2476     yes   no   \n",
       "4  54.0      admin.  married   tertiary      no      184      no   no   \n",
       "\n",
       "   contact  day month  duration  campaign  pdays  previous poutcome deposit  \n",
       "0  unknown    5   may      1042         1     -1         0  unknown     yes  \n",
       "1  unknown    5   may      1467         1     -1         0  unknown     yes  \n",
       "2  unknown    5   may      1389         1     -1         0  unknown     yes  \n",
       "3  unknown    5   may       579         1     -1         0  unknown     yes  \n",
       "4  unknown    5   may       673         2     -1         0  unknown     yes  "
      ]
     },
     "execution_count": 6,
     "metadata": {},
     "output_type": "execute_result"
    }
   ],
   "source": [
    "df.head()"
   ]
  },
  {
   "cell_type": "markdown",
   "id": "3f773367-99cd-45ef-9226-a2d08292b3a5",
   "metadata": {},
   "source": [
    "##### Sobre el Data Set\n",
    "###### Age: La edad del cliente\n",
    "###### Job: situación laboral o puesto de trabajo que ocupa\n",
    "###### Marital: Estado civil del cliente\n",
    "###### Education: Nivel de education que tiene el cliente\n",
    "###### Default:\n",
    "###### Balance: Capacidad económica del cliente\n",
    "###### Housing: Si tiene propidad o no\n",
    "###### Loan: Si tiene prestamos\n",
    "###### Contact: Como fue contactado el cliente\n",
    "###### Day: cantidad de dias que fueron llamados\n",
    "###### Month: Mes del año que fue contactado\n",
    "###### Duraction: duración de la llamada telefonica\n",
    "###### Campaign: En que campaña fue contactado\n",
    "###### Previous:\n",
    "###### Deposit: el resultado de la campañana, Si invirtió o no\n"
   ]
  },
  {
   "cell_type": "markdown",
   "id": "6e62736b-1c2a-46e2-9d09-d3590114e300",
   "metadata": {},
   "source": [
    "#### EDA"
   ]
  },
  {
   "cell_type": "markdown",
   "id": "6a055e90-f395-4741-b245-276af3011617",
   "metadata": {},
   "source": [
    "##### La escala de los valores númerico s son diferentes, hay una 4 variable objetivo, no hay variables suceptibles \n",
    "##### Hay variables con valores nulos (age, marital, education)"
   ]
  },
  {
   "cell_type": "code",
   "execution_count": 10,
   "id": "d61232fd-843d-41bb-ae02-1da99ac3122e",
   "metadata": {},
   "outputs": [
    {
     "name": "stdout",
     "output_type": "stream",
     "text": [
      "<class 'pandas.core.frame.DataFrame'>\n",
      "RangeIndex: 11162 entries, 0 to 11161\n",
      "Data columns (total 17 columns):\n",
      " #   Column     Non-Null Count  Dtype  \n",
      "---  ------     --------------  -----  \n",
      " 0   age        11152 non-null  float64\n",
      " 1   job        11162 non-null  object \n",
      " 2   marital    11157 non-null  object \n",
      " 3   education  11155 non-null  object \n",
      " 4   default    11162 non-null  object \n",
      " 5   balance    11162 non-null  int64  \n",
      " 6   housing    11162 non-null  object \n",
      " 7   loan       11162 non-null  object \n",
      " 8   contact    11162 non-null  object \n",
      " 9   day        11162 non-null  int64  \n",
      " 10  month      11162 non-null  object \n",
      " 11  duration   11162 non-null  int64  \n",
      " 12  campaign   11162 non-null  int64  \n",
      " 13  pdays      11162 non-null  int64  \n",
      " 14  previous   11162 non-null  int64  \n",
      " 15  poutcome   11162 non-null  object \n",
      " 16  deposit    11162 non-null  object \n",
      "dtypes: float64(1), int64(6), object(10)\n",
      "memory usage: 1.4+ MB\n"
     ]
    },
    {
     "data": {
      "text/html": [
       "<div>\n",
       "<style scoped>\n",
       "    .dataframe tbody tr th:only-of-type {\n",
       "        vertical-align: middle;\n",
       "    }\n",
       "\n",
       "    .dataframe tbody tr th {\n",
       "        vertical-align: top;\n",
       "    }\n",
       "\n",
       "    .dataframe thead th {\n",
       "        text-align: right;\n",
       "    }\n",
       "</style>\n",
       "<table border=\"1\" class=\"dataframe\">\n",
       "  <thead>\n",
       "    <tr style=\"text-align: right;\">\n",
       "      <th></th>\n",
       "      <th>age</th>\n",
       "      <th>balance</th>\n",
       "      <th>day</th>\n",
       "      <th>duration</th>\n",
       "      <th>campaign</th>\n",
       "      <th>pdays</th>\n",
       "      <th>previous</th>\n",
       "    </tr>\n",
       "  </thead>\n",
       "  <tbody>\n",
       "    <tr>\n",
       "      <th>count</th>\n",
       "      <td>11152.000000</td>\n",
       "      <td>11162.000000</td>\n",
       "      <td>11162.000000</td>\n",
       "      <td>11162.000000</td>\n",
       "      <td>11162.000000</td>\n",
       "      <td>11162.000000</td>\n",
       "      <td>11162.000000</td>\n",
       "    </tr>\n",
       "    <tr>\n",
       "      <th>mean</th>\n",
       "      <td>41.235384</td>\n",
       "      <td>1528.538524</td>\n",
       "      <td>15.658036</td>\n",
       "      <td>371.993818</td>\n",
       "      <td>2.508421</td>\n",
       "      <td>51.330407</td>\n",
       "      <td>0.832557</td>\n",
       "    </tr>\n",
       "    <tr>\n",
       "      <th>std</th>\n",
       "      <td>11.914934</td>\n",
       "      <td>3225.413326</td>\n",
       "      <td>8.420740</td>\n",
       "      <td>347.128386</td>\n",
       "      <td>2.722077</td>\n",
       "      <td>108.758282</td>\n",
       "      <td>2.292007</td>\n",
       "    </tr>\n",
       "    <tr>\n",
       "      <th>min</th>\n",
       "      <td>18.000000</td>\n",
       "      <td>-6847.000000</td>\n",
       "      <td>1.000000</td>\n",
       "      <td>2.000000</td>\n",
       "      <td>1.000000</td>\n",
       "      <td>-1.000000</td>\n",
       "      <td>0.000000</td>\n",
       "    </tr>\n",
       "    <tr>\n",
       "      <th>25%</th>\n",
       "      <td>32.000000</td>\n",
       "      <td>122.000000</td>\n",
       "      <td>8.000000</td>\n",
       "      <td>138.000000</td>\n",
       "      <td>1.000000</td>\n",
       "      <td>-1.000000</td>\n",
       "      <td>0.000000</td>\n",
       "    </tr>\n",
       "    <tr>\n",
       "      <th>50%</th>\n",
       "      <td>39.000000</td>\n",
       "      <td>550.000000</td>\n",
       "      <td>15.000000</td>\n",
       "      <td>255.000000</td>\n",
       "      <td>2.000000</td>\n",
       "      <td>-1.000000</td>\n",
       "      <td>0.000000</td>\n",
       "    </tr>\n",
       "    <tr>\n",
       "      <th>75%</th>\n",
       "      <td>49.000000</td>\n",
       "      <td>1708.000000</td>\n",
       "      <td>22.000000</td>\n",
       "      <td>496.000000</td>\n",
       "      <td>3.000000</td>\n",
       "      <td>20.750000</td>\n",
       "      <td>1.000000</td>\n",
       "    </tr>\n",
       "    <tr>\n",
       "      <th>max</th>\n",
       "      <td>95.000000</td>\n",
       "      <td>81204.000000</td>\n",
       "      <td>31.000000</td>\n",
       "      <td>3881.000000</td>\n",
       "      <td>63.000000</td>\n",
       "      <td>854.000000</td>\n",
       "      <td>58.000000</td>\n",
       "    </tr>\n",
       "  </tbody>\n",
       "</table>\n",
       "</div>"
      ],
      "text/plain": [
       "                age       balance           day      duration      campaign  \\\n",
       "count  11152.000000  11162.000000  11162.000000  11162.000000  11162.000000   \n",
       "mean      41.235384   1528.538524     15.658036    371.993818      2.508421   \n",
       "std       11.914934   3225.413326      8.420740    347.128386      2.722077   \n",
       "min       18.000000  -6847.000000      1.000000      2.000000      1.000000   \n",
       "25%       32.000000    122.000000      8.000000    138.000000      1.000000   \n",
       "50%       39.000000    550.000000     15.000000    255.000000      2.000000   \n",
       "75%       49.000000   1708.000000     22.000000    496.000000      3.000000   \n",
       "max       95.000000  81204.000000     31.000000   3881.000000     63.000000   \n",
       "\n",
       "              pdays      previous  \n",
       "count  11162.000000  11162.000000  \n",
       "mean      51.330407      0.832557  \n",
       "std      108.758282      2.292007  \n",
       "min       -1.000000      0.000000  \n",
       "25%       -1.000000      0.000000  \n",
       "50%       -1.000000      0.000000  \n",
       "75%       20.750000      1.000000  \n",
       "max      854.000000     58.000000  "
      ]
     },
     "execution_count": 10,
     "metadata": {},
     "output_type": "execute_result"
    }
   ],
   "source": [
    "df.info()\n",
    "df.describe()"
   ]
  },
  {
   "cell_type": "markdown",
   "id": "25654b08-2a50-4739-ac6c-ada5fb13ba28",
   "metadata": {},
   "source": [
    "### VALORES NULOS"
   ]
  },
  {
   "cell_type": "markdown",
   "id": "7aaee4d8-abdb-40cd-bca9-b007e52b15ad",
   "metadata": {},
   "source": [
    "##### Visualización de valores nulos"
   ]
  },
  {
   "cell_type": "code",
   "execution_count": 13,
   "id": "14562307-e0b1-463c-8bc3-e6b85e3c7ac8",
   "metadata": {},
   "outputs": [
    {
     "data": {
      "image/png": "[encoded data removed]",
      "text/plain": [
       "<Figure size 1200x800 with 1 Axes>"
      ]
     },
     "metadata": {},
     "output_type": "display_data"
    },
    {
     "data": {
      "text/plain": [
       "age          10\n",
       "job           0\n",
       "marital       5\n",
       "education     7\n",
       "default       0\n",
       "balance       0\n",
       "housing       0\n",
       "loan          0\n",
       "contact       0\n",
       "day           0\n",
       "month         0\n",
       "duration      0\n",
       "campaign      0\n",
       "pdays         0\n",
       "previous      0\n",
       "poutcome      0\n",
       "deposit       0\n",
       "dtype: int64"
      ]
     },
     "execution_count": 13,
     "metadata": {},
     "output_type": "execute_result"
    }
   ],
   "source": [
    "plt.figure(figsize=(12, 8))\n",
    "sns.heatmap(df.isnull(), cbar=False, cmap='viridis')\n",
    "plt.show() \n",
    "df.isnull().sum()\n"
   ]
  },
  {
   "cell_type": "markdown",
   "id": "47ac55bd-920a-4118-95de-eb4c467b0d30",
   "metadata": {},
   "source": [
    "# Dividir el conjunto de datos"
   ]
  },
  {
   "cell_type": "markdown",
   "id": "a756890b-3b66-4396-8bd7-a57536361b8a",
   "metadata": {},
   "source": [
    "### División de los datos de la siguiente proporción: 80% entrenamiento, 20% prueba (esto se ve reflejado en el dato test_size=0.2)"
   ]
  },
  {
   "cell_type": "code",
   "execution_count": 16,
   "id": "c4a2d702-1fa1-49bd-bd41-a0ca7b7fefff",
   "metadata": {},
   "outputs": [],
   "source": [
    "from sklearn.model_selection import train_test_split\n",
    "\n",
    "X = df.drop(columns=['deposit'])\n",
    "y = df['deposit'] \n",
    "\n",
    "train_set, test_set, y_train, y_test = train_test_split(X, y, test_size=0.2, stratify=y, random_state=42)\n"
   ]
  },
  {
   "cell_type": "code",
   "execution_count": 17,
   "id": "c2cd320b-d335-48ca-a5b4-27795d5dc5aa",
   "metadata": {},
   "outputs": [
    {
     "name": "stdout",
     "output_type": "stream",
     "text": [
      "Conjunto de entrenamiento: 8929 muestras\n",
      "Conjunto de prueba: 2233 muestras\n",
      "Total de muestras: 11162\n"
     ]
    }
   ],
   "source": [
    "print(f\"Conjunto de entrenamiento: {train_set.shape[0]} muestras\")\n",
    "print(f\"Conjunto de prueba: {test_set.shape[0]} muestras\")\n",
    "print(f\"Total de muestras: {train_set.shape[0] + test_set.shape[0]}\")\n"
   ]
  },
  {
   "cell_type": "markdown",
   "id": "b37c39e9-0cbe-4c54-b9a0-35f12a487b2a",
   "metadata": {},
   "source": [
    "# Detección Outliers"
   ]
  },
  {
   "cell_type": "markdown",
   "id": "2d95f379-9dd1-4eb4-8617-f7376bffcd5f",
   "metadata": {},
   "source": [
    "#### Seleccionamos las columnas numéricas"
   ]
  },
  {
   "cell_type": "code",
   "execution_count": 20,
   "id": "5b6f875f-bbec-4ac5-b0dc-bc828634c976",
   "metadata": {},
   "outputs": [
    {
     "data": {
      "image/png": "[encoded data removed]",
      "text/plain": [
       "<Figure size 800x800 with 1 Axes>"
      ]
     },
     "metadata": {},
     "output_type": "display_data"
    },
    {
     "data": {
      "image/png": "[encoded data removed]",
      "text/plain": [
       "<Figure size 800x800 with 1 Axes>"
      ]
     },
     "metadata": {},
     "output_type": "display_data"
    },
    {
     "data": {
      "image/png": "[encoded data removed]",
      "text/plain": [
       "<Figure size 800x800 with 1 Axes>"
      ]
     },
     "metadata": {},
     "output_type": "display_data"
    },
    {
     "data": {
      "image/png": "[encoded data removed]",
      "text/plain": [
       "<Figure size 800x800 with 1 Axes>"
      ]
     },
     "metadata": {},
     "output_type": "display_data"
    },
    {
     "data": {
      "image/png": "[encoded data removed]",
      "text/plain": [
       "<Figure size 800x800 with 1 Axes>"
      ]
     },
     "metadata": {},
     "output_type": "display_data"
    },
    {
     "data": {
      "image/png": "[encoded data removed]",
      "text/plain": [
       "<Figure size 800x800 with 1 Axes>"
      ]
     },
     "metadata": {},
     "output_type": "display_data"
    },
    {
     "data": {
      "image/png": "[encoded data removed]",
      "text/plain": [
       "<Figure size 800x800 with 1 Axes>"
      ]
     },
     "metadata": {},
     "output_type": "display_data"
    }
   ],
   "source": [
    "numerical_columns =train_set.select_dtypes(include=['float64', 'int64']).columns\n",
    "\n",
    "for col in numerical_columns:\n",
    "    plt.figure(figsize=(8, 8))\n",
    "    sns.boxplot(data=train_set, x=col)\n",
    "    plt.title(f'Distribución de {col}')\n",
    "    plt.show()\n"
   ]
  },
  {
   "cell_type": "code",
   "execution_count": 21,
   "id": "e488ec2a-a7a6-4d47-bf24-b9fd8d1895bf",
   "metadata": {},
   "outputs": [
    {
     "data": {
      "image/png": "[encoded data removed]",
      "text/plain": [
       "<Figure size 800x800 with 1 Axes>"
      ]
     },
     "metadata": {},
     "output_type": "display_data"
    },
    {
     "data": {
      "image/png": "[encoded data removed]",
      "text/plain": [
       "<Figure size 800x800 with 1 Axes>"
      ]
     },
     "metadata": {},
     "output_type": "display_data"
    },
    {
     "data": {
      "image/png": "[encoded data removed]",
      "text/plain": [
       "<Figure size 800x800 with 1 Axes>"
      ]
     },
     "metadata": {},
     "output_type": "display_data"
    },
    {
     "data": {
      "image/png": "[encoded data removed]",
      "text/plain": [
       "<Figure size 800x800 with 1 Axes>"
      ]
     },
     "metadata": {},
     "output_type": "display_data"
    },
    {
     "data": {
      "image/png": "[encoded data removed]",
      "text/plain": [
       "<Figure size 800x800 with 1 Axes>"
      ]
     },
     "metadata": {},
     "output_type": "display_data"
    },
    {
     "data": {
      "image/png": "[encoded data removed]",
      "text/plain": [
       "<Figure size 800x800 with 1 Axes>"
      ]
     },
     "metadata": {},
     "output_type": "display_data"
    },
    {
     "data": {
      "image/png": "[encoded data removed]",
      "text/plain": [
       "<Figure size 800x800 with 1 Axes>"
      ]
     },
     "metadata": {},
     "output_type": "display_data"
    }
   ],
   "source": [
    "numerical_columns =test_set.select_dtypes(include=['float64', 'int64']).columns\n",
    "\n",
    "for col in numerical_columns:\n",
    "    plt.figure(figsize=(8, 8))\n",
    "    sns.boxplot(data=test_set, x=col)\n",
    "    plt.title(f'Distribución de {col}')\n",
    "    plt.show()"
   ]
  },
  {
   "cell_type": "markdown",
   "id": "33e6d810-3564-47bc-adb0-c8942fd90141",
   "metadata": {},
   "source": [
    "### Tratamiento de Outliers"
   ]
  },
  {
   "cell_type": "markdown",
   "id": "63fac6af-87f7-4b81-975a-72ec11ca7bb9",
   "metadata": {},
   "source": [
    "#### Análisis de Resultado: en la variable *Age* se observan algunos valores atípicos, estos son menos extremos en comparación con otras variables. La edad se concentra entre los 30 y 50 años y a partir de los 70 hay algunos datos pero no son significativos, lo que determina que “age” tiene pocos outliers, por lo podría ser apropiado mantener los valores.\n",
    "#### La variable *balance* tienen una significativa cantidad de outliers, esto podría ser relevante porque un balance muy alto podría influir en la desción del cliente, por loq ue se tratarán los ouliers de esta variable con winsorización"
   ]
  },
  {
   "cell_type": "code",
   "execution_count": 24,
   "id": "d5d91f0f-bbcd-464a-8d40-439403105485",
   "metadata": {},
   "outputs": [],
   "source": [
    "from scipy.stats.mstats import mquantiles\n",
    "\n",
    "lower_limit, upper_limit = mquantiles(train_set['balance'], prob=[0.01, 0.99])\n",
    "\n",
    "train_set['balance'] = train_set['balance'].clip(lower=lower_limit, upper=upper_limit)\n",
    "test_set['balance'] = test_set['balance'].clip(lower=lower_limit, upper=upper_limit)\n",
    "\n"
   ]
  },
  {
   "cell_type": "markdown",
   "id": "978fac22-adab-484a-9564-cde0e5071ce9",
   "metadata": {},
   "source": [
    "### Verificamos que no existen valores nulos, si lo hubiese se tendría que imputar los valores faltantes. Como previamente se realizó la deteccion y tratamientos de Ouliers, esta todo correcto."
   ]
  },
  {
   "cell_type": "code",
   "execution_count": 26,
   "id": "142263eb-61d3-4e5e-a47b-20318c0b30c0",
   "metadata": {},
   "outputs": [
    {
     "name": "stdout",
     "output_type": "stream",
     "text": [
      "Valores nulos por columna:\n",
      "age          7\n",
      "balance      0\n",
      "housing      0\n",
      "loan         0\n",
      "poutcome     0\n",
      "education    6\n",
      "dtype: int64\n"
     ]
    }
   ],
   "source": [
    "print(\"Valores nulos por columna:\")\n",
    "print(train_set[['age', 'balance', 'housing', 'loan', 'poutcome','education']].isnull().sum())\n"
   ]
  },
  {
   "cell_type": "code",
   "execution_count": 27,
   "id": "e1f4a1bf-e2bb-4a19-a83e-747653461a63",
   "metadata": {},
   "outputs": [
    {
     "name": "stdout",
     "output_type": "stream",
     "text": [
      "Valores nulos por columna:\n",
      "age          3\n",
      "balance      0\n",
      "housing      0\n",
      "loan         0\n",
      "poutcome     0\n",
      "education    1\n",
      "dtype: int64\n"
     ]
    }
   ],
   "source": [
    "print(\"Valores nulos por columna:\")\n",
    "print(test_set[['age', 'balance', 'housing', 'loan', 'poutcome','education']].isnull().sum())\n"
   ]
  },
  {
   "cell_type": "code",
   "execution_count": 28,
   "id": "b295632a-aca1-4c43-bc00-8b669990dc6d",
   "metadata": {},
   "outputs": [
    {
     "name": "stdout",
     "output_type": "stream",
     "text": [
      "\n",
      "Valores faltantes en y_train: 0\n",
      "Valores faltantes en y_test: 0\n"
     ]
    }
   ],
   "source": [
    "print(\"\\nValores faltantes en y_train:\", y_train.isnull().sum())\n",
    "print(\"Valores faltantes en y_test:\", y_test.isnull().sum())\n"
   ]
  },
  {
   "cell_type": "markdown",
   "id": "d2444aac-1790-4fe1-aabe-598db72200c1",
   "metadata": {},
   "source": [
    "# Imputación de valores faltantes"
   ]
  },
  {
   "cell_type": "markdown",
   "id": "be167ca3-016a-45aa-8304-75a46d851c7e",
   "metadata": {},
   "source": [
    "### Contar Valores nulos por columnas en ambos conjuntos"
   ]
  },
  {
   "cell_type": "code",
   "execution_count": 31,
   "id": "d61dd5e3-0316-4ac7-831b-015f8809677c",
   "metadata": {},
   "outputs": [
    {
     "name": "stdout",
     "output_type": "stream",
     "text": [
      "Valores faltantes en el conjunto de entrenamiento:\n"
     ]
    },
    {
     "data": {
      "text/plain": [
       "age          7\n",
       "job          0\n",
       "marital      4\n",
       "education    6\n",
       "default      0\n",
       "balance      0\n",
       "housing      0\n",
       "loan         0\n",
       "contact      0\n",
       "day          0\n",
       "month        0\n",
       "duration     0\n",
       "campaign     0\n",
       "pdays        0\n",
       "previous     0\n",
       "poutcome     0\n",
       "dtype: int64"
      ]
     },
     "execution_count": 31,
     "metadata": {},
     "output_type": "execute_result"
    }
   ],
   "source": [
    "print(\"Valores faltantes en el conjunto de entrenamiento:\")\n",
    "train_set.isnull().sum()"
   ]
  },
  {
   "cell_type": "code",
   "execution_count": 32,
   "id": "f4dfb828-ba1a-4a56-94fd-34c479ac7c4a",
   "metadata": {},
   "outputs": [
    {
     "name": "stdout",
     "output_type": "stream",
     "text": [
      "Valores faltantes en el conjunto de prueba:\n"
     ]
    },
    {
     "data": {
      "text/plain": [
       "age          3\n",
       "job          0\n",
       "marital      1\n",
       "education    1\n",
       "default      0\n",
       "balance      0\n",
       "housing      0\n",
       "loan         0\n",
       "contact      0\n",
       "day          0\n",
       "month        0\n",
       "duration     0\n",
       "campaign     0\n",
       "pdays        0\n",
       "previous     0\n",
       "poutcome     0\n",
       "dtype: int64"
      ]
     },
     "execution_count": 32,
     "metadata": {},
     "output_type": "execute_result"
    }
   ],
   "source": [
    "print(\"Valores faltantes en el conjunto de prueba:\")\n",
    "test_set.isnull().sum()"
   ]
  },
  {
   "cell_type": "markdown",
   "id": "8381cdde-64e5-42c7-999d-95fda40a0347",
   "metadata": {},
   "source": [
    "#### Imputacion de valores faltantes, media para la 'age' ya que los valores extremos no son muy considerables, moda para 'education' ya que es una variable categorica, dejamos igual el valor en 'marital' ya que será una valor que no usaremos y a futuro desistimaremos de nuestro DataFrame.\n",
    "Esta imputación se realizará en ambos conjuntos"
   ]
  },
  {
   "cell_type": "markdown",
   "id": "af239da6-5a48-48eb-a303-ef714f277770",
   "metadata": {},
   "source": [
    "### Gestión de Valores Faltantes"
   ]
  },
  {
   "cell_type": "code",
   "execution_count": 35,
   "id": "c5f37604-af1a-4dc5-bf0f-748b1573009e",
   "metadata": {},
   "outputs": [
    {
     "name": "stdout",
     "output_type": "stream",
     "text": [
      "Columnas en train_set:\n",
      "Index(['age', 'job', 'marital', 'education', 'default', 'balance', 'housing',\n",
      "       'loan', 'contact', 'day', 'month', 'duration', 'campaign', 'pdays',\n",
      "       'previous', 'poutcome'],\n",
      "      dtype='object')\n",
      "\n",
      "Columnas en test_set:\n",
      "Index(['age', 'job', 'marital', 'education', 'default', 'balance', 'housing',\n",
      "       'loan', 'contact', 'day', 'month', 'duration', 'campaign', 'pdays',\n",
      "       'previous', 'poutcome'],\n",
      "      dtype='object')\n"
     ]
    }
   ],
   "source": [
    "print(\"Columnas en train_set:\")\n",
    "print(train_set.columns)\n",
    "\n",
    "print(\"\\nColumnas en test_set:\")\n",
    "print(test_set.columns)\n"
   ]
  },
  {
   "cell_type": "code",
   "execution_count": 36,
   "id": "9970b2fa-f6b9-487b-8f5d-a705952b70a6",
   "metadata": {},
   "outputs": [],
   "source": [
    "education_mode = train_set['education'].mode()[0]\n",
    "train_set['education'] = train_set['education'].fillna(education_mode)\n",
    "test_set['education'] = test_set['education'].fillna(education_mode)\n",
    "\n",
    "age_median = train_set['age'].median()\n",
    "train_set['age'] = train_set['age'].fillna(age_median)\n",
    "test_set['age'] = test_set['age'].fillna(age_median)\n"
   ]
  },
  {
   "cell_type": "code",
   "execution_count": 37,
   "id": "a0c4309f-9b96-4d50-b07e-1d3ea25af740",
   "metadata": {},
   "outputs": [
    {
     "name": "stdout",
     "output_type": "stream",
     "text": [
      "Valores faltantes en 'education' después de la imputación:\n",
      "0\n",
      "0\n",
      "\n",
      "Valores faltantes en 'age' después de la imputación:\n",
      "0\n",
      "0\n"
     ]
    }
   ],
   "source": [
    "print(\"Valores faltantes en 'education' después de la imputación:\")\n",
    "print(train_set['education'].isnull().sum())\n",
    "print(test_set['education'].isnull().sum())\n",
    "\n",
    "print(\"\\nValores faltantes en 'age' después de la imputación:\")\n",
    "print(train_set['age'].isnull().sum())\n",
    "print(test_set['age'].isnull().sum())\n"
   ]
  },
  {
   "cell_type": "markdown",
   "id": "cff3a37f-9530-4781-8a82-36f5925ea127",
   "metadata": {},
   "source": [
    "##### Se verifica que no hay valores faltantes en las características imputadas"
   ]
  },
  {
   "cell_type": "markdown",
   "id": "60793dc6-6724-41a6-9f8d-95f1b7cf098f",
   "metadata": {},
   "source": [
    "# Codificación de variables categóricas"
   ]
  },
  {
   "cell_type": "markdown",
   "id": "8ac9e116-3182-4911-ac51-5a656d62d23d",
   "metadata": {},
   "source": [
    "#### En este paso, convertiré las variables categóricas en un formato numérico para que puedan ser utilizadas por los algoritmos de machine learning:\n",
    "\n",
    "One-Hot Encoding: Para variables categóricas sin orden inherente.\n",
    "\n",
    "Label Encoding: Para variables categóricas con un orden lógico."
   ]
  },
  {
   "cell_type": "markdown",
   "id": "279d81fb-85c0-4902-b405-69428faa5ded",
   "metadata": {},
   "source": [
    "#### Se Identifican las variables categóricas y según su caracteristica se trabajara la codificación.\n",
    "#### Se aplica Label Encoding en 'housing', 'loan', por ser variables binarias, en cuanto a 'poutcome' y 'education', estas dos ultimas variables por no tener un orden implícito. al ser binarias, lo caul es más simple y eficiente, en cuanto a 'poutcome'  no es binario, sino una categoría multiple, pero podría tener un orden implícito por eso es más recomendable aplicar la misma codificacion de etiqueta y en 'education' One-Hot Encoding\n"
   ]
  },
  {
   "cell_type": "code",
   "execution_count": 42,
   "id": "4c430e14-61fa-4352-8dae-7c271f99705d",
   "metadata": {},
   "outputs": [],
   "source": [
    "from sklearn.preprocessing import OneHotEncoder\n",
    "import pandas as pd"
   ]
  },
  {
   "cell_type": "code",
   "execution_count": 43,
   "id": "38354299-2be2-4720-a2ac-435e713b326a",
   "metadata": {},
   "outputs": [],
   "source": [
    "from sklearn.preprocessing import LabelEncoder"
   ]
  },
  {
   "cell_type": "code",
   "execution_count": 44,
   "id": "98158f07-903b-4de9-ab6e-106325e7e4be",
   "metadata": {},
   "outputs": [
    {
     "name": "stdout",
     "output_type": "stream",
     "text": [
      "Label Encoding aplicado a 'housing', 'loan', 'education' y 'poutcome'.\n"
     ]
    }
   ],
   "source": [
    "for col in ['housing', 'loan', 'poutcome', 'education']:\n",
    "    le = LabelEncoder()\n",
    "    train_set[col] = le.fit_transform(train_set[col])\n",
    "    test_set[col] = le.transform(test_set[col]) \n",
    "    \n",
    "print(\"Label Encoding aplicado a 'housing', 'loan', 'education' y 'poutcome'.\")\n"
   ]
  },
  {
   "cell_type": "code",
   "execution_count": 45,
   "id": "e2e65879-94c5-4ed2-87d5-197063c1088b",
   "metadata": {},
   "outputs": [
    {
     "name": "stdout",
     "output_type": "stream",
     "text": [
      "       age          job  marital  education default  balance  housing  loan  \\\n",
      "8644  46.0       admin.  married          1      no    526.0        0     1   \n",
      "2632  46.0       admin.  married          2      no   2552.0        0     0   \n",
      "3056  25.0   technician   single          1      no    139.0        0     1   \n",
      "1080  43.0   technician  married          1      no   3288.0        1     0   \n",
      "4006  37.0  blue-collar   single          3      no    217.0        0     0   \n",
      "\n",
      "       contact  day month  duration  campaign  pdays  previous  poutcome  \n",
      "8644  cellular   31   jul       251         3     -1         0         3  \n",
      "2632  cellular    3   sep       260         1     94         8         2  \n",
      "3056  cellular   11   jan       202         1     91         1         2  \n",
      "1080  cellular   21   nov       775         3     -1         0         3  \n",
      "4006  cellular   23   sep       272         2     -1         0         3  \n"
     ]
    }
   ],
   "source": [
    "print(train_set.head())  "
   ]
  },
  {
   "cell_type": "code",
   "execution_count": 46,
   "id": "9d375090-fdcd-4339-8d00-fc80ad565fcb",
   "metadata": {},
   "outputs": [
    {
     "name": "stdout",
     "output_type": "stream",
     "text": [
      "       age          job  marital  education default  balance  housing  loan  \\\n",
      "8220  32.0   management  married          2      no    393.0        0     0   \n",
      "2521  36.0   technician   single          1      no    376.0        0     0   \n",
      "7949  52.0       admin.  married          1      no    722.0        0     0   \n",
      "7879  35.0   management   single          1     yes   -202.0        1     0   \n",
      "616   41.0  blue-collar  married          1      no   -190.0        0     1   \n",
      "\n",
      "       contact  day month  duration  campaign  pdays  previous  poutcome  \n",
      "8220  cellular   28   jan       458         2     -1         0         3  \n",
      "2521  cellular   13   aug       479         1     -1         0         3  \n",
      "7949  cellular   26   oct        99         2    185         3         0  \n",
      "7879   unknown   20   may       268         3     -1         0         3  \n",
      "616   cellular   29   jul       808         3     -1         0         3  \n"
     ]
    }
   ],
   "source": [
    "print(test_set.head())   "
   ]
  },
  {
   "cell_type": "markdown",
   "id": "bacb78e3-6350-4b28-bb1e-34d653bc046f",
   "metadata": {},
   "source": [
    "### Se eliminan las variables que no usaremos para evitar el ruido en el anáilisis y en el entrenamiento, ya que nuestro proyecto no considera estas variables deterinantes para el objetivo, esto se elimina en ambos conjuntos."
   ]
  },
  {
   "cell_type": "code",
   "execution_count": 48,
   "id": "5deeb3bb-8a82-4cde-9dfd-c4604897cf65",
   "metadata": {},
   "outputs": [],
   "source": [
    "\n",
    "train_set = train_set.drop(columns=['marital', 'job', 'month','duration'])\n",
    "test_set = test_set.drop(columns=['marital', 'job', 'month','duration'])\n",
    "\n"
   ]
  },
  {
   "cell_type": "markdown",
   "id": "973eafee-8d49-4aba-822d-c1876d5ea3a9",
   "metadata": {},
   "source": [
    "#### En cuanto a la característica 'deposit' al ser una variable objetivo se procede a convertirlo en información binaria, debido a su sencilles a la hora de su interprestación en ela predicción."
   ]
  },
  {
   "cell_type": "code",
   "execution_count": 50,
   "id": "d24814bb-b3c9-4b29-9307-7791c4205d46",
   "metadata": {},
   "outputs": [
    {
     "name": "stdout",
     "output_type": "stream",
     "text": [
      "Index(['age', 'education', 'default', 'balance', 'housing', 'loan', 'contact',\n",
      "       'day', 'campaign', 'pdays', 'previous', 'poutcome'],\n",
      "      dtype='object')\n",
      "Index(['age', 'education', 'default', 'balance', 'housing', 'loan', 'contact',\n",
      "       'day', 'campaign', 'pdays', 'previous', 'poutcome'],\n",
      "      dtype='object')\n"
     ]
    }
   ],
   "source": [
    "print(train_set.columns)\n",
    "print(test_set.columns)\n"
   ]
  },
  {
   "cell_type": "markdown",
   "id": "44556888-d9d1-4617-b382-33610e854033",
   "metadata": {},
   "source": [
    "#### Se procede a realizar a la variable 'deposit' una codificación binaria, pero como la columna deposit se separó de los conjuntos de datos de entrenamiento y de prueba se aplica a las variables objetivos en la dataset con estratificación"
   ]
  },
  {
   "cell_type": "code",
   "execution_count": 52,
   "id": "78c7105e-c441-4515-ac07-472888595a2f",
   "metadata": {},
   "outputs": [],
   "source": [
    "y_train = y_train.map({'yes': 1, 'no': 0})\n",
    "y_test = y_test.map({'yes': 1, 'no': 0})\n"
   ]
  },
  {
   "cell_type": "code",
   "execution_count": 53,
   "id": "236ad425-5067-4253-9871-53510b939aee",
   "metadata": {},
   "outputs": [
    {
     "name": "stdout",
     "output_type": "stream",
     "text": [
      "8644    0\n",
      "2632    1\n",
      "3056    1\n",
      "1080    1\n",
      "4006    1\n",
      "Name: deposit, dtype: int64\n",
      "8220    0\n",
      "2521    1\n",
      "7949    0\n",
      "7879    0\n",
      "616     1\n",
      "Name: deposit, dtype: int64\n"
     ]
    }
   ],
   "source": [
    "print(y_train.head())\n",
    "print(y_test.head())\n"
   ]
  },
  {
   "cell_type": "markdown",
   "id": "97f4b736-eeb6-46fb-9a67-47f64883db0b",
   "metadata": {},
   "source": [
    "# Estandarización"
   ]
  },
  {
   "cell_type": "markdown",
   "id": "1bd60b48-7b74-407e-ad16-46d408ae6505",
   "metadata": {},
   "source": [
    "#### La estandarización asegura que todas las características numéricas tengan una media de 0 y una desviación estándar de 1. Esto es importante porque muchos algoritmos (por ejemplo, regresión logística, SVM, k-means) son sensibles a la escala de las características."
   ]
  },
  {
   "cell_type": "markdown",
   "id": "71714dfb-776d-4c6b-96e8-308cf3ea5113",
   "metadata": {},
   "source": [
    "##### Se Identifica  las columnas numéricas para trabajar directamente con ellas, así aseguramos que estamos tomando todas las caracteristicas de nuesto DataFrame, de ambos conjuntos"
   ]
  },
  {
   "cell_type": "code",
   "execution_count": 57,
   "id": "fe4aeea9-bd80-487e-95d9-c55d240dd04d",
   "metadata": {},
   "outputs": [],
   "source": [
    "from sklearn.preprocessing import StandardScaler"
   ]
  },
  {
   "cell_type": "code",
   "execution_count": 58,
   "id": "d2b2b6ed-b58a-4c7e-b553-4b1e72c20bbc",
   "metadata": {},
   "outputs": [],
   "source": [
    "num_columns = ['age', 'balance', 'campaign', 'pdays', 'previous']\n",
    "\n",
    "scaler = StandardScaler()\n",
    "\n",
    "train_set[num_columns] = scaler.fit_transform(train_set[num_columns])\n",
    "test_set[num_columns] = scaler.transform(test_set[num_columns])\n"
   ]
  },
  {
   "cell_type": "code",
   "execution_count": 59,
   "id": "95c6871c-754a-4cc8-a53a-8d2c11818c8b",
   "metadata": {},
   "outputs": [
    {
     "name": "stdout",
     "output_type": "stream",
     "text": [
      "Media después de la estandarización (train_set):\n",
      "age         2.319669e-16\n",
      "balance    -2.964242e-17\n",
      "campaign   -7.321081e-17\n",
      "pdays      -4.456310e-17\n",
      "previous   -4.376733e-18\n",
      "dtype: float64\n",
      "\n",
      "Desviación estándar después de la estandarización (train_set):\n",
      "age         1.000056\n",
      "balance     1.000056\n",
      "campaign    1.000056\n",
      "pdays       1.000056\n",
      "previous    1.000056\n",
      "dtype: float64\n"
     ]
    }
   ],
   "source": [
    "print(\"Media después de la estandarización (train_set):\")\n",
    "print(train_set[num_columns].mean())\n",
    "\n",
    "print(\"\\nDesviación estándar después de la estandarización (train_set):\")\n",
    "print(train_set[num_columns].std())\n"
   ]
  },
  {
   "cell_type": "markdown",
   "id": "192e20f4-b717-452e-a4df-ad5bd731adfc",
   "metadata": {},
   "source": [
    "#### Según este resultado las medias de las columnas son cercacnas al 0 y la desviación estándar cercana a 1"
   ]
  },
  {
   "cell_type": "markdown",
   "id": "941942cb-fdc1-4c6a-869b-ff9072e773b5",
   "metadata": {},
   "source": [
    "# Generación de Nuevas Características"
   ]
  },
  {
   "cell_type": "markdown",
   "id": "13c3a458-f9f3-4a83-9aac-7026c3bc3f77",
   "metadata": {},
   "source": [
    "##### Con la idea de mejorar el desempeño del modelo se determina generar nuevas características, ya que estas variables tienen impacto en el resultado objetivo 'deposit', así podremos simplificar el modelo y evitar sobreajuste."
   ]
  },
  {
   "cell_type": "markdown",
   "id": "c6793a89-e328-4ca5-a394-4cfddb8b573a",
   "metadata": {},
   "source": [
    "##### tomo la cataegoria 'balance' y  'age' porque puede capturar relaciones relevantes entre la edad del cliente y su nivel financiero, esto ayudará a que el modelo interprete más facilmente diferencias cualitativas"
   ]
  },
  {
   "cell_type": "code",
   "execution_count": 64,
   "id": "c351c46f-59e7-4582-8d67-bfe5b2d2a58e",
   "metadata": {},
   "outputs": [
    {
     "name": "stdout",
     "output_type": "stream",
     "text": [
      "Columnas en train_set:\n",
      "Index(['age', 'education', 'default', 'balance', 'housing', 'loan', 'contact',\n",
      "       'day', 'campaign', 'pdays', 'previous', 'poutcome'],\n",
      "      dtype='object')\n",
      "\n",
      "Columnas en test_set:\n",
      "Index(['age', 'education', 'default', 'balance', 'housing', 'loan', 'contact',\n",
      "       'day', 'campaign', 'pdays', 'previous', 'poutcome'],\n",
      "      dtype='object')\n"
     ]
    }
   ],
   "source": [
    "print(\"Columnas en train_set:\")\n",
    "print(train_set.columns)\n",
    "\n",
    "print(\"\\nColumnas en test_set:\")\n",
    "print(test_set.columns)\n"
   ]
  },
  {
   "cell_type": "code",
   "execution_count": 65,
   "id": "81dbe863-3e37-4346-a509-db8449cdc39d",
   "metadata": {},
   "outputs": [],
   "source": [
    "train_set['balance_to_age_ratio'] = train_set['balance'] / train_set['age']\n",
    "test_set['balance_to_age_ratio'] = test_set['balance'] / test_set['age']\n"
   ]
  },
  {
   "cell_type": "code",
   "execution_count": 66,
   "id": "16d8c93e-8575-4071-8f85-e9299283456f",
   "metadata": {},
   "outputs": [
    {
     "name": "stdout",
     "output_type": "stream",
     "text": [
      "      balance_to_age_ratio\n",
      "8644             -0.941515\n",
      "2632              1.239207\n",
      "3056              0.412277\n",
      "1080              5.255081\n",
      "4006              1.516234\n",
      "      balance_to_age_ratio\n",
      "8220              0.582308\n",
      "2521              1.055682\n",
      "7949             -0.328059\n",
      "7879              1.380892\n",
      "616              76.448262\n"
     ]
    }
   ],
   "source": [
    "print(train_set[['balance_to_age_ratio']].head())\n",
    "print(test_set[['balance_to_age_ratio']].head())"
   ]
  },
  {
   "cell_type": "markdown",
   "id": "f531f29f-b016-440d-aab0-8ab312b46864",
   "metadata": {},
   "source": [
    "##### Categorizar 'balance' en rangos, esto solo se aplica"
   ]
  },
  {
   "cell_type": "code",
   "execution_count": 68,
   "id": "b37ae0a5-bb6c-40be-b139-a9ff9b8ac4bb",
   "metadata": {},
   "outputs": [],
   "source": [
    "bins = [-float('inf'), 0, 1000, 5000, float('inf')]\n",
    "labels = ['deuda', 'bajo', 'medio', 'alto']\n",
    "\n",
    "train_set['balance_category'] = pd.cut(train_set['balance'], bins=bins, labels=labels)\n",
    "test_set['balance_category'] = pd.cut(test_set['balance'], bins=bins, labels=labels)\n"
   ]
  },
  {
   "cell_type": "markdown",
   "id": "04f664e7-69be-4463-97ee-f39d2022dd8a",
   "metadata": {},
   "source": [
    "##### Crear una nueva columna: ratio entre 'balance' y 'age'"
   ]
  },
  {
   "cell_type": "markdown",
   "id": "5b814120-cc67-4b36-8d14-244a4cf43217",
   "metadata": {},
   "source": [
    "###### Se aplica +1 para evitar divisiones por cero"
   ]
  },
  {
   "cell_type": "code",
   "execution_count": 71,
   "id": "c2ce441e-2e0e-4bbb-b920-e820ee60ff1e",
   "metadata": {},
   "outputs": [],
   "source": [
    "train_set['balance_age_ratio'] = train_set['balance'] / (train_set['age'] + 1)  \n",
    "test_set['balance_age_ratio'] = test_set['balance'] / (test_set['age'] + 1)\n"
   ]
  },
  {
   "cell_type": "code",
   "execution_count": 72,
   "id": "860107fa-900c-4cbf-ac23-3b26be64770d",
   "metadata": {},
   "outputs": [
    {
     "name": "stdout",
     "output_type": "stream",
     "text": [
      "           age   balance balance_category  balance_age_ratio\n",
      "8644  0.411944 -0.387852            deuda          -0.274693\n",
      "2632  0.411944  0.510484             bajo           0.361547\n",
      "3056 -1.356972 -0.559449            deuda           1.567206\n",
      "1080  0.159242  0.836830             bajo           0.721877\n",
      "4006 -0.346163 -0.524864            deuda          -0.802744\n",
      "           age   balance balance_category  balance_age_ratio\n",
      "8220 -0.767333 -0.446825            deuda          -1.920450\n",
      "2521 -0.430397 -0.454362            deuda          -0.797682\n",
      "7949  0.917349 -0.300945            deuda          -0.156959\n",
      "7879 -0.514631 -0.710650            deuda          -1.464144\n",
      "616  -0.009226 -0.705329            deuda          -0.711897\n"
     ]
    }
   ],
   "source": [
    "print(train_set[['age', 'balance', 'balance_category', 'balance_age_ratio']].head())\n",
    "print(test_set[['age', 'balance', 'balance_category', 'balance_age_ratio']].head())\n"
   ]
  },
  {
   "cell_type": "code",
   "execution_count": 73,
   "id": "be3920c0-d97a-4242-b081-f45c84d28011",
   "metadata": {},
   "outputs": [],
   "source": [
    "encoder = LabelEncoder()\n",
    "\n",
    "train_set['balance_category'] = encoder.fit_transform(train_set['balance_category'])\n",
    "test_set['balance_category'] = encoder.transform(test_set['balance_category'])\n"
   ]
  },
  {
   "cell_type": "code",
   "execution_count": 74,
   "id": "73e59f0f-9070-4724-b006-33cffbf83213",
   "metadata": {},
   "outputs": [
    {
     "name": "stdout",
     "output_type": "stream",
     "text": [
      "Categorías en train_set (balance_category):\n",
      "[1 0]\n",
      "\n",
      "Categorías en test_set (balance_category):\n",
      "[1 0]\n"
     ]
    }
   ],
   "source": [
    "print(\"Categorías en train_set (balance_category):\")\n",
    "print(train_set['balance_category'].unique())\n",
    "\n",
    "print(\"\\nCategorías en test_set (balance_category):\")\n",
    "print(test_set['balance_category'].unique())\n"
   ]
  },
  {
   "cell_type": "code",
   "execution_count": 75,
   "id": "3aad88b4-6adb-4cf9-a3dd-c92c55d730bb",
   "metadata": {},
   "outputs": [
    {
     "name": "stdout",
     "output_type": "stream",
     "text": [
      "age                     float64\n",
      "education                 int32\n",
      "default                  object\n",
      "balance                 float64\n",
      "housing                   int32\n",
      "loan                      int32\n",
      "contact                  object\n",
      "day                       int64\n",
      "campaign                float64\n",
      "pdays                   float64\n",
      "previous                float64\n",
      "poutcome                  int32\n",
      "balance_to_age_ratio    float64\n",
      "balance_category          int32\n",
      "balance_age_ratio       float64\n",
      "dtype: object\n"
     ]
    }
   ],
   "source": [
    "print(train_set.dtypes)\n"
   ]
  },
  {
   "cell_type": "code",
   "execution_count": 76,
   "id": "e06ac54d-ce24-4c8b-b7c5-3739930c493b",
   "metadata": {},
   "outputs": [
    {
     "name": "stdout",
     "output_type": "stream",
     "text": [
      "           age   balance  balance_category  balance_age_ratio\n",
      "8644  0.411944 -0.387852                 1          -0.274693\n",
      "2632  0.411944  0.510484                 0           0.361547\n",
      "3056 -1.356972 -0.559449                 1           1.567206\n",
      "1080  0.159242  0.836830                 0           0.721877\n",
      "4006 -0.346163 -0.524864                 1          -0.802744\n",
      "           age   balance  balance_category  balance_age_ratio\n",
      "8220 -0.767333 -0.446825                 1          -1.920450\n",
      "2521 -0.430397 -0.454362                 1          -0.797682\n",
      "7949  0.917349 -0.300945                 1          -0.156959\n",
      "7879 -0.514631 -0.710650                 1          -1.464144\n",
      "616  -0.009226 -0.705329                 1          -0.711897\n"
     ]
    }
   ],
   "source": [
    "print(train_set[['age', 'balance', 'balance_category', 'balance_age_ratio']].head())\n",
    "print(test_set[['age', 'balance', 'balance_category', 'balance_age_ratio']].head())"
   ]
  },
  {
   "cell_type": "markdown",
   "id": "8607ad88-078c-4989-8584-ffc284911988",
   "metadata": {},
   "source": [
    "### PCA"
   ]
  },
  {
   "cell_type": "markdown",
   "id": "40dec39f-7fed-41ff-a075-085c4d5b7d0e",
   "metadata": {},
   "source": [
    "##### Debido a la baja dimensionalidad y inexistencia de multicolinealidad no se procede a realiazar PCA, esto evitará una complejidad innecesaria"
   ]
  },
  {
   "cell_type": "markdown",
   "id": "c0e842b8-fb80-4296-bc07-c2fa129f53cc",
   "metadata": {},
   "source": [
    "# VERIFICACION EN PIPELINE"
   ]
  },
  {
   "cell_type": "markdown",
   "id": "9d146839-33dc-493d-af3f-1efe9bc0e4fd",
   "metadata": {},
   "source": [
    "#### Para asegurarnos que todas las transformaciones y pasos de preprocesamiento funcionan correctamente y están alineados entre el conjunto de entrenamiento y el conjunto de prueba. Esto garantiza que los datos estén listos para entrenar el modelo y que no haya errores o inconsistencias.\n",
    "\n"
   ]
  },
  {
   "cell_type": "code",
   "execution_count": 81,
   "id": "375ce226-8458-4d66-857e-e45e426f6229",
   "metadata": {},
   "outputs": [
    {
     "name": "stdout",
     "output_type": "stream",
     "text": [
      "Columnas en train_set: Index(['age', 'education', 'default', 'balance', 'housing', 'loan', 'contact',\n",
      "       'day', 'campaign', 'pdays', 'previous', 'poutcome',\n",
      "       'balance_to_age_ratio', 'balance_category', 'balance_age_ratio'],\n",
      "      dtype='object')\n",
      "Columnas en test_set: Index(['age', 'education', 'default', 'balance', 'housing', 'loan', 'contact',\n",
      "       'day', 'campaign', 'pdays', 'previous', 'poutcome',\n",
      "       'balance_to_age_ratio', 'balance_category', 'balance_age_ratio'],\n",
      "      dtype='object')\n",
      "\n",
      "¿Las columnas son consistentes?: True\n"
     ]
    }
   ],
   "source": [
    "print(\"Columnas en train_set:\", train_set.columns)\n",
    "print(\"Columnas en test_set:\", test_set.columns)\n",
    "\n",
    "print(\"\\n¿Las columnas son consistentes?:\", set(train_set.columns) == set(test_set.columns))\n"
   ]
  },
  {
   "cell_type": "markdown",
   "id": "35625c43-6948-47c6-bfa1-04513256d45f",
   "metadata": {},
   "source": [
    "##### se comprueban que todas las columnas estan iguales en ambos modelos excepto la variable objetivo "
   ]
  },
  {
   "cell_type": "code",
   "execution_count": 83,
   "id": "dfa54c88-df71-414f-9ad5-eaca1a4ec371",
   "metadata": {},
   "outputs": [
    {
     "name": "stdout",
     "output_type": "stream",
     "text": [
      "Valores faltantes en train_set:\n",
      "age                     0\n",
      "education               0\n",
      "default                 0\n",
      "balance                 0\n",
      "housing                 0\n",
      "loan                    0\n",
      "contact                 0\n",
      "day                     0\n",
      "campaign                0\n",
      "pdays                   0\n",
      "previous                0\n",
      "poutcome                0\n",
      "balance_to_age_ratio    0\n",
      "balance_category        0\n",
      "balance_age_ratio       0\n",
      "dtype: int64\n",
      "\n",
      "Valores faltantes en test_set:\n",
      "age                     0\n",
      "education               0\n",
      "default                 0\n",
      "balance                 0\n",
      "housing                 0\n",
      "loan                    0\n",
      "contact                 0\n",
      "day                     0\n",
      "campaign                0\n",
      "pdays                   0\n",
      "previous                0\n",
      "poutcome                0\n",
      "balance_to_age_ratio    0\n",
      "balance_category        0\n",
      "balance_age_ratio       0\n",
      "dtype: int64\n"
     ]
    }
   ],
   "source": [
    "print(\"Valores faltantes en train_set:\")\n",
    "print(train_set.isnull().sum())\n",
    "\n",
    "print(\"\\nValores faltantes en test_set:\")\n",
    "print(test_set.isnull().sum())\n"
   ]
  },
  {
   "cell_type": "markdown",
   "id": "4c39d746-9aa4-4b83-ab84-6d4b31035c28",
   "metadata": {},
   "source": [
    "### Descripción estadística de las columnas numéricas\n",
    "###### Comparamos para asegurarnos que las transformaciones son consistentes "
   ]
  },
  {
   "cell_type": "code",
   "execution_count": 85,
   "id": "29a322df-26b0-4439-8700-ba19c1c3736f",
   "metadata": {},
   "outputs": [
    {
     "name": "stdout",
     "output_type": "stream",
     "text": [
      "Estadísticas en train_set:\n",
      "                       count          mean        std         min       25%  \\\n",
      "age                   8929.0  2.319669e-16   1.000056   -1.946611 -0.767333   \n",
      "education             8929.0  1.288834e+00   0.752988    0.000000  1.000000   \n",
      "balance               8929.0 -2.964242e-17   1.000056   -0.854279 -0.566987   \n",
      "housing               8929.0  4.736253e-01   0.499332    0.000000  0.000000   \n",
      "loan                  8929.0  1.294658e-01   0.335734    0.000000  0.000000   \n",
      "day                   8929.0  1.568350e+01   8.429058    1.000000  8.000000   \n",
      "campaign              8929.0 -7.321081e-17   1.000056   -0.540031 -0.540031   \n",
      "pdays                 8929.0 -4.456310e-17   1.000056   -0.484037 -0.484037   \n",
      "previous              8929.0 -4.376733e-18   1.000056   -0.355931 -0.355931   \n",
      "poutcome              8929.0  2.473513e+00   1.006252    0.000000  2.000000   \n",
      "balance_to_age_ratio  8929.0  1.528646e-01  17.583684 -550.578443 -0.533484   \n",
      "balance_category      8929.0  7.115018e-01   0.453089    0.000000  0.000000   \n",
      "balance_age_ratio     8929.0  2.319118e-01   7.949139 -253.534010 -0.698513   \n",
      "\n",
      "                            50%        75%        max  \n",
      "age                   -0.177694   0.664647   4.539417  \n",
      "education              1.000000   2.000000   3.000000  \n",
      "balance               -0.376323   0.130044   5.079762  \n",
      "housing                0.000000   1.000000   1.000000  \n",
      "loan                   0.000000   0.000000   1.000000  \n",
      "day                   15.000000  22.000000  31.000000  \n",
      "campaign              -0.180775   0.178481  21.733858  \n",
      "pdays                 -0.484037  -0.126472   7.354883  \n",
      "previous              -0.355931   0.073021  24.523279  \n",
      "poutcome               3.000000   3.000000   3.000000  \n",
      "balance_to_age_ratio   0.240957   0.789179  92.592457  \n",
      "balance_category       1.000000   1.000000   1.000000  \n",
      "balance_age_ratio     -0.225055   0.467378  79.126094  \n",
      "\n",
      "Estadísticas en test_set:\n",
      "                       count       mean        std         min       25%  \\\n",
      "age                   2233.0   0.052148   1.014880   -1.946611 -0.767333   \n",
      "education             2233.0   1.267801   0.733802    0.000000  1.000000   \n",
      "balance               2233.0   0.057915   1.103689   -0.854279 -0.566100   \n",
      "housing               2233.0   0.471115   0.499277    0.000000  0.000000   \n",
      "loan                  2233.0   0.136140   0.343014    0.000000  0.000000   \n",
      "day                   2233.0  15.556202   8.388505    1.000000  8.000000   \n",
      "campaign              2233.0   0.009391   0.884070   -0.540031 -0.540031   \n",
      "pdays                 2233.0  -0.021269   0.985389   -0.484037 -0.484037   \n",
      "previous              2233.0   0.005980   0.912679   -0.355931 -0.355931   \n",
      "poutcome              2233.0   2.494850   0.989685    0.000000  3.000000   \n",
      "balance_to_age_ratio  2233.0   0.395885  15.003668 -315.617643 -0.531574   \n",
      "balance_category      2233.0   0.702642   0.457198    0.000000  0.000000   \n",
      "balance_age_ratio     2233.0   0.225492   9.543152 -253.534010 -0.689521   \n",
      "\n",
      "                            50%        75%        max  \n",
      "age                   -0.177694   0.748881   3.949778  \n",
      "education              1.000000   2.000000   3.000000  \n",
      "balance               -0.381201   0.169950   5.079762  \n",
      "housing                0.000000   1.000000   1.000000  \n",
      "loan                   0.000000   0.000000   1.000000  \n",
      "day                   15.000000  21.000000  31.000000  \n",
      "campaign              -0.180775   0.178481   9.159888  \n",
      "pdays                 -0.484037  -0.484037   7.116506  \n",
      "previous              -0.355931  -0.355931   9.509963  \n",
      "poutcome               3.000000   3.000000   3.000000  \n",
      "balance_to_age_ratio   0.259453   0.849287  92.592457  \n",
      "balance_category       1.000000   1.000000   1.000000  \n",
      "balance_age_ratio     -0.214478   0.521315  78.297280  \n"
     ]
    }
   ],
   "source": [
    "print(\"Estadísticas en train_set:\")\n",
    "print(train_set.describe().T)\n",
    "\n",
    "print(\"\\nEstadísticas en test_set:\")\n",
    "print(test_set.describe().T)\n"
   ]
  },
  {
   "cell_type": "markdown",
   "id": "3ca05631-010d-4f43-a5c0-72654518520f",
   "metadata": {},
   "source": [
    "##### nuestos valores están dentro del rango 0 y 1 lo cual confirma que tenemos una estadistica consistente"
   ]
  },
  {
   "cell_type": "markdown",
   "id": "0af696a0-18a1-46ba-91b4-e0fe7a53acff",
   "metadata": {},
   "source": [
    "# ENTRENAMIENTO DEL MODELO NO SUPERVISADO"
   ]
  },
  {
   "cell_type": "markdown",
   "id": "0a371dc9-f0fa-4852-8e49-2c8e037bded0",
   "metadata": {},
   "source": [
    "##### Implementacion de K-Means, para identificar grupos de clientes para personalizar las recomendaciones. La métrica será la de indice de silueta"
   ]
  },
  {
   "cell_type": "code",
   "execution_count": 89,
   "id": "46bb28ee-6d40-4034-af61-eca42a96ab0b",
   "metadata": {},
   "outputs": [],
   "source": [
    "from sklearn.cluster import KMeans\n",
    "from sklearn.metrics import silhouette_score\n",
    "\n",
    "columns_for_clustering = ['age', 'balance', 'campaign', 'pdays', 'previous']\n",
    "X_clustering = train_set[columns_for_clustering]\n"
   ]
  },
  {
   "cell_type": "markdown",
   "id": "3b718349-67f2-4a4e-b247-c4b5c1c1b46d",
   "metadata": {},
   "source": [
    "#### Probar que K da el mejor resultado"
   ]
  },
  {
   "cell_type": "code",
   "execution_count": 91,
   "id": "9b9a14f4-be82-4010-b507-d5fe79b93a7a",
   "metadata": {},
   "outputs": [
    {
     "name": "stdout",
     "output_type": "stream",
     "text": [
      "Índice de Silueta para k=2: 0.39\n",
      "Índice de Silueta para k=3: 0.40\n",
      "Índice de Silueta para k=4: 0.39\n",
      "Índice de Silueta para k=5: 0.32\n"
     ]
    }
   ],
   "source": [
    "\n",
    "for k in range(2, 6):\n",
    "    kmeans = KMeans(n_clusters=k, random_state=42)\n",
    "    clusters = kmeans.fit_predict(X_clustering)\n",
    "    silhouette_avg = silhouette_score(X_clustering, clusters)\n",
    "    print(f\"Índice de Silueta para k={k}: {silhouette_avg:.2f}\")\n"
   ]
  },
  {
   "cell_type": "markdown",
   "id": "89623216-a12a-40f3-b4b4-64bed879a9a7",
   "metadata": {},
   "source": [
    "### Interpretación\n",
    "##### el indice de silueta con el mejor número de clusters es K=3: 0.40 lo que indica que dividir a los clientes en 3 grupos da un resultado mejor, es decir los clientes dentro de cada grupo son más parecidos entre sí y los grupos están más separados. Estas agrupaciones podráin ser Clientes con poco interés o adquisición baja, Cliente con un interés mediano y con un nivel económico más elevado y por último clientes altamente interesados o capacidad económica alta.\n",
    "### Relacion con el Proyecto:\n",
    "##### Personalizar las recomendaciones enfocadas a cada tipo de cliente."
   ]
  },
  {
   "cell_type": "code",
   "execution_count": 93,
   "id": "d595bd38-2576-4c67-8f3a-b830a7422ae8",
   "metadata": {},
   "outputs": [],
   "source": [
    "\n",
    "kmeans = KMeans(n_clusters=3, random_state=42)\n",
    "clusters = kmeans.fit_predict(X_clustering)\n",
    "\n"
   ]
  },
  {
   "cell_type": "markdown",
   "id": "8144ad8a-3c9f-49e3-b5cf-924a7fd4b37c",
   "metadata": {},
   "source": [
    "## Asignar cluster al conjunto de datos"
   ]
  },
  {
   "cell_type": "code",
   "execution_count": 95,
   "id": "cc374011-01db-4d77-ad22-12887705bc20",
   "metadata": {},
   "outputs": [
    {
     "name": "stdout",
     "output_type": "stream",
     "text": [
      "           age   balance  campaign     pdays  previous  cluster\n",
      "8644  0.411944 -0.387852  0.178481 -0.484037 -0.355931        0\n",
      "2632  0.411944  0.510484 -0.540031  0.386954  3.075684        2\n",
      "3056 -1.356972 -0.559449 -0.540031  0.359449  0.073021        0\n",
      "1080  0.159242  0.836830  0.178481 -0.484037 -0.355931        0\n",
      "4006 -0.346163 -0.524864 -0.180775 -0.484037 -0.355931        0\n"
     ]
    }
   ],
   "source": [
    "train_set['cluster'] = clusters\n",
    "\n",
    "print(train_set[['age', 'balance', 'campaign', 'pdays', 'previous', 'cluster']].head())\n"
   ]
  },
  {
   "cell_type": "markdown",
   "id": "8820844a-d649-4e6f-9983-5376a7733080",
   "metadata": {},
   "source": [
    "### Calculamos las estadisticas promedio para cada cluster"
   ]
  },
  {
   "cell_type": "code",
   "execution_count": 97,
   "id": "02d054a0-8137-46a1-8cb0-d6da748d13a2",
   "metadata": {},
   "outputs": [
    {
     "name": "stdout",
     "output_type": "stream",
     "text": [
      "              age  education   balance   housing      loan        day  \\\n",
      "cluster                                                                 \n",
      "0       -0.054782   1.266998 -0.274165  0.475163  0.143123  15.996895   \n",
      "1        0.395098   1.386667  2.675608  0.388000  0.058667  16.453333   \n",
      "2        0.032576   1.327576 -0.138479  0.504893  0.109384  14.188831   \n",
      "\n",
      "         campaign     pdays  previous  poutcome  balance_to_age_ratio  \\\n",
      "cluster                                                                 \n",
      "0        0.063544 -0.439212 -0.318442  2.900497              0.906591   \n",
      "1       -0.056712 -0.121338 -0.089409  2.512000             -6.881311   \n",
      "2       -0.211178  1.681293  1.219609  0.873345              0.394735   \n",
      "\n",
      "         balance_category  balance_age_ratio  \n",
      "cluster                                       \n",
      "0                0.796492           0.092180  \n",
      "1                0.000000           1.646385  \n",
      "2                0.703512           0.139395  \n"
     ]
    }
   ],
   "source": [
    "numeric_columns = train_set.select_dtypes(include=['number']).columns\n",
    "cluster_summary = train_set[numeric_columns].groupby('cluster').mean()\n",
    "\n",
    "print(cluster_summary)\n"
   ]
  },
  {
   "cell_type": "code",
   "execution_count": 98,
   "id": "5df9b73f-3b9b-43d8-91cd-f8f54b9047fa",
   "metadata": {},
   "outputs": [
    {
     "name": "stdout",
     "output_type": "stream",
     "text": [
      "\n",
      "Distribución de clientes por cluster (%):\n",
      "cluster\n",
      "0    72.146937\n",
      "2    19.453466\n",
      "1     8.399597\n",
      "Name: proportion, dtype: float64\n"
     ]
    }
   ],
   "source": [
    "cluster_distribution = train_set['cluster'].value_counts(normalize=True) * 100\n",
    "print(\"\\nDistribución de clientes por cluster (%):\")\n",
    "print(cluster_distribution)\n"
   ]
  },
  {
   "cell_type": "code",
   "execution_count": 99,
   "id": "fc305e98-10f9-4c4c-817b-22ce5ad82d94",
   "metadata": {},
   "outputs": [
    {
     "name": "stdout",
     "output_type": "stream",
     "text": [
      "Características promedio por cluster:\n",
      "              age  education   balance   housing      loan        day  \\\n",
      "cluster                                                                 \n",
      "0       -0.054782   1.266998 -0.274165  0.475163  0.143123  15.996895   \n",
      "1        0.395098   1.386667  2.675608  0.388000  0.058667  16.453333   \n",
      "2        0.032576   1.327576 -0.138479  0.504893  0.109384  14.188831   \n",
      "\n",
      "         campaign     pdays  previous  poutcome  balance_to_age_ratio  \\\n",
      "cluster                                                                 \n",
      "0        0.063544 -0.439212 -0.318442  2.900497              0.906591   \n",
      "1       -0.056712 -0.121338 -0.089409  2.512000             -6.881311   \n",
      "2       -0.211178  1.681293  1.219609  0.873345              0.394735   \n",
      "\n",
      "         balance_category  balance_age_ratio  \n",
      "cluster                                       \n",
      "0                0.796492           0.092180  \n",
      "1                0.000000           1.646385  \n",
      "2                0.703512           0.139395  \n"
     ]
    }
   ],
   "source": [
    "print(\"Características promedio por cluster:\")\n",
    "print(cluster_summary)\n"
   ]
  },
  {
   "cell_type": "code",
   "execution_count": 100,
   "id": "a009bf20-8977-4606-b69d-5b715de353a1",
   "metadata": {},
   "outputs": [],
   "source": [
    "# Usar el modelo K-Means para predecir clusters en test_set\n",
    "test_set['cluster'] = kmeans.predict(test_set[['age', 'balance', 'campaign', 'pdays', 'previous']])\n"
   ]
  },
  {
   "cell_type": "markdown",
   "id": "ca771abf-7618-42f1-a944-f604cd3bfead",
   "metadata": {},
   "source": [
    "### Interpretación y Relacion con el proyecto\n",
    "#### Podemos observar que los tres grupos están claramente separados:\n",
    "##### - Cluster 0: grupo más grande con un 72% con un perfil de edad más joven y un balance bajo. Grupo al que habría que elaborar estratégia de camapaña para fomentar interés para convertir un porcentakje de este grupo.\n",
    "##### - Cluster 1: Grupo más pequeño de los tres con un 8,4 % con perfil de edad más mayores y su balance alto, lo cual nos llevaría a pensar en campañas enfocadas a productos específicos financieros avanzados.\n",
    "##### - Cluster 2: se ubicaría en ser el grupo intermedio por su 19,4% rnago de edad media y en su balance, pero se observa que es el grupo que tiene receptivo y activo, lo que nos da señal a aprovechar esta interacción y cerrar ventas rápidas con estos clintes."
   ]
  },
  {
   "cell_type": "markdown",
   "id": "314eef17-307a-47b1-ba3a-c3fdf16381d6",
   "metadata": {},
   "source": [
    "# ENTRENAMIENTO DEL MODELO  SUPERVISADO"
   ]
  },
  {
   "cell_type": "markdown",
   "id": "bf748586-bc76-4a76-abab-1580bdff4ef4",
   "metadata": {},
   "source": [
    "##### Implementacion Regresión Logística, para predecir la probabilidad de aceptación. Las métricas serán, Accuracy, Precisión, Recall, F1-Score."
   ]
  },
  {
   "cell_type": "code",
   "execution_count": 104,
   "id": "e4d4e2bc-adf7-44b6-acf3-52682b7d92e9",
   "metadata": {},
   "outputs": [
    {
     "name": "stdout",
     "output_type": "stream",
     "text": [
      "Columnas en train_set: Index(['age', 'education', 'default', 'balance', 'housing', 'loan', 'contact',\n",
      "       'day', 'campaign', 'pdays', 'previous', 'poutcome',\n",
      "       'balance_to_age_ratio', 'balance_category', 'balance_age_ratio',\n",
      "       'cluster'],\n",
      "      dtype='object')\n",
      "\n",
      "Columnas en test_set: Index(['age', 'education', 'default', 'balance', 'housing', 'loan', 'contact',\n",
      "       'day', 'campaign', 'pdays', 'previous', 'poutcome',\n",
      "       'balance_to_age_ratio', 'balance_category', 'balance_age_ratio',\n",
      "       'cluster'],\n",
      "      dtype='object')\n"
     ]
    }
   ],
   "source": [
    "# Mostrar las columnas disponibles en train_set y test_set\n",
    "print(\"Columnas en train_set:\", train_set.columns)\n",
    "print(\"\\nColumnas en test_set:\", test_set.columns)\n"
   ]
  },
  {
   "cell_type": "code",
   "execution_count": 105,
   "id": "2509db9d-d445-4f90-8c12-9d64bc4a1e1f",
   "metadata": {},
   "outputs": [],
   "source": [
    "predictor_columns = ['age', 'balance', 'campaign', 'pdays', 'previous', 'balance_to_age_ratio', 'balance_category', 'cluster']\n",
    "\n",
    "train_set_updated = train_set[predictor_columns]\n",
    "test_set_updated = test_set[predictor_columns]\n"
   ]
  },
  {
   "cell_type": "code",
   "execution_count": 106,
   "id": "35fd1269-5db4-427d-91b3-0dadc416d441",
   "metadata": {},
   "outputs": [
    {
     "data": {
      "text/html": [
       "<style>#sk-container-id-1 {\n",
       "  /* Definition of color scheme common for light and dark mode */\n",
       "  --sklearn-color-text: black;\n",
       "  --sklearn-color-line: gray;\n",
       "  /* Definition of color scheme for unfitted estimators */\n",
       "  --sklearn-color-unfitted-level-0: #fff5e6;\n",
       "  --sklearn-color-unfitted-level-1: #f6e4d2;\n",
       "  --sklearn-color-unfitted-level-2: #ffe0b3;\n",
       "  --sklearn-color-unfitted-level-3: chocolate;\n",
       "  /* Definition of color scheme for fitted estimators */\n",
       "  --sklearn-color-fitted-level-0: #f0f8ff;\n",
       "  --sklearn-color-fitted-level-1: #d4ebff;\n",
       "  --sklearn-color-fitted-level-2: #b3dbfd;\n",
       "  --sklearn-color-fitted-level-3: cornflowerblue;\n",
       "\n",
       "  /* Specific color for light theme */\n",
       "  --sklearn-color-text-on-default-background: var(--sg-text-color, var(--theme-code-foreground, var(--jp-content-font-color1, black)));\n",
       "  --sklearn-color-background: var(--sg-background-color, var(--theme-background, var(--jp-layout-color0, white)));\n",
       "  --sklearn-color-border-box: var(--sg-text-color, var(--theme-code-foreground, var(--jp-content-font-color1, black)));\n",
       "  --sklearn-color-icon: #696969;\n",
       "\n",
       "  @media (prefers-color-scheme: dark) {\n",
       "    /* Redefinition of color scheme for dark theme */\n",
       "    --sklearn-color-text-on-default-background: var(--sg-text-color, var(--theme-code-foreground, var(--jp-content-font-color1, white)));\n",
       "    --sklearn-color-background: var(--sg-background-color, var(--theme-background, var(--jp-layout-color0, #111)));\n",
       "    --sklearn-color-border-box: var(--sg-text-color, var(--theme-code-foreground, var(--jp-content-font-color1, white)));\n",
       "    --sklearn-color-icon: #878787;\n",
       "  }\n",
       "}\n",
       "\n",
       "#sk-container-id-1 {\n",
       "  color: var(--sklearn-color-text);\n",
       "}\n",
       "\n",
       "#sk-container-id-1 pre {\n",
       "  padding: 0;\n",
       "}\n",
       "\n",
       "#sk-container-id-1 input.sk-hidden--visually {\n",
       "  border: 0;\n",
       "  clip: rect(1px 1px 1px 1px);\n",
       "  clip: rect(1px, 1px, 1px, 1px);\n",
       "  height: 1px;\n",
       "  margin: -1px;\n",
       "  overflow: hidden;\n",
       "  padding: 0;\n",
       "  position: absolute;\n",
       "  width: 1px;\n",
       "}\n",
       "\n",
       "#sk-container-id-1 div.sk-dashed-wrapped {\n",
       "  border: 1px dashed var(--sklearn-color-line);\n",
       "  margin: 0 0.4em 0.5em 0.4em;\n",
       "  box-sizing: border-box;\n",
       "  padding-bottom: 0.4em;\n",
       "  background-color: var(--sklearn-color-background);\n",
       "}\n",
       "\n",
       "#sk-container-id-1 div.sk-container {\n",
       "  /* jupyter's `normalize.less` sets `[hidden] { display: none; }`\n",
       "     but bootstrap.min.css set `[hidden] { display: none !important; }`\n",
       "     so we also need the `!important` here to be able to override the\n",
       "     default hidden behavior on the sphinx rendered scikit-learn.org.\n",
       "     See: https://github.com/scikit-learn/scikit-learn/issues/21755 */\n",
       "  display: inline-block !important;\n",
       "  position: relative;\n",
       "}\n",
       "\n",
       "#sk-container-id-1 div.sk-text-repr-fallback {\n",
       "  display: none;\n",
       "}\n",
       "\n",
       "div.sk-parallel-item,\n",
       "div.sk-serial,\n",
       "div.sk-item {\n",
       "  /* draw centered vertical line to link estimators */\n",
       "  background-image: linear-gradient(var(--sklearn-color-text-on-default-background), var(--sklearn-color-text-on-default-background));\n",
       "  background-size: 2px 100%;\n",
       "  background-repeat: no-repeat;\n",
       "  background-position: center center;\n",
       "}\n",
       "\n",
       "/* Parallel-specific style estimator block */\n",
       "\n",
       "#sk-container-id-1 div.sk-parallel-item::after {\n",
       "  content: \"\";\n",
       "  width: 100%;\n",
       "  border-bottom: 2px solid var(--sklearn-color-text-on-default-background);\n",
       "  flex-grow: 1;\n",
       "}\n",
       "\n",
       "#sk-container-id-1 div.sk-parallel {\n",
       "  display: flex;\n",
       "  align-items: stretch;\n",
       "  justify-content: center;\n",
       "  background-color: var(--sklearn-color-background);\n",
       "  position: relative;\n",
       "}\n",
       "\n",
       "#sk-container-id-1 div.sk-parallel-item {\n",
       "  display: flex;\n",
       "  flex-direction: column;\n",
       "}\n",
       "\n",
       "#sk-container-id-1 div.sk-parallel-item:first-child::after {\n",
       "  align-self: flex-end;\n",
       "  width: 50%;\n",
       "}\n",
       "\n",
       "#sk-container-id-1 div.sk-parallel-item:last-child::after {\n",
       "  align-self: flex-start;\n",
       "  width: 50%;\n",
       "}\n",
       "\n",
       "#sk-container-id-1 div.sk-parallel-item:only-child::after {\n",
       "  width: 0;\n",
       "}\n",
       "\n",
       "/* Serial-specific style estimator block */\n",
       "\n",
       "#sk-container-id-1 div.sk-serial {\n",
       "  display: flex;\n",
       "  flex-direction: column;\n",
       "  align-items: center;\n",
       "  background-color: var(--sklearn-color-background);\n",
       "  padding-right: 1em;\n",
       "  padding-left: 1em;\n",
       "}\n",
       "\n",
       "\n",
       "/* Toggleable style: style used for estimator/Pipeline/ColumnTransformer box that is\n",
       "clickable and can be expanded/collapsed.\n",
       "- Pipeline and ColumnTransformer use this feature and define the default style\n",
       "- Estimators will overwrite some part of the style using the `sk-estimator` class\n",
       "*/\n",
       "\n",
       "/* Pipeline and ColumnTransformer style (default) */\n",
       "\n",
       "#sk-container-id-1 div.sk-toggleable {\n",
       "  /* Default theme specific background. It is overwritten whether we have a\n",
       "  specific estimator or a Pipeline/ColumnTransformer */\n",
       "  background-color: var(--sklearn-color-background);\n",
       "}\n",
       "\n",
       "/* Toggleable label */\n",
       "#sk-container-id-1 label.sk-toggleable__label {\n",
       "  cursor: pointer;\n",
       "  display: block;\n",
       "  width: 100%;\n",
       "  margin-bottom: 0;\n",
       "  padding: 0.5em;\n",
       "  box-sizing: border-box;\n",
       "  text-align: center;\n",
       "}\n",
       "\n",
       "#sk-container-id-1 label.sk-toggleable__label-arrow:before {\n",
       "  /* Arrow on the left of the label */\n",
       "  content: \"▸\";\n",
       "  float: left;\n",
       "  margin-right: 0.25em;\n",
       "  color: var(--sklearn-color-icon);\n",
       "}\n",
       "\n",
       "#sk-container-id-1 label.sk-toggleable__label-arrow:hover:before {\n",
       "  color: var(--sklearn-color-text);\n",
       "}\n",
       "\n",
       "/* Toggleable content - dropdown */\n",
       "\n",
       "#sk-container-id-1 div.sk-toggleable__content {\n",
       "  max-height: 0;\n",
       "  max-width: 0;\n",
       "  overflow: hidden;\n",
       "  text-align: left;\n",
       "  /* unfitted */\n",
       "  background-color: var(--sklearn-color-unfitted-level-0);\n",
       "}\n",
       "\n",
       "#sk-container-id-1 div.sk-toggleable__content.fitted {\n",
       "  /* fitted */\n",
       "  background-color: var(--sklearn-color-fitted-level-0);\n",
       "}\n",
       "\n",
       "#sk-container-id-1 div.sk-toggleable__content pre {\n",
       "  margin: 0.2em;\n",
       "  border-radius: 0.25em;\n",
       "  color: var(--sklearn-color-text);\n",
       "  /* unfitted */\n",
       "  background-color: var(--sklearn-color-unfitted-level-0);\n",
       "}\n",
       "\n",
       "#sk-container-id-1 div.sk-toggleable__content.fitted pre {\n",
       "  /* unfitted */\n",
       "  background-color: var(--sklearn-color-fitted-level-0);\n",
       "}\n",
       "\n",
       "#sk-container-id-1 input.sk-toggleable__control:checked~div.sk-toggleable__content {\n",
       "  /* Expand drop-down */\n",
       "  max-height: 200px;\n",
       "  max-width: 100%;\n",
       "  overflow: auto;\n",
       "}\n",
       "\n",
       "#sk-container-id-1 input.sk-toggleable__control:checked~label.sk-toggleable__label-arrow:before {\n",
       "  content: \"▾\";\n",
       "}\n",
       "\n",
       "/* Pipeline/ColumnTransformer-specific style */\n",
       "\n",
       "#sk-container-id-1 div.sk-label input.sk-toggleable__control:checked~label.sk-toggleable__label {\n",
       "  color: var(--sklearn-color-text);\n",
       "  background-color: var(--sklearn-color-unfitted-level-2);\n",
       "}\n",
       "\n",
       "#sk-container-id-1 div.sk-label.fitted input.sk-toggleable__control:checked~label.sk-toggleable__label {\n",
       "  background-color: var(--sklearn-color-fitted-level-2);\n",
       "}\n",
       "\n",
       "/* Estimator-specific style */\n",
       "\n",
       "/* Colorize estimator box */\n",
       "#sk-container-id-1 div.sk-estimator input.sk-toggleable__control:checked~label.sk-toggleable__label {\n",
       "  /* unfitted */\n",
       "  background-color: var(--sklearn-color-unfitted-level-2);\n",
       "}\n",
       "\n",
       "#sk-container-id-1 div.sk-estimator.fitted input.sk-toggleable__control:checked~label.sk-toggleable__label {\n",
       "  /* fitted */\n",
       "  background-color: var(--sklearn-color-fitted-level-2);\n",
       "}\n",
       "\n",
       "#sk-container-id-1 div.sk-label label.sk-toggleable__label,\n",
       "#sk-container-id-1 div.sk-label label {\n",
       "  /* The background is the default theme color */\n",
       "  color: var(--sklearn-color-text-on-default-background);\n",
       "}\n",
       "\n",
       "/* On hover, darken the color of the background */\n",
       "#sk-container-id-1 div.sk-label:hover label.sk-toggleable__label {\n",
       "  color: var(--sklearn-color-text);\n",
       "  background-color: var(--sklearn-color-unfitted-level-2);\n",
       "}\n",
       "\n",
       "/* Label box, darken color on hover, fitted */\n",
       "#sk-container-id-1 div.sk-label.fitted:hover label.sk-toggleable__label.fitted {\n",
       "  color: var(--sklearn-color-text);\n",
       "  background-color: var(--sklearn-color-fitted-level-2);\n",
       "}\n",
       "\n",
       "/* Estimator label */\n",
       "\n",
       "#sk-container-id-1 div.sk-label label {\n",
       "  font-family: monospace;\n",
       "  font-weight: bold;\n",
       "  display: inline-block;\n",
       "  line-height: 1.2em;\n",
       "}\n",
       "\n",
       "#sk-container-id-1 div.sk-label-container {\n",
       "  text-align: center;\n",
       "}\n",
       "\n",
       "/* Estimator-specific */\n",
       "#sk-container-id-1 div.sk-estimator {\n",
       "  font-family: monospace;\n",
       "  border: 1px dotted var(--sklearn-color-border-box);\n",
       "  border-radius: 0.25em;\n",
       "  box-sizing: border-box;\n",
       "  margin-bottom: 0.5em;\n",
       "  /* unfitted */\n",
       "  background-color: var(--sklearn-color-unfitted-level-0);\n",
       "}\n",
       "\n",
       "#sk-container-id-1 div.sk-estimator.fitted {\n",
       "  /* fitted */\n",
       "  background-color: var(--sklearn-color-fitted-level-0);\n",
       "}\n",
       "\n",
       "/* on hover */\n",
       "#sk-container-id-1 div.sk-estimator:hover {\n",
       "  /* unfitted */\n",
       "  background-color: var(--sklearn-color-unfitted-level-2);\n",
       "}\n",
       "\n",
       "#sk-container-id-1 div.sk-estimator.fitted:hover {\n",
       "  /* fitted */\n",
       "  background-color: var(--sklearn-color-fitted-level-2);\n",
       "}\n",
       "\n",
       "/* Specification for estimator info (e.g. \"i\" and \"?\") */\n",
       "\n",
       "/* Common style for \"i\" and \"?\" */\n",
       "\n",
       ".sk-estimator-doc-link,\n",
       "a:link.sk-estimator-doc-link,\n",
       "a:visited.sk-estimator-doc-link {\n",
       "  float: right;\n",
       "  font-size: smaller;\n",
       "  line-height: 1em;\n",
       "  font-family: monospace;\n",
       "  background-color: var(--sklearn-color-background);\n",
       "  border-radius: 1em;\n",
       "  height: 1em;\n",
       "  width: 1em;\n",
       "  text-decoration: none !important;\n",
       "  margin-left: 1ex;\n",
       "  /* unfitted */\n",
       "  border: var(--sklearn-color-unfitted-level-1) 1pt solid;\n",
       "  color: var(--sklearn-color-unfitted-level-1);\n",
       "}\n",
       "\n",
       ".sk-estimator-doc-link.fitted,\n",
       "a:link.sk-estimator-doc-link.fitted,\n",
       "a:visited.sk-estimator-doc-link.fitted {\n",
       "  /* fitted */\n",
       "  border: var(--sklearn-color-fitted-level-1) 1pt solid;\n",
       "  color: var(--sklearn-color-fitted-level-1);\n",
       "}\n",
       "\n",
       "/* On hover */\n",
       "div.sk-estimator:hover .sk-estimator-doc-link:hover,\n",
       ".sk-estimator-doc-link:hover,\n",
       "div.sk-label-container:hover .sk-estimator-doc-link:hover,\n",
       ".sk-estimator-doc-link:hover {\n",
       "  /* unfitted */\n",
       "  background-color: var(--sklearn-color-unfitted-level-3);\n",
       "  color: var(--sklearn-color-background);\n",
       "  text-decoration: none;\n",
       "}\n",
       "\n",
       "div.sk-estimator.fitted:hover .sk-estimator-doc-link.fitted:hover,\n",
       ".sk-estimator-doc-link.fitted:hover,\n",
       "div.sk-label-container:hover .sk-estimator-doc-link.fitted:hover,\n",
       ".sk-estimator-doc-link.fitted:hover {\n",
       "  /* fitted */\n",
       "  background-color: var(--sklearn-color-fitted-level-3);\n",
       "  color: var(--sklearn-color-background);\n",
       "  text-decoration: none;\n",
       "}\n",
       "\n",
       "/* Span, style for the box shown on hovering the info icon */\n",
       ".sk-estimator-doc-link span {\n",
       "  display: none;\n",
       "  z-index: 9999;\n",
       "  position: relative;\n",
       "  font-weight: normal;\n",
       "  right: .2ex;\n",
       "  padding: .5ex;\n",
       "  margin: .5ex;\n",
       "  width: min-content;\n",
       "  min-width: 20ex;\n",
       "  max-width: 50ex;\n",
       "  color: var(--sklearn-color-text);\n",
       "  box-shadow: 2pt 2pt 4pt #999;\n",
       "  /* unfitted */\n",
       "  background: var(--sklearn-color-unfitted-level-0);\n",
       "  border: .5pt solid var(--sklearn-color-unfitted-level-3);\n",
       "}\n",
       "\n",
       ".sk-estimator-doc-link.fitted span {\n",
       "  /* fitted */\n",
       "  background: var(--sklearn-color-fitted-level-0);\n",
       "  border: var(--sklearn-color-fitted-level-3);\n",
       "}\n",
       "\n",
       ".sk-estimator-doc-link:hover span {\n",
       "  display: block;\n",
       "}\n",
       "\n",
       "/* \"?\"-specific style due to the `<a>` HTML tag */\n",
       "\n",
       "#sk-container-id-1 a.estimator_doc_link {\n",
       "  float: right;\n",
       "  font-size: 1rem;\n",
       "  line-height: 1em;\n",
       "  font-family: monospace;\n",
       "  background-color: var(--sklearn-color-background);\n",
       "  border-radius: 1rem;\n",
       "  height: 1rem;\n",
       "  width: 1rem;\n",
       "  text-decoration: none;\n",
       "  /* unfitted */\n",
       "  color: var(--sklearn-color-unfitted-level-1);\n",
       "  border: var(--sklearn-color-unfitted-level-1) 1pt solid;\n",
       "}\n",
       "\n",
       "#sk-container-id-1 a.estimator_doc_link.fitted {\n",
       "  /* fitted */\n",
       "  border: var(--sklearn-color-fitted-level-1) 1pt solid;\n",
       "  color: var(--sklearn-color-fitted-level-1);\n",
       "}\n",
       "\n",
       "/* On hover */\n",
       "#sk-container-id-1 a.estimator_doc_link:hover {\n",
       "  /* unfitted */\n",
       "  background-color: var(--sklearn-color-unfitted-level-3);\n",
       "  color: var(--sklearn-color-background);\n",
       "  text-decoration: none;\n",
       "}\n",
       "\n",
       "#sk-container-id-1 a.estimator_doc_link.fitted:hover {\n",
       "  /* fitted */\n",
       "  background-color: var(--sklearn-color-fitted-level-3);\n",
       "}\n",
       "</style><div id=\"sk-container-id-1\" class=\"sk-top-container\"><div class=\"sk-text-repr-fallback\"><pre>LogisticRegression(max_iter=500, random_state=42)</pre><b>In a Jupyter environment, please rerun this cell to show the HTML representation or trust the notebook. <br />On GitHub, the HTML representation is unable to render, please try loading this page with nbviewer.org.</b></div><div class=\"sk-container\" hidden><div class=\"sk-item\"><div class=\"sk-estimator fitted sk-toggleable\"><input class=\"sk-toggleable__control sk-hidden--visually\" id=\"sk-estimator-id-1\" type=\"checkbox\" checked><label for=\"sk-estimator-id-1\" class=\"sk-toggleable__label fitted sk-toggleable__label-arrow fitted\">&nbsp;&nbsp;LogisticRegression<a class=\"sk-estimator-doc-link fitted\" rel=\"noreferrer\" target=\"_blank\" href=\"https://scikit-learn.org/1.5/modules/generated/sklearn.linear_model.LogisticRegression.html\">?<span>Documentation for LogisticRegression</span></a><span class=\"sk-estimator-doc-link fitted\">i<span>Fitted</span></span></label><div class=\"sk-toggleable__content fitted\"><pre>LogisticRegression(max_iter=500, random_state=42)</pre></div> </div></div></div></div>"
      ],
      "text/plain": [
       "LogisticRegression(max_iter=500, random_state=42)"
      ]
     },
     "execution_count": 106,
     "metadata": {},
     "output_type": "execute_result"
    }
   ],
   "source": [
    "# entrenar el modelo con datos actualizados\n",
    "from sklearn.linear_model import LogisticRegression\n",
    "\n",
    "# Inicializar el modelo\n",
    "log_reg = LogisticRegression(random_state=42, max_iter=500)\n",
    "\n",
    "# Entrenar el modelo con train_set_updated\n",
    "log_reg.fit(train_set_updated, y_train)\n"
   ]
  },
  {
   "cell_type": "code",
   "execution_count": 107,
   "id": "ab478c68-390f-435c-8d5b-86e47b1f352c",
   "metadata": {},
   "outputs": [],
   "source": [
    "# Predicciones\n",
    "y_pred = log_reg.predict(test_set_updated)\n"
   ]
  },
  {
   "cell_type": "code",
   "execution_count": 108,
   "id": "c2c3249d-4c5b-4829-8820-6d785b97dff2",
   "metadata": {},
   "outputs": [
    {
     "name": "stdout",
     "output_type": "stream",
     "text": [
      "Matriz de Confusión:\n",
      "[[840 335]\n",
      " [565 493]]\n",
      "\n",
      "Reporte de Clasificación:\n",
      "              precision    recall  f1-score   support\n",
      "\n",
      "           0       0.60      0.71      0.65      1175\n",
      "           1       0.60      0.47      0.52      1058\n",
      "\n",
      "    accuracy                           0.60      2233\n",
      "   macro avg       0.60      0.59      0.59      2233\n",
      "weighted avg       0.60      0.60      0.59      2233\n",
      "\n",
      "\n",
      "Exactitud (Accuracy): 0.60\n"
     ]
    }
   ],
   "source": [
    "from sklearn.metrics import classification_report, confusion_matrix, accuracy_score\n",
    "\n",
    "# Matriz de confusión\n",
    "print(\"Matriz de Confusión:\")\n",
    "print(confusion_matrix(y_test, y_pred))\n",
    "\n",
    "# Reporte de clasificación\n",
    "print(\"\\nReporte de Clasificación:\")\n",
    "print(classification_report(y_test, y_pred))\n",
    "\n",
    "# Exactitud (Accuracy)\n",
    "accuracy = accuracy_score(y_test, y_pred)\n",
    "print(f\"\\nExactitud (Accuracy): {accuracy:.2f}\")\n"
   ]
  },
  {
   "cell_type": "code",
   "execution_count": 109,
   "id": "b4c59693-9cee-464f-a11c-9ae6720dd78c",
   "metadata": {
    "scrolled": true
   },
   "outputs": [
    {
     "data": {
      "image/png": "[encoded data removed]",
      "text/plain": [
       "<Figure size 640x480 with 2 Axes>"
      ]
     },
     "metadata": {},
     "output_type": "display_data"
    }
   ],
   "source": [
    "from sklearn.metrics import ConfusionMatrixDisplay\n",
    "\n",
    "# Crear la matriz de confusión visual\n",
    "ConfusionMatrixDisplay.from_predictions(y_test, y_pred, cmap='Blues')\n",
    "plt.title('Matriz de Confusión')\n",
    "plt.show()\n"
   ]
  },
  {
   "cell_type": "markdown",
   "id": "78e44d91-ea16-4222-92e6-5b83900e8cdb",
   "metadata": {},
   "source": [
    "#### Interpretacion\n",
    "- **840 (True Negatives - TN):** Clientes que realmente rechazaron la oferta y el modelo predijo correctamente como `0`.\n",
    "- **335 (False Positives - FP):** Clientes que realmente rechazaron la oferta, pero el modelo predijo incorrectamente como `1`.\n",
    "- **493 (True Positives - TP):** Clientes que realmente aceptaron la oferta y el modelo predijo correctamente como `1`.\n",
    "- **565 (False Negatives - FN):** Clientes que realmente aceptaron la oferta, pero el modelo predijo incorrectamente como `0`.\n",
    "\n",
    "#### Relación con las métricas:\n",
    "- **Precisión clase `1` (Clientes interesados):** Mide cuántos de los `493 + 335` predichos como interesados (`1`) son correctos. Esto ayuda a evitar esfuerzos en clientes que no están interesados.\n",
    "- **Recall clase `1`:** Mide cuántos de los `493 + 565` clientes realmente interesados son detectados. Esto es importante para captar más clientes interesados.\n",
    "- **Exactitud (Accuracy):** Representa la proporción total de predicciones correctas en la matriz (TN + TP) frente al total de clientes.\n"
   ]
  },
  {
   "cell_type": "code",
   "execution_count": 182,
   "id": "e5b3fa46-58e3-4966-9538-dc308b47bcc5",
   "metadata": {},
   "outputs": [],
   "source": [
    "from sklearn.metrics import roc_curve, roc_auc_score\n"
   ]
  },
  {
   "cell_type": "markdown",
   "id": "5e2491c5-cc49-4e5b-bce9-57163af3216e",
   "metadata": {},
   "source": [
    "#### Calcular la curva ROC y Calcular el AUC"
   ]
  },
  {
   "cell_type": "code",
   "execution_count": 176,
   "id": "148fc70c-eb10-42b0-b897-6a61dce04ff0",
   "metadata": {},
   "outputs": [
    {
     "data": {
      "image/png": "[encoded data removed]",
      "text/plain": [
       "<Figure size 640x480 with 1 Axes>"
      ]
     },
     "metadata": {},
     "output_type": "display_data"
    }
   ],
   "source": [
    "y_pred_prob = log_reg.predict_proba(test_set_updated)[:, 1]\n",
    "\n",
    "fpr, tpr, thresholds = roc_curve(y_test, y_pred_prob)\n",
    "\n",
    "auc = roc_auc_score(y_test, y_pred_prob)\n",
    "\n",
    "plt.plot(fpr, tpr, label=f'ROC curve (AUC = {auc:.2f})', color='blue')\n",
    "plt.plot([0, 1], [0, 1], linestyle='--', color='red', label='Línea de referencia')\n",
    "plt.xlabel('Tasa de Falsos Positivos (FPR)')\n",
    "plt.ylabel('Tasa de Verdaderos Positivos (TPR)')\n",
    "plt.title('Curva ROC')\n",
    "plt.legend()\n",
    "plt.grid(True)\n",
    "plt.show()\n",
    "\n"
   ]
  },
  {
   "cell_type": "markdown",
   "id": "e20c4d9a-f731-4613-8e52-6b849e215a23",
   "metadata": {},
   "source": [
    "### Interpretación de la Curva ROC:\n",
    "\n",
    "#### 1. **Ejes del gráfico:**\n",
    "- **Eje X (Tasa de Falsos Positivos - FPR):** Representa la proporción de ejemplos negativos (clase `0`) que se clasifican erróneamente como positivos (`1`).\n",
    "- **Eje Y (Tasa de Verdaderos Positivos - TPR):** Representa la proporción de ejemplos positivos (clase `1`) que se clasifican correctamente.\n",
    "\n",
    "#### 2. **AUC (Área Bajo la Curva):**\n",
    "- **AUC = 0.64:** Esto indica que el modelo tiene una capacidad moderada para separar las clases `0` y `1`.\n",
    "  - Un AUC de **0.5** significa que el modelo no tiene capacidad discriminativa (equivale a un modelo aleatorio).\n",
    "  - Un AUC de **1.0** representa un modelo perfecto.\n",
    "\n",
    "En este caso, con un AUC de **0.64**, el modelo está por encima de un comportamiento aleatorio, pero aún tiene espacio para mejoras.\n",
    "\n",
    "#### 3. **Curva Azul (ROC curve):**\n",
    "- La curva muestra cómo el modelo balancea el **recall** y la **tasa de falsos positivos (FPR)** a medida que cambia el umbral de decisión.\n",
    "- Si la curva está más cerca del eje superior izquierdo, el modelo es mejor. Aquí, la curva se desvía hacia el centro, lo que indica un rendimiento moderado.\n",
    "\n",
    "### Relación con los objetivos del proyecto:\n",
    "- **Fortalezas:** El modelo tiene cierto poder predictivo para separar los clientes interesados (`1`) de los no interesados (`0`), útil para campañas de marketing dirigidas.\n",
    "- **Debilidades:** El AUC indica que el modelo aún tiene espacio para mejorar en la discriminación de las clases.\n"
   ]
  },
  {
   "cell_type": "markdown",
   "id": "36d4890f-751a-4655-8960-8508ee115a88",
   "metadata": {},
   "source": [
    "### Obtener los coeficientes del modelo y gráfica de la importacia de las categorías\n"
   ]
  },
  {
   "cell_type": "code",
   "execution_count": 179,
   "id": "fb292d6b-04af-4ab9-9977-3364855e2dc0",
   "metadata": {},
   "outputs": [
    {
     "data": {
      "image/png": "[encoded data removed]",
      "text/plain": [
       "<Figure size 640x480 with 1 Axes>"
      ]
     },
     "metadata": {},
     "output_type": "display_data"
    }
   ],
   "source": [
    "feature_importance = pd.DataFrame({'Característica': predictor_columns, 'Importancia': log_reg.coef_[0]})\n",
    "feature_importance = feature_importance.sort_values(by='Importancia', ascending=False)\n",
    "\n",
    "# Graficar la importancia\n",
    "plt.barh(feature_importance['Característica'], feature_importance['Importancia'])\n",
    "plt.title('Importancia de Características')\n",
    "plt.xlabel('Peso del Coeficiente')\n",
    "plt.ylabel('Característica')\n",
    "plt.grid(True)\n",
    "plt.show()\n"
   ]
  },
  {
   "cell_type": "markdown",
   "id": "96e91e02-c263-4b37-ad72-e707685d5dad",
   "metadata": {},
   "source": [
    "### Interpretación del gráfico:\n",
    "\n",
    "1. **Eje vertical (Características):** \n",
    "   - Las variables predictoras utilizadas en el modelo, como `balance_category`, `campaign`, `cluster`, etc.\n",
    "\n",
    "2. **Eje horizontal (Peso del Coeficiente):**\n",
    "   - Representa el impacto (positivo o negativo) de cada característica en la probabilidad de que un cliente acepte la oferta (clase `1`).\n",
    "   - **Pesos positivos:** Incrementan la probabilidad de que el cliente acepte.\n",
    "   - **Pesos negativos:** Disminuyen la probabilidad.\n",
    "\n",
    "### Observaciones clave:\n",
    "\n",
    "1. **`balance_category`:** \n",
    "   - Tiene el mayor impacto negativo. Esto significa que ciertas categorías de `balance_category` están asociadas con una menor probabilidad de aceptación. Podría tratarse de clientes con balances bajos o en deuda.\n",
    "\n",
    "2. **`campaign`:**\n",
    "   - Tiene un impacto negativo significativo, indicando que campañas con muchas interacciones (muchos contactos previos) disminuyen la probabilidad de aceptación. Esto podría ser debido al agotamiento del cliente por demasiados intentos.\n",
    "\n",
    "3. **`cluster`:**\n",
    "   - Tiene un peso positivo alto, lo que indica que ciertos grupos de clientes (definidos por el clustering) están fuertemente asociados con una mayor probabilidad de aceptar la oferta.\n",
    "\n",
    "4. **`previous`:**\n",
    "   - También contribuye positivamente. Esto tiene sentido, ya que clientes que interactuaron previamente con éxito tienen más probabilidades de aceptar.\n",
    "\n",
    "5. **Otras características (`age`, `balance`, `pdays`, `balance_to_age_ratio`):**\n",
    "   - Tienen menor impacto, pero aún son relevantes para las predicciones.\n",
    "\n",
    "\n",
    "### Relación con los objetivos del negocio:\n",
    "1. **Clientes con balances bajos o en deuda (`balance_category`) pueden necesitar estrategias diferentes:**\n",
    "   - Ofertas personalizadas que sean más atractivas para este grupo.\n",
    "   - Reducción de contactos en campañas para evitar saturar a clientes poco interesados.\n",
    "\n",
    "2. **Uso de clusters (`cluster`):**\n",
    "   - Refuerza la importancia del clustering como parte del modelo.\n",
    "   - Podría permitir segmentar clientes de alto interés para campañas dirigidas.\n",
    "\n",
    "3. **Clientes con interacciones previas exitosas (`previous`):**\n",
    "   - Son un grupo prioritario para campañas futuras, ya que tienen más probabilidad de aceptar.\n"
   ]
  },
  {
   "cell_type": "markdown",
   "id": "c2a441fc-b754-4119-ac25-b12d59e245ce",
   "metadata": {},
   "source": [
    "## Resultados del modelo:\n",
    "##### Matriz de Confusión:\n",
    "[840 335]: 840 predicciones correctas para la clase 0 (rechazaron el producto), 335 incorrectas (falsos positivos).\n",
    "[565 493]: 493 predicciones correctas para la clase 1 (aceptaron el producto), 565 incorrectas (falsos negativos).\n",
    "\n",
    "Precisión:\n",
    "Clase 0: 0.60 → El 60% de las predicciones positivas para esta clase fueron correctas.\n",
    "Clase 1: 0.60 → Igual para la clase positiva.\n",
    "\n",
    "Recall (Sensibilidad):\n",
    "Clase 0: 0.71 → El modelo identificó correctamente el 71% de los casos reales de la clase 0.\n",
    "Clase 1: 0.47 → El modelo identifica correctamente el 47% de los clientes interesados (menos falsos negativos)\n",
    "\n",
    "F1-Score:\n",
    "Clase 0: 0.65 → Balance aceptable entre precisión y recall para esta clase.\n",
    "Clase 1: 0.56 → El modelo necesita mejorar en esta clase.\n",
    "\n",
    "Accuracy (Exactitud): 0.60 → El 60% de las predicciones totales fueron correctas.\n",
    "\n",
    "### Interpretación:\n",
    "\n",
    "El modelo tiene un rendimiento razonable al identificar a los clientes que rechazarán la oferta (clase 0), con un recall de 52%.\n",
    "Este rendimiento puede ser útil para evitar gastar recursos en clientes con alta probabilidad de rechazo.\n",
    "\n",
    "#### Áreas de mejora:\n",
    "\n",
    "El modelo es menos efectivo para identificar a los clientes que aceptarán la oferta (clase 1), con un recall de 47%. Esto significa que muchos clientes interesados no están siendo detectados (falsos negativos).\n",
    "F1-Score para la clase 1 también indica que hay espacio para mejorar el balance entre precisión y recall.\n",
    "\n",
    "#### Decisiones estratégicas:\n",
    "Se puede buscar estrategías para fortalecer el modelo.Como se ve en el gráfico de AUC y curva ROC, se podría ajustar el hiperparámetro en la Regresiñon Logistia o explorara optimizar categoría 'balance_category'"
   ]
  }
 ],
 "metadata": {
  "kernelspec": {
   "display_name": "Python 3 (ipykernel)",
   "language": "python",
   "name": "python3"
  },
  "language_info": {
   "codemirror_mode": {
    "name": "ipython",
    "version": 3
   },
   "file_extension": ".py",
   "mimetype": "text/x-python",
   "name": "python",
   "nbconvert_exporter": "python",
   "pygments_lexer": "ipython3",
   "version": "3.12.7"
  }
 },
 "nbformat": 4,
 "nbformat_minor": 5
}
